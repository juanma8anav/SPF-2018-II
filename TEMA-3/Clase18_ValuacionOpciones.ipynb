{
 "cells": [
  {
   "cell_type": "markdown",
   "metadata": {},
   "source": [
    "<img style=\"float: right; margin: 0px 0px 15px 15px;\" src=\"https://encrypted-tbn0.gstatic.com/images?q=tbn:ANd9GcSQt6eQo8JPYzYO4p6WmxLtccdtJ4X8WR6GzVVKbsMjyGvUDEn1mg\" width=\"300px\" height=\"100px\" />\n",
    "\n",
    "# Trabajando con opciones"
   ]
  },
  {
   "cell_type": "markdown",
   "metadata": {},
   "source": [
    "Una opción puede negociarse en el mercado secundario por lo que es importante determinar su valor $V_t$ para cada tiempo $t\\in [0, T]$. La ganancia que obtiene quién adquiere la opción se llama función de pago o \"payoff\" y claramente depende del valor del subyacente. \n",
    "\n",
    "Hay una gran variedad de opciones en el mercado y éstas se clasiflcan según su función de pago y la forma en que pueden ejercerse.  Las opciones que tienen como función de pago a\n",
    "$$ P(S(t),t)=max\\{S(T)-K,0\\} \\rightarrow \\text{En el caso de Call}$$ \n",
    "$$ P(S(t),t)=max\\{K-S(T),0\\} \\rightarrow \\text{En el caso de Put}$$ \n",
    "se llaman opciones **Vainilla**, con $h:[0,\\infty) \\to [0,\\infty)$.\n",
    "\n",
    "La opción se llama **europea** si puede ejercerse sólo en la fecha de vencimiento.\n",
    "\n",
    "Se dice que una opción es **americana** si puede ejercerse en cualquier momento antes o en la fecha de vencimiento.\n",
    "\n",
    "Una opción compleja popular son las llamadas **opciones asiáticas** cuyos pagos dependen de todas las trayectorias del precio de los activos subyacentes. Las opciones cuyos pagos dependen de las trayectorias de los precios de los activos subyacentes se denominan opciones dependientes de la ruta.\n",
    "\n",
    "Principalmente, se puede resumir que las dos razones con más peso de importancia para utilizar opciones son el **aseguramiento** y la **especulación**.\n",
    "\n",
    "## Opciones Plan Vainilla: opción de compra y opción de venta europea\n",
    "\n",
    "Una opción vainilla o estándar es una opción normal de compra o venta que no tiene características especiales o inusuales. Puede ser para tamaños y vencimientos estandarizados, y negociarse en un intercambio.\n",
    "En comparación con otras estructuras de opciones, las opciones de vanilla no son sofisticadas o complicadas.\n"
   ]
  },
  {
   "cell_type": "markdown",
   "metadata": {},
   "source": [
    "## 1. ¿Cómo descargar datos de opciones?"
   ]
  },
  {
   "cell_type": "code",
   "execution_count": 1,
   "metadata": {},
   "outputs": [],
   "source": [
    "#importar los paquetes que se van a usar\n",
    "import pandas as pd\n",
    "import pandas_datareader.data as web\n",
    "import numpy as np\n",
    "import datetime\n",
    "import matplotlib.pyplot as plt\n",
    "import scipy.stats as st\n",
    "import seaborn as sns\n",
    "%matplotlib inline\n",
    "#algunas opciones para Pandas\n",
    "pd.set_option('display.notebook_repr_html', True)\n",
    "pd.set_option('display.max_columns', 6)\n",
    "pd.set_option('display.max_rows', 10)\n",
    "pd.set_option('display.width', 78)\n",
    "pd.set_option('precision', 3)"
   ]
  },
  {
   "cell_type": "markdown",
   "metadata": {},
   "source": [
    "Usando el paquete `pandas_datareader` también podemos descargar datos de opciones. Por ejemplo, descarguemos los datos de las opciones cuyo activo subyacente son las acciones de Apple"
   ]
  },
  {
   "cell_type": "code",
   "execution_count": 2,
   "metadata": {},
   "outputs": [
    {
     "data": {
      "text/html": [
       "<div>\n",
       "<style scoped>\n",
       "    .dataframe tbody tr th:only-of-type {\n",
       "        vertical-align: middle;\n",
       "    }\n",
       "\n",
       "    .dataframe tbody tr th {\n",
       "        vertical-align: top;\n",
       "    }\n",
       "\n",
       "    .dataframe thead th {\n",
       "        text-align: right;\n",
       "    }\n",
       "</style>\n",
       "<table border=\"1\" class=\"dataframe\">\n",
       "  <thead>\n",
       "    <tr style=\"text-align: right;\">\n",
       "      <th></th>\n",
       "      <th>Strike</th>\n",
       "      <th>Type</th>\n",
       "      <th>Symbol</th>\n",
       "      <th>...</th>\n",
       "      <th>Quote_Time</th>\n",
       "      <th>Last_Trade_Date</th>\n",
       "      <th>JSON</th>\n",
       "    </tr>\n",
       "    <tr>\n",
       "      <th>Expiry</th>\n",
       "      <th></th>\n",
       "      <th></th>\n",
       "      <th></th>\n",
       "      <th></th>\n",
       "      <th></th>\n",
       "      <th></th>\n",
       "      <th></th>\n",
       "    </tr>\n",
       "  </thead>\n",
       "  <tbody>\n",
       "    <tr>\n",
       "      <th>2018-11-16</th>\n",
       "      <td>2.5</td>\n",
       "      <td>call</td>\n",
       "      <td>AAPL181116C00002500</td>\n",
       "      <td>...</td>\n",
       "      <td>2018-10-29 20:00:01</td>\n",
       "      <td>2018-10-25 19:59:59</td>\n",
       "      <td>{'contractSymbol': 'AAPL181116C00002500', 'str...</td>\n",
       "    </tr>\n",
       "    <tr>\n",
       "      <th>2019-01-18</th>\n",
       "      <td>2.5</td>\n",
       "      <td>call</td>\n",
       "      <td>AAPL190118C00002500</td>\n",
       "      <td>...</td>\n",
       "      <td>2018-10-29 20:00:01</td>\n",
       "      <td>2018-10-15 19:47:03</td>\n",
       "      <td>{'contractSymbol': 'AAPL190118C00002500', 'str...</td>\n",
       "    </tr>\n",
       "    <tr>\n",
       "      <th>2019-04-18</th>\n",
       "      <td>2.5</td>\n",
       "      <td>call</td>\n",
       "      <td>AAPL190418C00002500</td>\n",
       "      <td>...</td>\n",
       "      <td>2018-10-29 20:00:01</td>\n",
       "      <td>2018-10-16 18:42:10</td>\n",
       "      <td>{'contractSymbol': 'AAPL190418C00002500', 'str...</td>\n",
       "    </tr>\n",
       "    <tr>\n",
       "      <th>2018-11-16</th>\n",
       "      <td>5.0</td>\n",
       "      <td>call</td>\n",
       "      <td>AAPL181116C00005000</td>\n",
       "      <td>...</td>\n",
       "      <td>2018-10-29 20:00:01</td>\n",
       "      <td>2018-10-16 18:40:53</td>\n",
       "      <td>{'contractSymbol': 'AAPL181116C00005000', 'str...</td>\n",
       "    </tr>\n",
       "    <tr>\n",
       "      <th>2019-01-18</th>\n",
       "      <td>5.0</td>\n",
       "      <td>call</td>\n",
       "      <td>AAPL190118C00005000</td>\n",
       "      <td>...</td>\n",
       "      <td>2018-10-29 20:00:01</td>\n",
       "      <td>2018-09-08 03:58:48</td>\n",
       "      <td>{'contractSymbol': 'AAPL190118C00005000', 'str...</td>\n",
       "    </tr>\n",
       "    <tr>\n",
       "      <th>...</th>\n",
       "      <td>...</td>\n",
       "      <td>...</td>\n",
       "      <td>...</td>\n",
       "      <td>...</td>\n",
       "      <td>...</td>\n",
       "      <td>...</td>\n",
       "      <td>...</td>\n",
       "    </tr>\n",
       "    <tr>\n",
       "      <th>2019-04-18</th>\n",
       "      <td>410.0</td>\n",
       "      <td>call</td>\n",
       "      <td>AAPL190418C00410000</td>\n",
       "      <td>...</td>\n",
       "      <td>2018-10-29 20:00:01</td>\n",
       "      <td>2018-10-18 15:46:39</td>\n",
       "      <td>{'contractSymbol': 'AAPL190418C00410000', 'str...</td>\n",
       "    </tr>\n",
       "    <tr>\n",
       "      <th>2019-04-18</th>\n",
       "      <td>420.0</td>\n",
       "      <td>call</td>\n",
       "      <td>AAPL190418C00420000</td>\n",
       "      <td>...</td>\n",
       "      <td>2018-10-29 20:00:01</td>\n",
       "      <td>2018-10-26 14:59:37</td>\n",
       "      <td>{'contractSymbol': 'AAPL190418C00420000', 'str...</td>\n",
       "    </tr>\n",
       "    <tr>\n",
       "      <th>2019-04-18</th>\n",
       "      <td>425.0</td>\n",
       "      <td>call</td>\n",
       "      <td>AAPL190418C00425000</td>\n",
       "      <td>...</td>\n",
       "      <td>2018-10-29 20:00:01</td>\n",
       "      <td>2018-10-26 18:21:59</td>\n",
       "      <td>{'contractSymbol': 'AAPL190418C00425000', 'str...</td>\n",
       "    </tr>\n",
       "    <tr>\n",
       "      <th>2019-04-18</th>\n",
       "      <td>425.0</td>\n",
       "      <td>put</td>\n",
       "      <td>AAPL190418P00425000</td>\n",
       "      <td>...</td>\n",
       "      <td>2018-10-29 20:00:01</td>\n",
       "      <td>2018-10-29 19:49:02</td>\n",
       "      <td>{'contractSymbol': 'AAPL190418P00425000', 'str...</td>\n",
       "    </tr>\n",
       "    <tr>\n",
       "      <th>2018-11-16</th>\n",
       "      <td>440.0</td>\n",
       "      <td>call</td>\n",
       "      <td>AAPL181116C00440000</td>\n",
       "      <td>...</td>\n",
       "      <td>2018-10-29 20:00:01</td>\n",
       "      <td>2018-10-16 18:40:53</td>\n",
       "      <td>{'contractSymbol': 'AAPL181116C00440000', 'str...</td>\n",
       "    </tr>\n",
       "  </tbody>\n",
       "</table>\n",
       "<p>1056 rows × 18 columns</p>\n",
       "</div>"
      ],
      "text/plain": [
       "            Strike  Type               Symbol  \\\n",
       "Expiry                                          \n",
       "2018-11-16     2.5  call  AAPL181116C00002500   \n",
       "2019-01-18     2.5  call  AAPL190118C00002500   \n",
       "2019-04-18     2.5  call  AAPL190418C00002500   \n",
       "2018-11-16     5.0  call  AAPL181116C00005000   \n",
       "2019-01-18     5.0  call  AAPL190118C00005000   \n",
       "...            ...   ...                  ...   \n",
       "2019-04-18   410.0  call  AAPL190418C00410000   \n",
       "2019-04-18   420.0  call  AAPL190418C00420000   \n",
       "2019-04-18   425.0  call  AAPL190418C00425000   \n",
       "2019-04-18   425.0   put  AAPL190418P00425000   \n",
       "2018-11-16   440.0  call  AAPL181116C00440000   \n",
       "\n",
       "                                  ...                          \\\n",
       "Expiry                            ...                           \n",
       "2018-11-16                        ...                           \n",
       "2019-01-18                        ...                           \n",
       "2019-04-18                        ...                           \n",
       "2018-11-16                        ...                           \n",
       "2019-01-18                        ...                           \n",
       "...                               ...                           \n",
       "2019-04-18                        ...                           \n",
       "2019-04-18                        ...                           \n",
       "2019-04-18                        ...                           \n",
       "2019-04-18                        ...                           \n",
       "2018-11-16                        ...                           \n",
       "\n",
       "                    Quote_Time     Last_Trade_Date  \\\n",
       "Expiry                                               \n",
       "2018-11-16 2018-10-29 20:00:01 2018-10-25 19:59:59   \n",
       "2019-01-18 2018-10-29 20:00:01 2018-10-15 19:47:03   \n",
       "2019-04-18 2018-10-29 20:00:01 2018-10-16 18:42:10   \n",
       "2018-11-16 2018-10-29 20:00:01 2018-10-16 18:40:53   \n",
       "2019-01-18 2018-10-29 20:00:01 2018-09-08 03:58:48   \n",
       "...                        ...                 ...   \n",
       "2019-04-18 2018-10-29 20:00:01 2018-10-18 15:46:39   \n",
       "2019-04-18 2018-10-29 20:00:01 2018-10-26 14:59:37   \n",
       "2019-04-18 2018-10-29 20:00:01 2018-10-26 18:21:59   \n",
       "2019-04-18 2018-10-29 20:00:01 2018-10-29 19:49:02   \n",
       "2018-11-16 2018-10-29 20:00:01 2018-10-16 18:40:53   \n",
       "\n",
       "                                                         JSON  \n",
       "Expiry                                                         \n",
       "2018-11-16  {'contractSymbol': 'AAPL181116C00002500', 'str...  \n",
       "2019-01-18  {'contractSymbol': 'AAPL190118C00002500', 'str...  \n",
       "2019-04-18  {'contractSymbol': 'AAPL190418C00002500', 'str...  \n",
       "2018-11-16  {'contractSymbol': 'AAPL181116C00005000', 'str...  \n",
       "2019-01-18  {'contractSymbol': 'AAPL190118C00005000', 'str...  \n",
       "...                                                       ...  \n",
       "2019-04-18  {'contractSymbol': 'AAPL190418C00410000', 'str...  \n",
       "2019-04-18  {'contractSymbol': 'AAPL190418C00420000', 'str...  \n",
       "2019-04-18  {'contractSymbol': 'AAPL190418C00425000', 'str...  \n",
       "2019-04-18  {'contractSymbol': 'AAPL190418P00425000', 'str...  \n",
       "2018-11-16  {'contractSymbol': 'AAPL181116C00440000', 'str...  \n",
       "\n",
       "[1056 rows x 18 columns]"
      ]
     },
     "execution_count": 2,
     "metadata": {},
     "output_type": "execute_result"
    }
   ],
   "source": [
    "aapl = web.YahooOptions('AAPL')\n",
    "aapl_opt = aapl.get_all_data().reset_index()\n",
    "aapl_opt.set_index('Expiry')\n",
    "# aapl\n",
    "# closes = web.YahooDailyReader(ticker, start_date, end_date).read().sort_index('major_axis')"
   ]
  },
  {
   "cell_type": "code",
   "execution_count": 3,
   "metadata": {},
   "outputs": [
    {
     "data": {
      "text/plain": [
       "{'contractSymbol': 'AAPL181221P00135000',\n",
       " 'strike': 135.0,\n",
       " 'currency': 'USD',\n",
       " 'lastPrice': 0.13,\n",
       " 'change': -0.060000002,\n",
       " 'percentChange': -31.578949,\n",
       " 'volume': 101,\n",
       " 'openInterest': 1043,\n",
       " 'bid': 0.19,\n",
       " 'ask': 0.4,\n",
       " 'contractSize': 'REGULAR',\n",
       " 'expiration': 1545350400,\n",
       " 'lastTradeDate': 1540824706,\n",
       " 'impliedVolatility': 0.5795940478515625,\n",
       " 'inTheMoney': False}"
      ]
     },
     "execution_count": 3,
     "metadata": {},
     "output_type": "execute_result"
    }
   ],
   "source": [
    "# aapl_opt.loc[0, 'JSON']\n",
    "aapl_opt.loc[200, 'JSON']"
   ]
  },
  {
   "cell_type": "markdown",
   "metadata": {},
   "source": [
    "Una vez tenemos la información, podemos consultar de qué tipo son las opciones"
   ]
  },
  {
   "cell_type": "code",
   "execution_count": 4,
   "metadata": {},
   "outputs": [
    {
     "data": {
      "text/plain": [
       "0       call\n",
       "1       call\n",
       "2       call\n",
       "3       call\n",
       "4       call\n",
       "        ... \n",
       "1051    call\n",
       "1052    call\n",
       "1053    call\n",
       "1054     put\n",
       "1055    call\n",
       "Name: Type, Length: 1056, dtype: object"
      ]
     },
     "execution_count": 4,
     "metadata": {},
     "output_type": "execute_result"
    }
   ],
   "source": [
    "aapl_opt.loc[:, 'Type']"
   ]
  },
  {
   "cell_type": "markdown",
   "metadata": {},
   "source": [
    "o en que fecha expiran"
   ]
  },
  {
   "cell_type": "code",
   "execution_count": 5,
   "metadata": {},
   "outputs": [
    {
     "data": {
      "text/plain": [
       "0      2018-11-16\n",
       "1      2019-01-18\n",
       "2      2019-04-18\n",
       "3      2018-11-16\n",
       "4      2019-01-18\n",
       "          ...    \n",
       "1051   2019-04-18\n",
       "1052   2019-04-18\n",
       "1053   2019-04-18\n",
       "1054   2019-04-18\n",
       "1055   2018-11-16\n",
       "Name: Expiry, Length: 1056, dtype: datetime64[ns]"
      ]
     },
     "execution_count": 5,
     "metadata": {},
     "output_type": "execute_result"
    }
   ],
   "source": [
    "aapl_opt.loc[:, 'Expiry']"
   ]
  },
  {
   "cell_type": "markdown",
   "metadata": {},
   "source": [
    "Por otra parte, podríamos querer consultar todas las opciones de compra (call) que expiran en cierta fecha (2019-04-18)"
   ]
  },
  {
   "cell_type": "code",
   "execution_count": 6,
   "metadata": {},
   "outputs": [
    {
     "data": {
      "text/html": [
       "<div>\n",
       "<style scoped>\n",
       "    .dataframe tbody tr th:only-of-type {\n",
       "        vertical-align: middle;\n",
       "    }\n",
       "\n",
       "    .dataframe tbody tr th {\n",
       "        vertical-align: top;\n",
       "    }\n",
       "\n",
       "    .dataframe thead th {\n",
       "        text-align: right;\n",
       "    }\n",
       "</style>\n",
       "<table border=\"1\" class=\"dataframe\">\n",
       "  <thead>\n",
       "    <tr style=\"text-align: right;\">\n",
       "      <th></th>\n",
       "      <th>Strike</th>\n",
       "      <th>Expiry</th>\n",
       "      <th>Type</th>\n",
       "      <th>...</th>\n",
       "      <th>Quote_Time</th>\n",
       "      <th>Last_Trade_Date</th>\n",
       "      <th>JSON</th>\n",
       "    </tr>\n",
       "  </thead>\n",
       "  <tbody>\n",
       "    <tr>\n",
       "      <th>2</th>\n",
       "      <td>2.5</td>\n",
       "      <td>2019-04-18</td>\n",
       "      <td>call</td>\n",
       "      <td>...</td>\n",
       "      <td>2018-10-29 20:00:01</td>\n",
       "      <td>2018-10-16 18:42:10</td>\n",
       "      <td>{'contractSymbol': 'AAPL190418C00002500', 'str...</td>\n",
       "    </tr>\n",
       "    <tr>\n",
       "      <th>32</th>\n",
       "      <td>60.0</td>\n",
       "      <td>2019-04-18</td>\n",
       "      <td>call</td>\n",
       "      <td>...</td>\n",
       "      <td>2018-10-29 20:00:01</td>\n",
       "      <td>2018-10-16 18:42:17</td>\n",
       "      <td>{'contractSymbol': 'AAPL190418C00060000', 'str...</td>\n",
       "    </tr>\n",
       "    <tr>\n",
       "      <th>37</th>\n",
       "      <td>65.0</td>\n",
       "      <td>2019-04-18</td>\n",
       "      <td>call</td>\n",
       "      <td>...</td>\n",
       "      <td>2018-10-29 20:00:01</td>\n",
       "      <td>2018-10-16 18:42:17</td>\n",
       "      <td>{'contractSymbol': 'AAPL190418C00065000', 'str...</td>\n",
       "    </tr>\n",
       "    <tr>\n",
       "      <th>81</th>\n",
       "      <td>95.0</td>\n",
       "      <td>2019-04-18</td>\n",
       "      <td>call</td>\n",
       "      <td>...</td>\n",
       "      <td>2018-10-29 20:00:01</td>\n",
       "      <td>2018-10-16 18:42:18</td>\n",
       "      <td>{'contractSymbol': 'AAPL190418C00095000', 'str...</td>\n",
       "    </tr>\n",
       "    <tr>\n",
       "      <th>97</th>\n",
       "      <td>100.0</td>\n",
       "      <td>2019-04-18</td>\n",
       "      <td>call</td>\n",
       "      <td>...</td>\n",
       "      <td>2018-10-29 20:00:01</td>\n",
       "      <td>2018-10-08 15:25:47</td>\n",
       "      <td>{'contractSymbol': 'AAPL190418C00100000', 'str...</td>\n",
       "    </tr>\n",
       "    <tr>\n",
       "      <th>...</th>\n",
       "      <td>...</td>\n",
       "      <td>...</td>\n",
       "      <td>...</td>\n",
       "      <td>...</td>\n",
       "      <td>...</td>\n",
       "      <td>...</td>\n",
       "      <td>...</td>\n",
       "    </tr>\n",
       "    <tr>\n",
       "      <th>1049</th>\n",
       "      <td>400.0</td>\n",
       "      <td>2019-04-18</td>\n",
       "      <td>call</td>\n",
       "      <td>...</td>\n",
       "      <td>2018-10-29 20:00:01</td>\n",
       "      <td>2018-10-19 13:30:00</td>\n",
       "      <td>{'contractSymbol': 'AAPL190418C00400000', 'str...</td>\n",
       "    </tr>\n",
       "    <tr>\n",
       "      <th>1050</th>\n",
       "      <td>405.0</td>\n",
       "      <td>2019-04-18</td>\n",
       "      <td>call</td>\n",
       "      <td>...</td>\n",
       "      <td>2018-10-29 20:00:01</td>\n",
       "      <td>2018-10-16 18:42:16</td>\n",
       "      <td>{'contractSymbol': 'AAPL190418C00405000', 'str...</td>\n",
       "    </tr>\n",
       "    <tr>\n",
       "      <th>1051</th>\n",
       "      <td>410.0</td>\n",
       "      <td>2019-04-18</td>\n",
       "      <td>call</td>\n",
       "      <td>...</td>\n",
       "      <td>2018-10-29 20:00:01</td>\n",
       "      <td>2018-10-18 15:46:39</td>\n",
       "      <td>{'contractSymbol': 'AAPL190418C00410000', 'str...</td>\n",
       "    </tr>\n",
       "    <tr>\n",
       "      <th>1052</th>\n",
       "      <td>420.0</td>\n",
       "      <td>2019-04-18</td>\n",
       "      <td>call</td>\n",
       "      <td>...</td>\n",
       "      <td>2018-10-29 20:00:01</td>\n",
       "      <td>2018-10-26 14:59:37</td>\n",
       "      <td>{'contractSymbol': 'AAPL190418C00420000', 'str...</td>\n",
       "    </tr>\n",
       "    <tr>\n",
       "      <th>1053</th>\n",
       "      <td>425.0</td>\n",
       "      <td>2019-04-18</td>\n",
       "      <td>call</td>\n",
       "      <td>...</td>\n",
       "      <td>2018-10-29 20:00:01</td>\n",
       "      <td>2018-10-26 18:21:59</td>\n",
       "      <td>{'contractSymbol': 'AAPL190418C00425000', 'str...</td>\n",
       "    </tr>\n",
       "  </tbody>\n",
       "</table>\n",
       "<p>66 rows × 19 columns</p>\n",
       "</div>"
      ],
      "text/plain": [
       "      Strike     Expiry  Type  \\\n",
       "2        2.5 2019-04-18  call   \n",
       "32      60.0 2019-04-18  call   \n",
       "37      65.0 2019-04-18  call   \n",
       "81      95.0 2019-04-18  call   \n",
       "97     100.0 2019-04-18  call   \n",
       "...      ...        ...   ...   \n",
       "1049   400.0 2019-04-18  call   \n",
       "1050   405.0 2019-04-18  call   \n",
       "1051   410.0 2019-04-18  call   \n",
       "1052   420.0 2019-04-18  call   \n",
       "1053   425.0 2019-04-18  call   \n",
       "\n",
       "                            ...                                  Quote_Time  \\\n",
       "2                           ...                         2018-10-29 20:00:01   \n",
       "32                          ...                         2018-10-29 20:00:01   \n",
       "37                          ...                         2018-10-29 20:00:01   \n",
       "81                          ...                         2018-10-29 20:00:01   \n",
       "97                          ...                         2018-10-29 20:00:01   \n",
       "...                         ...                                         ...   \n",
       "1049                        ...                         2018-10-29 20:00:01   \n",
       "1050                        ...                         2018-10-29 20:00:01   \n",
       "1051                        ...                         2018-10-29 20:00:01   \n",
       "1052                        ...                         2018-10-29 20:00:01   \n",
       "1053                        ...                         2018-10-29 20:00:01   \n",
       "\n",
       "         Last_Trade_Date                                               JSON  \n",
       "2    2018-10-16 18:42:10  {'contractSymbol': 'AAPL190418C00002500', 'str...  \n",
       "32   2018-10-16 18:42:17  {'contractSymbol': 'AAPL190418C00060000', 'str...  \n",
       "37   2018-10-16 18:42:17  {'contractSymbol': 'AAPL190418C00065000', 'str...  \n",
       "81   2018-10-16 18:42:18  {'contractSymbol': 'AAPL190418C00095000', 'str...  \n",
       "97   2018-10-08 15:25:47  {'contractSymbol': 'AAPL190418C00100000', 'str...  \n",
       "...                  ...                                                ...  \n",
       "1049 2018-10-19 13:30:00  {'contractSymbol': 'AAPL190418C00400000', 'str...  \n",
       "1050 2018-10-16 18:42:16  {'contractSymbol': 'AAPL190418C00405000', 'str...  \n",
       "1051 2018-10-18 15:46:39  {'contractSymbol': 'AAPL190418C00410000', 'str...  \n",
       "1052 2018-10-26 14:59:37  {'contractSymbol': 'AAPL190418C00420000', 'str...  \n",
       "1053 2018-10-26 18:21:59  {'contractSymbol': 'AAPL190418C00425000', 'str...  \n",
       "\n",
       "[66 rows x 19 columns]"
      ]
     },
     "execution_count": 6,
     "metadata": {},
     "output_type": "execute_result"
    }
   ],
   "source": [
    "call06 = aapl_opt.loc[(aapl_opt.Expiry=='2019-04-18') & (aapl_opt.Type=='call')]\n",
    "call06"
   ]
  },
  {
   "cell_type": "markdown",
   "metadata": {},
   "source": [
    "## 2. ¿Qué es la volatilidad implícita?"
   ]
  },
  {
   "cell_type": "markdown",
   "metadata": {},
   "source": [
    "**Volatilidad:** desviación estándar de los rendimientos.\n",
    "- ¿Cómo se calcula?\n",
    "- ¿Para qué calcular la volatilidad?"
   ]
  },
  {
   "attachments": {
    "imagen.png": {
     "image/png": "[encoded data removed]"
    }
   },
   "cell_type": "markdown",
   "metadata": {},
   "source": [
    "- **Para valuar derivados**, por ejemplo **opciones**.\n",
    "- Método de valuación de riesgo neutral (se supone que el precio del activo $S_t$ no se ve afectado por el riesgo de mercado).\n",
    "\n",
    "Recorderis de cuantitativas:\n",
    "1. Ecuación de Black-Scholes\n",
    "$$ dS(t) = \\mu S(t) + \\sigma S(t)dW_t$$\n",
    "2. Solución de la ecuación\n",
    "\n",
    "El valor de una opción Europea de vainilla $V_t$ puede obtenerse por:\n",
    "$$V_t = F(t,S_t)$$ donde\n",
    "![imagen.png](attachment:imagen.png)\n",
    "3. Opción de compra europea, suponiendo que los precios del activo son lognormales\n",
    "4. Opción de venta europea, suponiendo que los precios del activo son lognormales"
   ]
  },
  {
   "cell_type": "markdown",
   "metadata": {},
   "source": [
    "Entonces, ¿qué es la **volatilidad implícita**?\n",
    "\n",
    "La volatilidad es una medida de la incertidumbre sobre el comportamiento futuro de un activo, que se mide habitualmente como la desviación típica de la rentabilidad de dicho activo. "
   ]
  },
  {
   "cell_type": "code",
   "execution_count": 7,
   "metadata": {},
   "outputs": [
    {
     "data": {
      "image/png": "[encoded data removed]",
      "text/plain": [
       "<Figure size 576x432 with 1 Axes>"
      ]
     },
     "metadata": {},
     "output_type": "display_data"
    }
   ],
   "source": [
    "ax = call06.set_index('Strike').loc[:, 'IV'].plot(figsize=(8,6))\n",
    "ax.axvline(call06.Underlying_Price.iloc[0], color='g');\n",
    "# call06.Underlying_Price"
   ]
  },
  {
   "cell_type": "code",
   "execution_count": 8,
   "metadata": {},
   "outputs": [
    {
     "data": {
      "text/html": [
       "<div>\n",
       "<style scoped>\n",
       "    .dataframe tbody tr th:only-of-type {\n",
       "        vertical-align: middle;\n",
       "    }\n",
       "\n",
       "    .dataframe tbody tr th {\n",
       "        vertical-align: top;\n",
       "    }\n",
       "\n",
       "    .dataframe thead th {\n",
       "        text-align: right;\n",
       "    }\n",
       "</style>\n",
       "<table border=\"1\" class=\"dataframe\">\n",
       "  <thead>\n",
       "    <tr style=\"text-align: right;\">\n",
       "      <th></th>\n",
       "      <th>Strike</th>\n",
       "      <th>Expiry</th>\n",
       "      <th>Type</th>\n",
       "      <th>...</th>\n",
       "      <th>Quote_Time</th>\n",
       "      <th>Last_Trade_Date</th>\n",
       "      <th>JSON</th>\n",
       "    </tr>\n",
       "  </thead>\n",
       "  <tbody>\n",
       "    <tr>\n",
       "      <th>22</th>\n",
       "      <td>50.0</td>\n",
       "      <td>2019-04-18</td>\n",
       "      <td>put</td>\n",
       "      <td>...</td>\n",
       "      <td>2018-10-29 20:00:01</td>\n",
       "      <td>2018-10-16 18:42:46</td>\n",
       "      <td>{'contractSymbol': 'AAPL190418P00050000', 'str...</td>\n",
       "    </tr>\n",
       "    <tr>\n",
       "      <th>27</th>\n",
       "      <td>55.0</td>\n",
       "      <td>2019-04-18</td>\n",
       "      <td>put</td>\n",
       "      <td>...</td>\n",
       "      <td>2018-10-29 20:00:01</td>\n",
       "      <td>2018-10-16 18:42:46</td>\n",
       "      <td>{'contractSymbol': 'AAPL190418P00055000', 'str...</td>\n",
       "    </tr>\n",
       "    <tr>\n",
       "      <th>38</th>\n",
       "      <td>65.0</td>\n",
       "      <td>2019-04-18</td>\n",
       "      <td>put</td>\n",
       "      <td>...</td>\n",
       "      <td>2018-10-29 20:00:01</td>\n",
       "      <td>2018-10-16 18:42:46</td>\n",
       "      <td>{'contractSymbol': 'AAPL190418P00065000', 'str...</td>\n",
       "    </tr>\n",
       "    <tr>\n",
       "      <th>44</th>\n",
       "      <td>70.0</td>\n",
       "      <td>2019-04-18</td>\n",
       "      <td>put</td>\n",
       "      <td>...</td>\n",
       "      <td>2018-10-29 20:00:01</td>\n",
       "      <td>2018-10-16 18:42:47</td>\n",
       "      <td>{'contractSymbol': 'AAPL190418P00070000', 'str...</td>\n",
       "    </tr>\n",
       "    <tr>\n",
       "      <th>55</th>\n",
       "      <td>80.0</td>\n",
       "      <td>2019-04-18</td>\n",
       "      <td>put</td>\n",
       "      <td>...</td>\n",
       "      <td>2018-10-29 20:00:01</td>\n",
       "      <td>2018-10-16 18:42:47</td>\n",
       "      <td>{'contractSymbol': 'AAPL190418P00080000', 'str...</td>\n",
       "    </tr>\n",
       "    <tr>\n",
       "      <th>...</th>\n",
       "      <td>...</td>\n",
       "      <td>...</td>\n",
       "      <td>...</td>\n",
       "      <td>...</td>\n",
       "      <td>...</td>\n",
       "      <td>...</td>\n",
       "      <td>...</td>\n",
       "    </tr>\n",
       "    <tr>\n",
       "      <th>949</th>\n",
       "      <td>300.0</td>\n",
       "      <td>2019-04-18</td>\n",
       "      <td>put</td>\n",
       "      <td>...</td>\n",
       "      <td>2018-10-29 20:00:01</td>\n",
       "      <td>2018-10-08 13:45:48</td>\n",
       "      <td>{'contractSymbol': 'AAPL190418P00300000', 'str...</td>\n",
       "    </tr>\n",
       "    <tr>\n",
       "      <th>994</th>\n",
       "      <td>325.0</td>\n",
       "      <td>2019-04-18</td>\n",
       "      <td>put</td>\n",
       "      <td>...</td>\n",
       "      <td>2018-10-29 20:00:01</td>\n",
       "      <td>2018-10-16 18:42:43</td>\n",
       "      <td>{'contractSymbol': 'AAPL190418P00325000', 'str...</td>\n",
       "    </tr>\n",
       "    <tr>\n",
       "      <th>999</th>\n",
       "      <td>330.0</td>\n",
       "      <td>2019-04-18</td>\n",
       "      <td>put</td>\n",
       "      <td>...</td>\n",
       "      <td>2018-10-29 20:00:01</td>\n",
       "      <td>2018-09-08 03:44:29</td>\n",
       "      <td>{'contractSymbol': 'AAPL190418P00330000', 'str...</td>\n",
       "    </tr>\n",
       "    <tr>\n",
       "      <th>1026</th>\n",
       "      <td>350.0</td>\n",
       "      <td>2019-04-18</td>\n",
       "      <td>put</td>\n",
       "      <td>...</td>\n",
       "      <td>2018-10-29 20:00:01</td>\n",
       "      <td>2018-10-16 18:42:44</td>\n",
       "      <td>{'contractSymbol': 'AAPL190418P00350000', 'str...</td>\n",
       "    </tr>\n",
       "    <tr>\n",
       "      <th>1054</th>\n",
       "      <td>425.0</td>\n",
       "      <td>2019-04-18</td>\n",
       "      <td>put</td>\n",
       "      <td>...</td>\n",
       "      <td>2018-10-29 20:00:01</td>\n",
       "      <td>2018-10-29 19:49:02</td>\n",
       "      <td>{'contractSymbol': 'AAPL190418P00425000', 'str...</td>\n",
       "    </tr>\n",
       "  </tbody>\n",
       "</table>\n",
       "<p>52 rows × 19 columns</p>\n",
       "</div>"
      ],
      "text/plain": [
       "      Strike     Expiry Type  \\\n",
       "22      50.0 2019-04-18  put   \n",
       "27      55.0 2019-04-18  put   \n",
       "38      65.0 2019-04-18  put   \n",
       "44      70.0 2019-04-18  put   \n",
       "55      80.0 2019-04-18  put   \n",
       "...      ...        ...  ...   \n",
       "949    300.0 2019-04-18  put   \n",
       "994    325.0 2019-04-18  put   \n",
       "999    330.0 2019-04-18  put   \n",
       "1026   350.0 2019-04-18  put   \n",
       "1054   425.0 2019-04-18  put   \n",
       "\n",
       "                            ...                                  Quote_Time  \\\n",
       "22                          ...                         2018-10-29 20:00:01   \n",
       "27                          ...                         2018-10-29 20:00:01   \n",
       "38                          ...                         2018-10-29 20:00:01   \n",
       "44                          ...                         2018-10-29 20:00:01   \n",
       "55                          ...                         2018-10-29 20:00:01   \n",
       "...                         ...                                         ...   \n",
       "949                         ...                         2018-10-29 20:00:01   \n",
       "994                         ...                         2018-10-29 20:00:01   \n",
       "999                         ...                         2018-10-29 20:00:01   \n",
       "1026                        ...                         2018-10-29 20:00:01   \n",
       "1054                        ...                         2018-10-29 20:00:01   \n",
       "\n",
       "         Last_Trade_Date                                               JSON  \n",
       "22   2018-10-16 18:42:46  {'contractSymbol': 'AAPL190418P00050000', 'str...  \n",
       "27   2018-10-16 18:42:46  {'contractSymbol': 'AAPL190418P00055000', 'str...  \n",
       "38   2018-10-16 18:42:46  {'contractSymbol': 'AAPL190418P00065000', 'str...  \n",
       "44   2018-10-16 18:42:47  {'contractSymbol': 'AAPL190418P00070000', 'str...  \n",
       "55   2018-10-16 18:42:47  {'contractSymbol': 'AAPL190418P00080000', 'str...  \n",
       "...                  ...                                                ...  \n",
       "949  2018-10-08 13:45:48  {'contractSymbol': 'AAPL190418P00300000', 'str...  \n",
       "994  2018-10-16 18:42:43  {'contractSymbol': 'AAPL190418P00325000', 'str...  \n",
       "999  2018-09-08 03:44:29  {'contractSymbol': 'AAPL190418P00330000', 'str...  \n",
       "1026 2018-10-16 18:42:44  {'contractSymbol': 'AAPL190418P00350000', 'str...  \n",
       "1054 2018-10-29 19:49:02  {'contractSymbol': 'AAPL190418P00425000', 'str...  \n",
       "\n",
       "[52 rows x 19 columns]"
      ]
     },
     "execution_count": 8,
     "metadata": {},
     "output_type": "execute_result"
    }
   ],
   "source": [
    "put06 = aapl_opt.loc[(aapl_opt.Expiry=='2019-04-18') & (aapl_opt.Type=='put')]\n",
    "put06"
   ]
  },
  {
   "cell_type": "code",
   "execution_count": 9,
   "metadata": {},
   "outputs": [
    {
     "data": {
      "text/plain": [
       "<matplotlib.lines.Line2D at 0x151985deba8>"
      ]
     },
     "execution_count": 9,
     "metadata": {},
     "output_type": "execute_result"
    },
    {
     "data": {
      "image/png": "[encoded data removed]",
      "text/plain": [
       "<Figure size 576x432 with 1 Axes>"
      ]
     },
     "metadata": {},
     "output_type": "display_data"
    }
   ],
   "source": [
    "ax = put06.set_index('Strike').loc[:, 'IV'].plot(figsize=(8,6))\n",
    "ax.axvline(put06.Underlying_Price.iloc[0], color='g')"
   ]
  },
  {
   "cell_type": "markdown",
   "metadata": {},
   "source": [
    "Con lo que hemos aprendido, deberíamos ser capaces de crear una función que nos devuelva un `DataFrame` de `pandas` con los precios de cierre ajustados de ciertas compañías en ciertas fechas:\n",
    "- Escribir la función a continuación"
   ]
  },
  {
   "cell_type": "code",
   "execution_count": 10,
   "metadata": {},
   "outputs": [],
   "source": [
    "# Función para descargar precios de cierre ajustados de varios activos a la vez:\n",
    "def get_historical_closes(tickers, start_date=None, end_date=None, freq=None):\n",
    "    # Fecha inicio por defecto (start_date='2010-01-01') y fecha fin por defecto (end_date=today)\n",
    "    # Frecuencia de muestreo por defecto (freq='d')\n",
    "    # Importamos paquetes necesarios\n",
    "    import pandas as pd\n",
    "    pd.core.common.is_list_like = pd.api.types.is_list_like\n",
    "    import pandas_datareader.data as web  \n",
    "    # Creamos DataFrame vacío de precios, con el índice de las fechas\n",
    "    closes = pd.DataFrame(columns = tickers, index=web.YahooDailyReader(symbols=tickers[0], start=start_date, end=end_date, interval=freq).read().index)\n",
    "    # Agregamos cada uno de los precios con YahooDailyReader\n",
    "    for ticker in tickers:\n",
    "        df = web.YahooDailyReader(symbols=ticker, start=start_date, end=end_date, interval=freq).read()\n",
    "        closes[ticker]=df['Adj Close']\n",
    "    closes.index_name = 'Date'\n",
    "    closes = closes.sort_index()\n",
    "    return closes"
   ]
  },
  {
   "cell_type": "markdown",
   "metadata": {},
   "source": [
    "- Obtener como ejemplo los precios de cierre de Apple del año pasado hasta la fecha. Graficar..."
   ]
  },
  {
   "cell_type": "code",
   "execution_count": 11,
   "metadata": {},
   "outputs": [
    {
     "data": {
      "image/png": "[encoded data removed]",
      "text/plain": [
       "<Figure size 576x360 with 1 Axes>"
      ]
     },
     "metadata": {},
     "output_type": "display_data"
    }
   ],
   "source": [
    "ticker = ['AAPL']\n",
    "start_date = '2017-01-01'\n",
    "\n",
    "closes_aapl = get_historical_closes(ticker, start_date,freq='d')\n",
    "closes_aapl.plot(figsize=(8,5));\n",
    "plt.legend(ticker);"
   ]
  },
  {
   "cell_type": "markdown",
   "metadata": {},
   "source": [
    "- Escribir una función que pasándole el histórico de precios devuelva los rendimientos logarítmicos:"
   ]
  },
  {
   "cell_type": "code",
   "execution_count": 12,
   "metadata": {},
   "outputs": [],
   "source": [
    "def calc_daily_ret(closes):\n",
    "    return np.log(closes/closes.shift(1)).iloc[1:]"
   ]
  },
  {
   "cell_type": "markdown",
   "metadata": {},
   "source": [
    "- Graficar..."
   ]
  },
  {
   "cell_type": "code",
   "execution_count": 13,
   "metadata": {},
   "outputs": [
    {
     "data": {
      "image/png": "[encoded data removed]",
      "text/plain": [
       "<Figure size 576x432 with 1 Axes>"
      ]
     },
     "metadata": {},
     "output_type": "display_data"
    }
   ],
   "source": [
    "ret_aapl = calc_daily_ret(closes_aapl)\n",
    "ret_aapl.plot(figsize=(8,6));"
   ]
  },
  {
   "cell_type": "markdown",
   "metadata": {},
   "source": [
    "También, descargar datos de opciones de Apple:"
   ]
  },
  {
   "cell_type": "code",
   "execution_count": 14,
   "metadata": {
    "scrolled": false
   },
   "outputs": [
    {
     "data": {
      "text/html": [
       "<div>\n",
       "<style scoped>\n",
       "    .dataframe tbody tr th:only-of-type {\n",
       "        vertical-align: middle;\n",
       "    }\n",
       "\n",
       "    .dataframe tbody tr th {\n",
       "        vertical-align: top;\n",
       "    }\n",
       "\n",
       "    .dataframe thead th {\n",
       "        text-align: right;\n",
       "    }\n",
       "</style>\n",
       "<table border=\"1\" class=\"dataframe\">\n",
       "  <thead>\n",
       "    <tr style=\"text-align: right;\">\n",
       "      <th></th>\n",
       "      <th>Strike</th>\n",
       "      <th>Type</th>\n",
       "      <th>Symbol</th>\n",
       "      <th>...</th>\n",
       "      <th>Quote_Time</th>\n",
       "      <th>Last_Trade_Date</th>\n",
       "      <th>JSON</th>\n",
       "    </tr>\n",
       "    <tr>\n",
       "      <th>Expiry</th>\n",
       "      <th></th>\n",
       "      <th></th>\n",
       "      <th></th>\n",
       "      <th></th>\n",
       "      <th></th>\n",
       "      <th></th>\n",
       "      <th></th>\n",
       "    </tr>\n",
       "  </thead>\n",
       "  <tbody>\n",
       "    <tr>\n",
       "      <th>2018-11-02</th>\n",
       "      <td>237.5</td>\n",
       "      <td>call</td>\n",
       "      <td>AAPL181102C00237500</td>\n",
       "      <td>...</td>\n",
       "      <td>2018-10-29 20:00:01</td>\n",
       "      <td>2018-10-29 19:59:21</td>\n",
       "      <td>{'contractSymbol': 'AAPL181102C00237500', 'str...</td>\n",
       "    </tr>\n",
       "    <tr>\n",
       "      <th>2018-11-02</th>\n",
       "      <td>260.0</td>\n",
       "      <td>call</td>\n",
       "      <td>AAPL181102C00260000</td>\n",
       "      <td>...</td>\n",
       "      <td>2018-10-29 20:00:01</td>\n",
       "      <td>2018-10-29 19:56:13</td>\n",
       "      <td>{'contractSymbol': 'AAPL181102C00260000', 'str...</td>\n",
       "    </tr>\n",
       "    <tr>\n",
       "      <th>2018-11-02</th>\n",
       "      <td>257.5</td>\n",
       "      <td>call</td>\n",
       "      <td>AAPL181102C00257500</td>\n",
       "      <td>...</td>\n",
       "      <td>2018-10-29 20:00:01</td>\n",
       "      <td>2018-10-29 19:50:03</td>\n",
       "      <td>{'contractSymbol': 'AAPL181102C00257500', 'str...</td>\n",
       "    </tr>\n",
       "    <tr>\n",
       "      <th>2018-11-02</th>\n",
       "      <td>192.5</td>\n",
       "      <td>call</td>\n",
       "      <td>AAPL181102C00192500</td>\n",
       "      <td>...</td>\n",
       "      <td>2018-10-29 20:00:01</td>\n",
       "      <td>2018-10-29 19:56:49</td>\n",
       "      <td>{'contractSymbol': 'AAPL181102C00192500', 'str...</td>\n",
       "    </tr>\n",
       "    <tr>\n",
       "      <th>2018-11-02</th>\n",
       "      <td>220.0</td>\n",
       "      <td>call</td>\n",
       "      <td>AAPL181102C00220000</td>\n",
       "      <td>...</td>\n",
       "      <td>2018-10-29 20:00:01</td>\n",
       "      <td>2018-10-29 19:59:57</td>\n",
       "      <td>{'contractSymbol': 'AAPL181102C00220000', 'str...</td>\n",
       "    </tr>\n",
       "    <tr>\n",
       "      <th>...</th>\n",
       "      <td>...</td>\n",
       "      <td>...</td>\n",
       "      <td>...</td>\n",
       "      <td>...</td>\n",
       "      <td>...</td>\n",
       "      <td>...</td>\n",
       "      <td>...</td>\n",
       "    </tr>\n",
       "    <tr>\n",
       "      <th>2021-01-15</th>\n",
       "      <td>190.0</td>\n",
       "      <td>put</td>\n",
       "      <td>AAPL210115P00190000</td>\n",
       "      <td>...</td>\n",
       "      <td>2018-10-29 20:00:01</td>\n",
       "      <td>2018-10-29 19:16:15</td>\n",
       "      <td>{'contractSymbol': 'AAPL210115P00190000', 'str...</td>\n",
       "    </tr>\n",
       "    <tr>\n",
       "      <th>2021-01-15</th>\n",
       "      <td>120.0</td>\n",
       "      <td>put</td>\n",
       "      <td>AAPL210115P00120000</td>\n",
       "      <td>...</td>\n",
       "      <td>2018-10-29 20:00:01</td>\n",
       "      <td>2018-10-29 19:00:53</td>\n",
       "      <td>{'contractSymbol': 'AAPL210115P00120000', 'str...</td>\n",
       "    </tr>\n",
       "    <tr>\n",
       "      <th>2021-01-15</th>\n",
       "      <td>220.0</td>\n",
       "      <td>put</td>\n",
       "      <td>AAPL210115P00220000</td>\n",
       "      <td>...</td>\n",
       "      <td>2018-10-29 20:00:01</td>\n",
       "      <td>2018-10-29 18:07:55</td>\n",
       "      <td>{'contractSymbol': 'AAPL210115P00220000', 'str...</td>\n",
       "    </tr>\n",
       "    <tr>\n",
       "      <th>2021-01-15</th>\n",
       "      <td>155.0</td>\n",
       "      <td>call</td>\n",
       "      <td>AAPL210115C00155000</td>\n",
       "      <td>...</td>\n",
       "      <td>2018-10-29 20:00:01</td>\n",
       "      <td>2018-10-11 16:42:59</td>\n",
       "      <td>{'contractSymbol': 'AAPL210115C00155000', 'str...</td>\n",
       "    </tr>\n",
       "    <tr>\n",
       "      <th>2021-01-15</th>\n",
       "      <td>160.0</td>\n",
       "      <td>put</td>\n",
       "      <td>AAPL210115P00160000</td>\n",
       "      <td>...</td>\n",
       "      <td>2018-10-29 20:00:01</td>\n",
       "      <td>2018-10-23 13:36:29</td>\n",
       "      <td>{'contractSymbol': 'AAPL210115P00160000', 'str...</td>\n",
       "    </tr>\n",
       "  </tbody>\n",
       "</table>\n",
       "<p>1045 rows × 18 columns</p>\n",
       "</div>"
      ],
      "text/plain": [
       "            Strike  Type               Symbol  \\\n",
       "Expiry                                          \n",
       "2018-11-02   237.5  call  AAPL181102C00237500   \n",
       "2018-11-02   260.0  call  AAPL181102C00260000   \n",
       "2018-11-02   257.5  call  AAPL181102C00257500   \n",
       "2018-11-02   192.5  call  AAPL181102C00192500   \n",
       "2018-11-02   220.0  call  AAPL181102C00220000   \n",
       "...            ...   ...                  ...   \n",
       "2021-01-15   190.0   put  AAPL210115P00190000   \n",
       "2021-01-15   120.0   put  AAPL210115P00120000   \n",
       "2021-01-15   220.0   put  AAPL210115P00220000   \n",
       "2021-01-15   155.0  call  AAPL210115C00155000   \n",
       "2021-01-15   160.0   put  AAPL210115P00160000   \n",
       "\n",
       "                                  ...                          \\\n",
       "Expiry                            ...                           \n",
       "2018-11-02                        ...                           \n",
       "2018-11-02                        ...                           \n",
       "2018-11-02                        ...                           \n",
       "2018-11-02                        ...                           \n",
       "2018-11-02                        ...                           \n",
       "...                               ...                           \n",
       "2021-01-15                        ...                           \n",
       "2021-01-15                        ...                           \n",
       "2021-01-15                        ...                           \n",
       "2021-01-15                        ...                           \n",
       "2021-01-15                        ...                           \n",
       "\n",
       "                    Quote_Time     Last_Trade_Date  \\\n",
       "Expiry                                               \n",
       "2018-11-02 2018-10-29 20:00:01 2018-10-29 19:59:21   \n",
       "2018-11-02 2018-10-29 20:00:01 2018-10-29 19:56:13   \n",
       "2018-11-02 2018-10-29 20:00:01 2018-10-29 19:50:03   \n",
       "2018-11-02 2018-10-29 20:00:01 2018-10-29 19:56:49   \n",
       "2018-11-02 2018-10-29 20:00:01 2018-10-29 19:59:57   \n",
       "...                        ...                 ...   \n",
       "2021-01-15 2018-10-29 20:00:01 2018-10-29 19:16:15   \n",
       "2021-01-15 2018-10-29 20:00:01 2018-10-29 19:00:53   \n",
       "2021-01-15 2018-10-29 20:00:01 2018-10-29 18:07:55   \n",
       "2021-01-15 2018-10-29 20:00:01 2018-10-11 16:42:59   \n",
       "2021-01-15 2018-10-29 20:00:01 2018-10-23 13:36:29   \n",
       "\n",
       "                                                         JSON  \n",
       "Expiry                                                         \n",
       "2018-11-02  {'contractSymbol': 'AAPL181102C00237500', 'str...  \n",
       "2018-11-02  {'contractSymbol': 'AAPL181102C00260000', 'str...  \n",
       "2018-11-02  {'contractSymbol': 'AAPL181102C00257500', 'str...  \n",
       "2018-11-02  {'contractSymbol': 'AAPL181102C00192500', 'str...  \n",
       "2018-11-02  {'contractSymbol': 'AAPL181102C00220000', 'str...  \n",
       "...                                                       ...  \n",
       "2021-01-15  {'contractSymbol': 'AAPL210115P00190000', 'str...  \n",
       "2021-01-15  {'contractSymbol': 'AAPL210115P00120000', 'str...  \n",
       "2021-01-15  {'contractSymbol': 'AAPL210115P00220000', 'str...  \n",
       "2021-01-15  {'contractSymbol': 'AAPL210115C00155000', 'str...  \n",
       "2021-01-15  {'contractSymbol': 'AAPL210115P00160000', 'str...  \n",
       "\n",
       "[1045 rows x 18 columns]"
      ]
     },
     "execution_count": 14,
     "metadata": {},
     "output_type": "execute_result"
    }
   ],
   "source": [
    "aapl = web.YahooOptions('AAPL')\n",
    "aapl_opt = aapl.get_all_data().reset_index()\n",
    "aapl_opt.set_index('Expiry').sort_index()"
   ]
  },
  {
   "cell_type": "code",
   "execution_count": 15,
   "metadata": {},
   "outputs": [
    {
     "data": {
      "text/html": [
       "<div>\n",
       "<style scoped>\n",
       "    .dataframe tbody tr th:only-of-type {\n",
       "        vertical-align: middle;\n",
       "    }\n",
       "\n",
       "    .dataframe tbody tr th {\n",
       "        vertical-align: top;\n",
       "    }\n",
       "\n",
       "    .dataframe thead th {\n",
       "        text-align: right;\n",
       "    }\n",
       "</style>\n",
       "<table border=\"1\" class=\"dataframe\">\n",
       "  <thead>\n",
       "    <tr style=\"text-align: right;\">\n",
       "      <th></th>\n",
       "      <th>Strike</th>\n",
       "      <th>Expiry</th>\n",
       "      <th>Type</th>\n",
       "      <th>...</th>\n",
       "      <th>Quote_Time</th>\n",
       "      <th>Last_Trade_Date</th>\n",
       "      <th>JSON</th>\n",
       "    </tr>\n",
       "  </thead>\n",
       "  <tbody>\n",
       "    <tr>\n",
       "      <th>485</th>\n",
       "      <td>200.0</td>\n",
       "      <td>2019-02-15</td>\n",
       "      <td>call</td>\n",
       "      <td>...</td>\n",
       "      <td>2018-10-29 20:00:01</td>\n",
       "      <td>2018-10-29 19:55:22</td>\n",
       "      <td>{'contractSymbol': 'AAPL190215C00200000', 'str...</td>\n",
       "    </tr>\n",
       "  </tbody>\n",
       "</table>\n",
       "<p>1 rows × 19 columns</p>\n",
       "</div>"
      ],
      "text/plain": [
       "     Strike     Expiry  Type  \\\n",
       "485   200.0 2019-02-15  call   \n",
       "\n",
       "                           ...                                  Quote_Time  \\\n",
       "485                        ...                         2018-10-29 20:00:01   \n",
       "\n",
       "        Last_Trade_Date                                               JSON  \n",
       "485 2018-10-29 19:55:22  {'contractSymbol': 'AAPL190215C00200000', 'str...  \n",
       "\n",
       "[1 rows x 19 columns]"
      ]
     },
     "execution_count": 15,
     "metadata": {},
     "output_type": "execute_result"
    }
   ],
   "source": [
    "aapl_opt.loc[(aapl_opt.Type=='call') & (aapl_opt.Strike==200) & (aapl_opt.Expiry=='2019-02-15')]"
   ]
  },
  {
   "cell_type": "code",
   "execution_count": 69,
   "metadata": {
    "scrolled": true
   },
   "outputs": [
    {
     "data": {
      "text/plain": [
       "{'contractSymbol': 'AAPL190215C00200000',\n",
       " 'strike': 200.0,\n",
       " 'currency': 'USD',\n",
       " 'lastPrice': 21.85,\n",
       " 'change': -2.1999989,\n",
       " 'percentChange': -9.147605,\n",
       " 'volume': 331,\n",
       " 'openInterest': 2195,\n",
       " 'bid': 21.95,\n",
       " 'ask': 23.45,\n",
       " 'contractSize': 'REGULAR',\n",
       " 'expiration': 1550188800,\n",
       " 'lastTradeDate': 1540842922,\n",
       " 'impliedVolatility': 0.3687807263183594,\n",
       " 'inTheMoney': True}"
      ]
     },
     "execution_count": 69,
     "metadata": {},
     "output_type": "execute_result"
    }
   ],
   "source": [
    "opcion_valuar = aapl_opt.loc[485]\n",
    "opcion_valuar['JSON']"
   ]
  },
  {
   "cell_type": "markdown",
   "metadata": {},
   "source": [
    "# Simulación de precios usando rendimiento simple y logarítmico "
   ]
  },
  {
   "cell_type": "markdown",
   "metadata": {},
   "source": [
    "* Comenzaremos por suponer que los rendimientos son un p.e. estacionario que distribuyen $\\mathcal{N}(\\mu,\\sigma)$."
   ]
  },
  {
   "cell_type": "code",
   "execution_count": 17,
   "metadata": {},
   "outputs": [
    {
     "data": {
      "text/html": [
       "<div>\n",
       "<style scoped>\n",
       "    .dataframe tbody tr th:only-of-type {\n",
       "        vertical-align: middle;\n",
       "    }\n",
       "\n",
       "    .dataframe tbody tr th {\n",
       "        vertical-align: top;\n",
       "    }\n",
       "\n",
       "    .dataframe thead th {\n",
       "        text-align: right;\n",
       "    }\n",
       "</style>\n",
       "<table border=\"1\" class=\"dataframe\">\n",
       "  <thead>\n",
       "    <tr style=\"text-align: right;\">\n",
       "      <th></th>\n",
       "      <th>AAPL</th>\n",
       "    </tr>\n",
       "    <tr>\n",
       "      <th>Date</th>\n",
       "      <th></th>\n",
       "    </tr>\n",
       "  </thead>\n",
       "  <tbody>\n",
       "    <tr>\n",
       "      <th>2017-01-03</th>\n",
       "      <td>113.014</td>\n",
       "    </tr>\n",
       "    <tr>\n",
       "      <th>2017-01-04</th>\n",
       "      <td>112.887</td>\n",
       "    </tr>\n",
       "    <tr>\n",
       "      <th>2017-01-05</th>\n",
       "      <td>113.462</td>\n",
       "    </tr>\n",
       "    <tr>\n",
       "      <th>2017-01-06</th>\n",
       "      <td>114.726</td>\n",
       "    </tr>\n",
       "    <tr>\n",
       "      <th>2017-01-09</th>\n",
       "      <td>115.777</td>\n",
       "    </tr>\n",
       "    <tr>\n",
       "      <th>...</th>\n",
       "      <td>...</td>\n",
       "    </tr>\n",
       "    <tr>\n",
       "      <th>2018-10-23</th>\n",
       "      <td>222.730</td>\n",
       "    </tr>\n",
       "    <tr>\n",
       "      <th>2018-10-24</th>\n",
       "      <td>215.090</td>\n",
       "    </tr>\n",
       "    <tr>\n",
       "      <th>2018-10-25</th>\n",
       "      <td>219.800</td>\n",
       "    </tr>\n",
       "    <tr>\n",
       "      <th>2018-10-26</th>\n",
       "      <td>216.300</td>\n",
       "    </tr>\n",
       "    <tr>\n",
       "      <th>2018-10-29</th>\n",
       "      <td>212.240</td>\n",
       "    </tr>\n",
       "  </tbody>\n",
       "</table>\n",
       "<p>460 rows × 1 columns</p>\n",
       "</div>"
      ],
      "text/plain": [
       "               AAPL\n",
       "Date               \n",
       "2017-01-03  113.014\n",
       "2017-01-04  112.887\n",
       "2017-01-05  113.462\n",
       "2017-01-06  114.726\n",
       "2017-01-09  115.777\n",
       "...             ...\n",
       "2018-10-23  222.730\n",
       "2018-10-24  215.090\n",
       "2018-10-25  219.800\n",
       "2018-10-26  216.300\n",
       "2018-10-29  212.240\n",
       "\n",
       "[460 rows x 1 columns]"
      ]
     },
     "execution_count": 17,
     "metadata": {},
     "output_type": "execute_result"
    }
   ],
   "source": [
    "# Descargamos los precios de apple\n",
    "ticker = ['AAPL']\n",
    "start_date = '2017-01-01'\n",
    "\n",
    "closes_aapl = get_historical_closes(ticker, start_date,freq='d')\n",
    "closes_aapl"
   ]
  },
  {
   "cell_type": "markdown",
   "metadata": {},
   "source": [
    "- **Rendimiento Simple**"
   ]
  },
  {
   "cell_type": "code",
   "execution_count": 18,
   "metadata": {
    "scrolled": false
   },
   "outputs": [
    {
     "data": {
      "text/html": [
       "<div>\n",
       "<style scoped>\n",
       "    .dataframe tbody tr th:only-of-type {\n",
       "        vertical-align: middle;\n",
       "    }\n",
       "\n",
       "    .dataframe tbody tr th {\n",
       "        vertical-align: top;\n",
       "    }\n",
       "\n",
       "    .dataframe thead th {\n",
       "        text-align: right;\n",
       "    }\n",
       "</style>\n",
       "<table border=\"1\" class=\"dataframe\">\n",
       "  <thead>\n",
       "    <tr style=\"text-align: right;\">\n",
       "      <th></th>\n",
       "      <th>AAPL</th>\n",
       "    </tr>\n",
       "    <tr>\n",
       "      <th>Date</th>\n",
       "      <th></th>\n",
       "    </tr>\n",
       "  </thead>\n",
       "  <tbody>\n",
       "    <tr>\n",
       "      <th>2017-01-04</th>\n",
       "      <td>-0.001</td>\n",
       "    </tr>\n",
       "    <tr>\n",
       "      <th>2017-01-05</th>\n",
       "      <td>0.005</td>\n",
       "    </tr>\n",
       "    <tr>\n",
       "      <th>2017-01-06</th>\n",
       "      <td>0.011</td>\n",
       "    </tr>\n",
       "    <tr>\n",
       "      <th>2017-01-09</th>\n",
       "      <td>0.009</td>\n",
       "    </tr>\n",
       "    <tr>\n",
       "      <th>2017-01-10</th>\n",
       "      <td>0.001</td>\n",
       "    </tr>\n",
       "    <tr>\n",
       "      <th>...</th>\n",
       "      <td>...</td>\n",
       "    </tr>\n",
       "    <tr>\n",
       "      <th>2018-10-23</th>\n",
       "      <td>0.009</td>\n",
       "    </tr>\n",
       "    <tr>\n",
       "      <th>2018-10-24</th>\n",
       "      <td>-0.034</td>\n",
       "    </tr>\n",
       "    <tr>\n",
       "      <th>2018-10-25</th>\n",
       "      <td>0.022</td>\n",
       "    </tr>\n",
       "    <tr>\n",
       "      <th>2018-10-26</th>\n",
       "      <td>-0.016</td>\n",
       "    </tr>\n",
       "    <tr>\n",
       "      <th>2018-10-29</th>\n",
       "      <td>-0.019</td>\n",
       "    </tr>\n",
       "  </tbody>\n",
       "</table>\n",
       "<p>459 rows × 1 columns</p>\n",
       "</div>"
      ],
      "text/plain": [
       "             AAPL\n",
       "Date             \n",
       "2017-01-04 -0.001\n",
       "2017-01-05  0.005\n",
       "2017-01-06  0.011\n",
       "2017-01-09  0.009\n",
       "2017-01-10  0.001\n",
       "...           ...\n",
       "2018-10-23  0.009\n",
       "2018-10-24 -0.034\n",
       "2018-10-25  0.022\n",
       "2018-10-26 -0.016\n",
       "2018-10-29 -0.019\n",
       "\n",
       "[459 rows x 1 columns]"
      ]
     },
     "execution_count": 18,
     "metadata": {},
     "output_type": "execute_result"
    }
   ],
   "source": [
    "# Obtenemos el rendimiento simple\n",
    "Ri = closes_aapl.pct_change(1).iloc[1:]\n",
    "# Obtenemos su media y desviación estándar de los rendimientos\n",
    "mu_R = Ri.mean()[0]\n",
    "sigma_R = Ri.std()[0]\n",
    "Ri"
   ]
  },
  {
   "cell_type": "code",
   "execution_count": 19,
   "metadata": {},
   "outputs": [
    {
     "data": {
      "text/plain": [
       "DatetimeIndex(['2018-10-24', '2018-10-25', '2018-10-26', '2018-10-27',\n",
       "               '2018-10-28', '2018-10-29', '2018-10-30', '2018-10-31',\n",
       "               '2018-11-01', '2018-11-02',\n",
       "               ...\n",
       "               '2019-02-05', '2019-02-06', '2019-02-07', '2019-02-08',\n",
       "               '2019-02-09', '2019-02-10', '2019-02-11', '2019-02-12',\n",
       "               '2019-02-13', '2019-02-14'],\n",
       "              dtype='datetime64[ns]', length=114, freq='D')"
      ]
     },
     "execution_count": 19,
     "metadata": {},
     "output_type": "execute_result"
    }
   ],
   "source": [
    "ndays = 114\n",
    "nscen = 10\n",
    "dates = pd.date_range('2018-10-24', periods = ndays)\n",
    "dates"
   ]
  },
  {
   "cell_type": "code",
   "execution_count": 20,
   "metadata": {},
   "outputs": [
    {
     "data": {
      "text/html": [
       "<div>\n",
       "<style scoped>\n",
       "    .dataframe tbody tr th:only-of-type {\n",
       "        vertical-align: middle;\n",
       "    }\n",
       "\n",
       "    .dataframe tbody tr th {\n",
       "        vertical-align: top;\n",
       "    }\n",
       "\n",
       "    .dataframe thead th {\n",
       "        text-align: right;\n",
       "    }\n",
       "</style>\n",
       "<table border=\"1\" class=\"dataframe\">\n",
       "  <thead>\n",
       "    <tr style=\"text-align: right;\">\n",
       "      <th></th>\n",
       "      <th>0</th>\n",
       "      <th>1</th>\n",
       "      <th>2</th>\n",
       "      <th>...</th>\n",
       "      <th>7</th>\n",
       "      <th>8</th>\n",
       "      <th>9</th>\n",
       "    </tr>\n",
       "  </thead>\n",
       "  <tbody>\n",
       "    <tr>\n",
       "      <th>2018-10-24</th>\n",
       "      <td>-4.803e-03</td>\n",
       "      <td>-1.434e-02</td>\n",
       "      <td>-3.198e-03</td>\n",
       "      <td>...</td>\n",
       "      <td>-1.069e-02</td>\n",
       "      <td>8.576e-03</td>\n",
       "      <td>-8.010e-04</td>\n",
       "    </tr>\n",
       "    <tr>\n",
       "      <th>2018-10-25</th>\n",
       "      <td>-9.963e-05</td>\n",
       "      <td>3.355e-04</td>\n",
       "      <td>-4.101e-05</td>\n",
       "      <td>...</td>\n",
       "      <td>1.748e-04</td>\n",
       "      <td>-6.970e-05</td>\n",
       "      <td>3.352e-06</td>\n",
       "    </tr>\n",
       "    <tr>\n",
       "      <th>2018-10-26</th>\n",
       "      <td>-1.375e-06</td>\n",
       "      <td>-2.636e-06</td>\n",
       "      <td>5.021e-07</td>\n",
       "      <td>...</td>\n",
       "      <td>-8.515e-07</td>\n",
       "      <td>1.218e-07</td>\n",
       "      <td>-4.851e-08</td>\n",
       "    </tr>\n",
       "    <tr>\n",
       "      <th>2018-10-27</th>\n",
       "      <td>3.166e-08</td>\n",
       "      <td>2.166e-09</td>\n",
       "      <td>9.969e-09</td>\n",
       "      <td>...</td>\n",
       "      <td>5.375e-09</td>\n",
       "      <td>-6.169e-10</td>\n",
       "      <td>6.979e-10</td>\n",
       "    </tr>\n",
       "    <tr>\n",
       "      <th>2018-10-28</th>\n",
       "      <td>3.303e-10</td>\n",
       "      <td>6.670e-11</td>\n",
       "      <td>1.049e-10</td>\n",
       "      <td>...</td>\n",
       "      <td>-8.331e-11</td>\n",
       "      <td>-3.733e-13</td>\n",
       "      <td>-5.836e-12</td>\n",
       "    </tr>\n",
       "    <tr>\n",
       "      <th>...</th>\n",
       "      <td>...</td>\n",
       "      <td>...</td>\n",
       "      <td>...</td>\n",
       "      <td>...</td>\n",
       "      <td>...</td>\n",
       "      <td>...</td>\n",
       "      <td>...</td>\n",
       "    </tr>\n",
       "    <tr>\n",
       "      <th>2019-02-10</th>\n",
       "      <td>-5.253e-237</td>\n",
       "      <td>-1.835e-230</td>\n",
       "      <td>7.634e-232</td>\n",
       "      <td>...</td>\n",
       "      <td>-1.000e-243</td>\n",
       "      <td>1.014e-237</td>\n",
       "      <td>-2.490e-239</td>\n",
       "    </tr>\n",
       "    <tr>\n",
       "      <th>2019-02-11</th>\n",
       "      <td>-5.950e-240</td>\n",
       "      <td>-2.242e-232</td>\n",
       "      <td>1.108e-233</td>\n",
       "      <td>...</td>\n",
       "      <td>4.759e-247</td>\n",
       "      <td>1.120e-239</td>\n",
       "      <td>-5.026e-241</td>\n",
       "    </tr>\n",
       "    <tr>\n",
       "      <th>2019-02-12</th>\n",
       "      <td>-5.204e-242</td>\n",
       "      <td>1.052e-234</td>\n",
       "      <td>1.070e-235</td>\n",
       "      <td>...</td>\n",
       "      <td>2.305e-249</td>\n",
       "      <td>1.575e-243</td>\n",
       "      <td>3.808e-243</td>\n",
       "    </tr>\n",
       "    <tr>\n",
       "      <th>2019-02-13</th>\n",
       "      <td>8.760e-244</td>\n",
       "      <td>-1.598e-236</td>\n",
       "      <td>-4.017e-238</td>\n",
       "      <td>...</td>\n",
       "      <td>3.257e-251</td>\n",
       "      <td>3.036e-245</td>\n",
       "      <td>-1.773e-245</td>\n",
       "    </tr>\n",
       "    <tr>\n",
       "      <th>2019-02-14</th>\n",
       "      <td>-4.633e-246</td>\n",
       "      <td>-2.160e-238</td>\n",
       "      <td>-2.810e-240</td>\n",
       "      <td>...</td>\n",
       "      <td>3.741e-253</td>\n",
       "      <td>-4.058e-247</td>\n",
       "      <td>-8.224e-248</td>\n",
       "    </tr>\n",
       "  </tbody>\n",
       "</table>\n",
       "<p>114 rows × 10 columns</p>\n",
       "</div>"
      ],
      "text/plain": [
       "                     0           1           2     ...               7  \\\n",
       "2018-10-24  -4.803e-03  -1.434e-02  -3.198e-03     ...      -1.069e-02   \n",
       "2018-10-25  -9.963e-05   3.355e-04  -4.101e-05     ...       1.748e-04   \n",
       "2018-10-26  -1.375e-06  -2.636e-06   5.021e-07     ...      -8.515e-07   \n",
       "2018-10-27   3.166e-08   2.166e-09   9.969e-09     ...       5.375e-09   \n",
       "2018-10-28   3.303e-10   6.670e-11   1.049e-10     ...      -8.331e-11   \n",
       "...                ...         ...         ...     ...             ...   \n",
       "2019-02-10 -5.253e-237 -1.835e-230  7.634e-232     ...     -1.000e-243   \n",
       "2019-02-11 -5.950e-240 -2.242e-232  1.108e-233     ...      4.759e-247   \n",
       "2019-02-12 -5.204e-242  1.052e-234  1.070e-235     ...      2.305e-249   \n",
       "2019-02-13  8.760e-244 -1.598e-236 -4.017e-238     ...      3.257e-251   \n",
       "2019-02-14 -4.633e-246 -2.160e-238 -2.810e-240     ...      3.741e-253   \n",
       "\n",
       "                     8           9  \n",
       "2018-10-24   8.576e-03  -8.010e-04  \n",
       "2018-10-25  -6.970e-05   3.352e-06  \n",
       "2018-10-26   1.218e-07  -4.851e-08  \n",
       "2018-10-27  -6.169e-10   6.979e-10  \n",
       "2018-10-28  -3.733e-13  -5.836e-12  \n",
       "...                ...         ...  \n",
       "2019-02-10  1.014e-237 -2.490e-239  \n",
       "2019-02-11  1.120e-239 -5.026e-241  \n",
       "2019-02-12  1.575e-243  3.808e-243  \n",
       "2019-02-13  3.036e-245 -1.773e-245  \n",
       "2019-02-14 -4.058e-247 -8.224e-248  \n",
       "\n",
       "[114 rows x 10 columns]"
      ]
     },
     "execution_count": 20,
     "metadata": {},
     "output_type": "execute_result"
    }
   ],
   "source": [
    "dt = 1; # Rendimiento diario \n",
    "Z = np.random.randn(ndays,nscen)  # Z ~ N(0,1)\n",
    "# Simulación normal de los rendimientos\n",
    "Ri_dt = pd.DataFrame(mu_R*dt+Z*sigma_R*np.sqrt(dt),index=dates)\n",
    "Ri_dt.cumprod()"
   ]
  },
  {
   "cell_type": "code",
   "execution_count": 21,
   "metadata": {},
   "outputs": [
    {
     "data": {
      "image/png": "[encoded data removed]",
      "text/plain": [
       "<Figure size 576x432 with 1 Axes>"
      ]
     },
     "metadata": {},
     "output_type": "display_data"
    }
   ],
   "source": [
    "# Simulación del precio\n",
    "S_0 = closes_aapl.iloc[-1,0]\n",
    "S_T = S_0*(1+Ri_dt).cumprod()\n",
    "\n",
    "# Se muestran los precios simulados con los precios descargados\n",
    "pd.concat([closes_aapl,S_T]).plot(figsize=(8,6));\n",
    "plt.title('Simulación de precios usando rendimiento simple');"
   ]
  },
  {
   "cell_type": "markdown",
   "metadata": {},
   "source": [
    "- **Rendimiento logarítmico**"
   ]
  },
  {
   "cell_type": "code",
   "execution_count": 22,
   "metadata": {},
   "outputs": [
    {
     "data": {
      "text/html": [
       "<div>\n",
       "<style scoped>\n",
       "    .dataframe tbody tr th:only-of-type {\n",
       "        vertical-align: middle;\n",
       "    }\n",
       "\n",
       "    .dataframe tbody tr th {\n",
       "        vertical-align: top;\n",
       "    }\n",
       "\n",
       "    .dataframe thead th {\n",
       "        text-align: right;\n",
       "    }\n",
       "</style>\n",
       "<table border=\"1\" class=\"dataframe\">\n",
       "  <thead>\n",
       "    <tr style=\"text-align: right;\">\n",
       "      <th></th>\n",
       "      <th>0</th>\n",
       "      <th>1</th>\n",
       "      <th>2</th>\n",
       "      <th>...</th>\n",
       "      <th>7</th>\n",
       "      <th>8</th>\n",
       "      <th>9</th>\n",
       "    </tr>\n",
       "  </thead>\n",
       "  <tbody>\n",
       "    <tr>\n",
       "      <th>2018-10-24</th>\n",
       "      <td>-0.002</td>\n",
       "      <td>-0.022</td>\n",
       "      <td>-0.001</td>\n",
       "      <td>...</td>\n",
       "      <td>-0.012</td>\n",
       "      <td>-0.008</td>\n",
       "      <td>-6.806e-05</td>\n",
       "    </tr>\n",
       "    <tr>\n",
       "      <th>2018-10-25</th>\n",
       "      <td>-0.048</td>\n",
       "      <td>-0.078</td>\n",
       "      <td>-0.019</td>\n",
       "      <td>...</td>\n",
       "      <td>-0.040</td>\n",
       "      <td>-0.015</td>\n",
       "      <td>-1.922e-03</td>\n",
       "    </tr>\n",
       "    <tr>\n",
       "      <th>2018-10-26</th>\n",
       "      <td>-0.070</td>\n",
       "      <td>-0.084</td>\n",
       "      <td>-0.034</td>\n",
       "      <td>...</td>\n",
       "      <td>-0.042</td>\n",
       "      <td>-0.015</td>\n",
       "      <td>-2.391e-02</td>\n",
       "    </tr>\n",
       "    <tr>\n",
       "      <th>2018-10-27</th>\n",
       "      <td>-0.125</td>\n",
       "      <td>-0.084</td>\n",
       "      <td>-0.077</td>\n",
       "      <td>...</td>\n",
       "      <td>-0.046</td>\n",
       "      <td>-0.018</td>\n",
       "      <td>-4.500e-02</td>\n",
       "    </tr>\n",
       "    <tr>\n",
       "      <th>2018-10-28</th>\n",
       "      <td>-0.138</td>\n",
       "      <td>-0.183</td>\n",
       "      <td>-0.090</td>\n",
       "      <td>...</td>\n",
       "      <td>-0.070</td>\n",
       "      <td>-0.018</td>\n",
       "      <td>-5.178e-02</td>\n",
       "    </tr>\n",
       "    <tr>\n",
       "      <th>...</th>\n",
       "      <td>...</td>\n",
       "      <td>...</td>\n",
       "      <td>...</td>\n",
       "      <td>...</td>\n",
       "      <td>...</td>\n",
       "      <td>...</td>\n",
       "      <td>...</td>\n",
       "    </tr>\n",
       "    <tr>\n",
       "      <th>2019-02-10</th>\n",
       "      <td>-2.653</td>\n",
       "      <td>-1.904</td>\n",
       "      <td>-3.108</td>\n",
       "      <td>...</td>\n",
       "      <td>-1.779</td>\n",
       "      <td>-2.036</td>\n",
       "      <td>-2.668e+00</td>\n",
       "    </tr>\n",
       "    <tr>\n",
       "      <th>2019-02-11</th>\n",
       "      <td>-2.656</td>\n",
       "      <td>-1.941</td>\n",
       "      <td>-3.182</td>\n",
       "      <td>...</td>\n",
       "      <td>-1.779</td>\n",
       "      <td>-2.072</td>\n",
       "      <td>-2.781e+00</td>\n",
       "    </tr>\n",
       "    <tr>\n",
       "      <th>2019-02-12</th>\n",
       "      <td>-2.691</td>\n",
       "      <td>-1.934</td>\n",
       "      <td>-3.225</td>\n",
       "      <td>...</td>\n",
       "      <td>-1.790</td>\n",
       "      <td>-2.072</td>\n",
       "      <td>-2.768e+00</td>\n",
       "    </tr>\n",
       "    <tr>\n",
       "      <th>2019-02-13</th>\n",
       "      <td>-2.689</td>\n",
       "      <td>-1.926</td>\n",
       "      <td>-3.215</td>\n",
       "      <td>...</td>\n",
       "      <td>-1.835</td>\n",
       "      <td>-2.153</td>\n",
       "      <td>-2.759e+00</td>\n",
       "    </tr>\n",
       "    <tr>\n",
       "      <th>2019-02-14</th>\n",
       "      <td>-2.679</td>\n",
       "      <td>-1.969</td>\n",
       "      <td>-3.245</td>\n",
       "      <td>...</td>\n",
       "      <td>-1.870</td>\n",
       "      <td>-2.144</td>\n",
       "      <td>-2.774e+00</td>\n",
       "    </tr>\n",
       "  </tbody>\n",
       "</table>\n",
       "<p>114 rows × 10 columns</p>\n",
       "</div>"
      ],
      "text/plain": [
       "                0      1      2    ...          7      8          9\n",
       "2018-10-24 -0.002 -0.022 -0.001    ...     -0.012 -0.008 -6.806e-05\n",
       "2018-10-25 -0.048 -0.078 -0.019    ...     -0.040 -0.015 -1.922e-03\n",
       "2018-10-26 -0.070 -0.084 -0.034    ...     -0.042 -0.015 -2.391e-02\n",
       "2018-10-27 -0.125 -0.084 -0.077    ...     -0.046 -0.018 -4.500e-02\n",
       "2018-10-28 -0.138 -0.183 -0.090    ...     -0.070 -0.018 -5.178e-02\n",
       "...           ...    ...    ...    ...        ...    ...        ...\n",
       "2019-02-10 -2.653 -1.904 -3.108    ...     -1.779 -2.036 -2.668e+00\n",
       "2019-02-11 -2.656 -1.941 -3.182    ...     -1.779 -2.072 -2.781e+00\n",
       "2019-02-12 -2.691 -1.934 -3.225    ...     -1.790 -2.072 -2.768e+00\n",
       "2019-02-13 -2.689 -1.926 -3.215    ...     -1.835 -2.153 -2.759e+00\n",
       "2019-02-14 -2.679 -1.969 -3.245    ...     -1.870 -2.144 -2.774e+00\n",
       "\n",
       "[114 rows x 10 columns]"
      ]
     },
     "execution_count": 22,
     "metadata": {},
     "output_type": "execute_result"
    },
    {
     "data": {
      "image/png": "[encoded data removed]",
      "text/plain": [
       "<Figure size 576x432 with 1 Axes>"
      ]
     },
     "metadata": {},
     "output_type": "display_data"
    }
   ],
   "source": [
    "ri = calc_daily_ret(closes_aapl)\n",
    "# Usando la media y desviación estándar de los rendimientos logarítmicos\n",
    "mu_r = Ri.mean()[0]\n",
    "sigma_r = Ri.std()[0]\n",
    "\n",
    "# # Usando la equivalencia teórica\n",
    "# mu_r2 = mu_R - (sigma_R**2)/2\n",
    "\n",
    "sim_ret_ri = pd.DataFrame(mu_r*dt+Z*sigma_r*np.sqrt(dt), index=dates)\n",
    "# sim_ret_ri\n",
    "# Simulación del precio\n",
    "S_0 = closes_aapl.iloc[-1,0]\n",
    "S_T2 = S_0*np.exp(sim_ret_ri.cumsum())\n",
    "\n",
    "# Se muestran los precios simulados con los precios descargados\n",
    "pd.concat([closes_aapl,S_T2]).plot(figsize=(8,6));\n",
    "plt.title('Simulación de precios usando rendimiento logarítmico');\n",
    "S_T-S_T2"
   ]
  },
  {
   "cell_type": "code",
   "execution_count": 23,
   "metadata": {},
   "outputs": [
    {
     "name": "stdout",
     "output_type": "stream",
     "text": [
      "Las std usando rendimientos logarítmicos y simples son iguales\n"
     ]
    },
    {
     "data": {
      "text/plain": [
       "(0.013173558363602764, 0.013173558363602764)"
      ]
     },
     "execution_count": 23,
     "metadata": {},
     "output_type": "execute_result"
    }
   ],
   "source": [
    "print('Las std usando rendimientos logarítmicos y simples son iguales')\n",
    "sigma_R,sigma_r"
   ]
  },
  {
   "cell_type": "markdown",
   "metadata": {},
   "source": [
    "## 2. Valuación usando simulación: modelo normal para los rendimientos"
   ]
  },
  {
   "cell_type": "markdown",
   "metadata": {},
   "source": [
    "- Hallar media y desviación estándar muestral de los rendimientos logarítmicos"
   ]
  },
  {
   "cell_type": "code",
   "execution_count": 24,
   "metadata": {
    "scrolled": true
   },
   "outputs": [
    {
     "data": {
      "text/plain": [
       "(0.0013729995076266976, 0.013131395605953805)"
      ]
     },
     "execution_count": 24,
     "metadata": {},
     "output_type": "execute_result"
    }
   ],
   "source": [
    "mu = ret_aapl.mean()[0]\n",
    "sigma = ret_aapl.std()[0]\n",
    "mu, sigma"
   ]
  },
  {
   "cell_type": "markdown",
   "metadata": {},
   "source": [
    "No se toma la media sino la tasa libre de riesgo\n",
    "> Referencia: https://www.treasury.gov/resource-center/data-chart-center/interest-rates/Pages/TextView.aspx?data=yield"
   ]
  },
  {
   "cell_type": "code",
   "execution_count": 25,
   "metadata": {},
   "outputs": [],
   "source": [
    "# Tasa de bonos de 1 yr de fecha 10/01/18 -> 2.60%\n",
    "r = 0.0260/360 # Tasa diaria"
   ]
  },
  {
   "cell_type": "markdown",
   "metadata": {},
   "source": [
    "- Simularemos el tiempo de contrato (días=109) desde 24/10/18 hasta 15/02/19, 10 escenarios:\n",
    "> Calculador de fechas: https://es.calcuworld.com/calendarios/calculadora-de-tiempo-entre-dos-fechas/\n",
    "    \n",
    "    - Generar fechas"
   ]
  },
  {
   "cell_type": "code",
   "execution_count": 26,
   "metadata": {},
   "outputs": [
    {
     "data": {
      "text/plain": [
       "DatetimeIndex(['2018-10-24', '2018-10-25', '2018-10-26', '2018-10-27',\n",
       "               '2018-10-28', '2018-10-29', '2018-10-30', '2018-10-31',\n",
       "               '2018-11-01', '2018-11-02',\n",
       "               ...\n",
       "               '2019-01-31', '2019-02-01', '2019-02-02', '2019-02-03',\n",
       "               '2019-02-04', '2019-02-05', '2019-02-06', '2019-02-07',\n",
       "               '2019-02-08', '2019-02-09'],\n",
       "              dtype='datetime64[ns]', length=109, freq='D')"
      ]
     },
     "execution_count": 26,
     "metadata": {},
     "output_type": "execute_result"
    }
   ],
   "source": [
    "ndays = 109\n",
    "nscen = 10\n",
    "dates = pd.date_range('2018-10-24', periods = ndays)\n",
    "dates"
   ]
  },
  {
   "cell_type": "markdown",
   "metadata": {},
   "source": [
    "- Generamos 10 escenarios de rendimientos simulados y guardamos en un dataframe"
   ]
  },
  {
   "cell_type": "code",
   "execution_count": 27,
   "metadata": {
    "scrolled": false
   },
   "outputs": [
    {
     "data": {
      "text/html": [
       "<div>\n",
       "<style scoped>\n",
       "    .dataframe tbody tr th:only-of-type {\n",
       "        vertical-align: middle;\n",
       "    }\n",
       "\n",
       "    .dataframe tbody tr th {\n",
       "        vertical-align: top;\n",
       "    }\n",
       "\n",
       "    .dataframe thead th {\n",
       "        text-align: right;\n",
       "    }\n",
       "</style>\n",
       "<table border=\"1\" class=\"dataframe\">\n",
       "  <thead>\n",
       "    <tr style=\"text-align: right;\">\n",
       "      <th></th>\n",
       "      <th>0</th>\n",
       "      <th>1</th>\n",
       "      <th>2</th>\n",
       "      <th>...</th>\n",
       "      <th>7</th>\n",
       "      <th>8</th>\n",
       "      <th>9</th>\n",
       "    </tr>\n",
       "  </thead>\n",
       "  <tbody>\n",
       "    <tr>\n",
       "      <th>2018-10-24</th>\n",
       "      <td>8.754e-03</td>\n",
       "      <td>0.031</td>\n",
       "      <td>-0.024</td>\n",
       "      <td>...</td>\n",
       "      <td>0.003</td>\n",
       "      <td>0.007</td>\n",
       "      <td>-0.005</td>\n",
       "    </tr>\n",
       "    <tr>\n",
       "      <th>2018-10-25</th>\n",
       "      <td>2.112e-02</td>\n",
       "      <td>0.046</td>\n",
       "      <td>-0.044</td>\n",
       "      <td>...</td>\n",
       "      <td>0.011</td>\n",
       "      <td>0.006</td>\n",
       "      <td>-0.012</td>\n",
       "    </tr>\n",
       "    <tr>\n",
       "      <th>2018-10-26</th>\n",
       "      <td>1.323e-02</td>\n",
       "      <td>0.052</td>\n",
       "      <td>-0.024</td>\n",
       "      <td>...</td>\n",
       "      <td>0.022</td>\n",
       "      <td>0.015</td>\n",
       "      <td>-0.015</td>\n",
       "    </tr>\n",
       "    <tr>\n",
       "      <th>2018-10-27</th>\n",
       "      <td>2.707e-05</td>\n",
       "      <td>0.065</td>\n",
       "      <td>-0.012</td>\n",
       "      <td>...</td>\n",
       "      <td>0.043</td>\n",
       "      <td>0.017</td>\n",
       "      <td>0.001</td>\n",
       "    </tr>\n",
       "    <tr>\n",
       "      <th>2018-10-28</th>\n",
       "      <td>2.023e-02</td>\n",
       "      <td>0.090</td>\n",
       "      <td>0.008</td>\n",
       "      <td>...</td>\n",
       "      <td>0.036</td>\n",
       "      <td>0.023</td>\n",
       "      <td>0.002</td>\n",
       "    </tr>\n",
       "    <tr>\n",
       "      <th>...</th>\n",
       "      <td>...</td>\n",
       "      <td>...</td>\n",
       "      <td>...</td>\n",
       "      <td>...</td>\n",
       "      <td>...</td>\n",
       "      <td>...</td>\n",
       "      <td>...</td>\n",
       "    </tr>\n",
       "    <tr>\n",
       "      <th>2019-02-05</th>\n",
       "      <td>6.327e-02</td>\n",
       "      <td>-0.066</td>\n",
       "      <td>-0.065</td>\n",
       "      <td>...</td>\n",
       "      <td>-0.001</td>\n",
       "      <td>0.202</td>\n",
       "      <td>-0.005</td>\n",
       "    </tr>\n",
       "    <tr>\n",
       "      <th>2019-02-06</th>\n",
       "      <td>5.892e-02</td>\n",
       "      <td>-0.087</td>\n",
       "      <td>-0.062</td>\n",
       "      <td>...</td>\n",
       "      <td>-0.002</td>\n",
       "      <td>0.186</td>\n",
       "      <td>0.005</td>\n",
       "    </tr>\n",
       "    <tr>\n",
       "      <th>2019-02-07</th>\n",
       "      <td>5.985e-02</td>\n",
       "      <td>-0.102</td>\n",
       "      <td>-0.066</td>\n",
       "      <td>...</td>\n",
       "      <td>-0.007</td>\n",
       "      <td>0.187</td>\n",
       "      <td>0.001</td>\n",
       "    </tr>\n",
       "    <tr>\n",
       "      <th>2019-02-08</th>\n",
       "      <td>6.276e-02</td>\n",
       "      <td>-0.112</td>\n",
       "      <td>-0.073</td>\n",
       "      <td>...</td>\n",
       "      <td>-0.002</td>\n",
       "      <td>0.184</td>\n",
       "      <td>0.030</td>\n",
       "    </tr>\n",
       "    <tr>\n",
       "      <th>2019-02-09</th>\n",
       "      <td>5.906e-02</td>\n",
       "      <td>-0.115</td>\n",
       "      <td>-0.073</td>\n",
       "      <td>...</td>\n",
       "      <td>-0.001</td>\n",
       "      <td>0.206</td>\n",
       "      <td>0.028</td>\n",
       "    </tr>\n",
       "  </tbody>\n",
       "</table>\n",
       "<p>109 rows × 10 columns</p>\n",
       "</div>"
      ],
      "text/plain": [
       "                    0      1      2  ...        7      8      9\n",
       "2018-10-24  8.754e-03  0.031 -0.024  ...    0.003  0.007 -0.005\n",
       "2018-10-25  2.112e-02  0.046 -0.044  ...    0.011  0.006 -0.012\n",
       "2018-10-26  1.323e-02  0.052 -0.024  ...    0.022  0.015 -0.015\n",
       "2018-10-27  2.707e-05  0.065 -0.012  ...    0.043  0.017  0.001\n",
       "2018-10-28  2.023e-02  0.090  0.008  ...    0.036  0.023  0.002\n",
       "...               ...    ...    ...  ...      ...    ...    ...\n",
       "2019-02-05  6.327e-02 -0.066 -0.065  ...   -0.001  0.202 -0.005\n",
       "2019-02-06  5.892e-02 -0.087 -0.062  ...   -0.002  0.186  0.005\n",
       "2019-02-07  5.985e-02 -0.102 -0.066  ...   -0.007  0.187  0.001\n",
       "2019-02-08  6.276e-02 -0.112 -0.073  ...   -0.002  0.184  0.030\n",
       "2019-02-09  5.906e-02 -0.115 -0.073  ...   -0.001  0.206  0.028\n",
       "\n",
       "[109 rows x 10 columns]"
      ]
     },
     "execution_count": 27,
     "metadata": {},
     "output_type": "execute_result"
    }
   ],
   "source": [
    "sim_ret = pd.DataFrame(sigma*np.random.randn(ndays,nscen)+r, index=dates)\n",
    "sim_ret.cumsum()\n",
    "# Las columnas son los escenarios y las filas son las días de contrato"
   ]
  },
  {
   "cell_type": "markdown",
   "metadata": {},
   "source": [
    "- Con los rendimientos simulados, calcular los escenarios de precios respectivos:"
   ]
  },
  {
   "cell_type": "code",
   "execution_count": 28,
   "metadata": {},
   "outputs": [
    {
     "data": {
      "text/html": [
       "<div>\n",
       "<style scoped>\n",
       "    .dataframe tbody tr th:only-of-type {\n",
       "        vertical-align: middle;\n",
       "    }\n",
       "\n",
       "    .dataframe tbody tr th {\n",
       "        vertical-align: top;\n",
       "    }\n",
       "\n",
       "    .dataframe thead th {\n",
       "        text-align: right;\n",
       "    }\n",
       "</style>\n",
       "<table border=\"1\" class=\"dataframe\">\n",
       "  <thead>\n",
       "    <tr style=\"text-align: right;\">\n",
       "      <th></th>\n",
       "      <th>0</th>\n",
       "      <th>1</th>\n",
       "      <th>2</th>\n",
       "      <th>...</th>\n",
       "      <th>7</th>\n",
       "      <th>8</th>\n",
       "      <th>9</th>\n",
       "    </tr>\n",
       "  </thead>\n",
       "  <tbody>\n",
       "    <tr>\n",
       "      <th>2018-10-24</th>\n",
       "      <td>214.106</td>\n",
       "      <td>218.850</td>\n",
       "      <td>207.125</td>\n",
       "      <td>...</td>\n",
       "      <td>212.857</td>\n",
       "      <td>213.767</td>\n",
       "      <td>211.182</td>\n",
       "    </tr>\n",
       "    <tr>\n",
       "      <th>2018-10-25</th>\n",
       "      <td>216.771</td>\n",
       "      <td>222.297</td>\n",
       "      <td>203.104</td>\n",
       "      <td>...</td>\n",
       "      <td>214.643</td>\n",
       "      <td>213.454</td>\n",
       "      <td>209.706</td>\n",
       "    </tr>\n",
       "    <tr>\n",
       "      <th>2018-10-26</th>\n",
       "      <td>215.066</td>\n",
       "      <td>223.664</td>\n",
       "      <td>207.156</td>\n",
       "      <td>...</td>\n",
       "      <td>217.002</td>\n",
       "      <td>215.514</td>\n",
       "      <td>209.184</td>\n",
       "    </tr>\n",
       "    <tr>\n",
       "      <th>2018-10-27</th>\n",
       "      <td>212.246</td>\n",
       "      <td>226.481</td>\n",
       "      <td>209.758</td>\n",
       "      <td>...</td>\n",
       "      <td>221.587</td>\n",
       "      <td>215.902</td>\n",
       "      <td>212.527</td>\n",
       "    </tr>\n",
       "    <tr>\n",
       "      <th>2018-10-28</th>\n",
       "      <td>216.578</td>\n",
       "      <td>232.171</td>\n",
       "      <td>213.951</td>\n",
       "      <td>...</td>\n",
       "      <td>220.071</td>\n",
       "      <td>217.082</td>\n",
       "      <td>212.750</td>\n",
       "    </tr>\n",
       "    <tr>\n",
       "      <th>...</th>\n",
       "      <td>...</td>\n",
       "      <td>...</td>\n",
       "      <td>...</td>\n",
       "      <td>...</td>\n",
       "      <td>...</td>\n",
       "      <td>...</td>\n",
       "      <td>...</td>\n",
       "    </tr>\n",
       "    <tr>\n",
       "      <th>2019-02-05</th>\n",
       "      <td>226.102</td>\n",
       "      <td>198.715</td>\n",
       "      <td>198.844</td>\n",
       "      <td>...</td>\n",
       "      <td>211.946</td>\n",
       "      <td>259.818</td>\n",
       "      <td>211.103</td>\n",
       "    </tr>\n",
       "    <tr>\n",
       "      <th>2019-02-06</th>\n",
       "      <td>225.122</td>\n",
       "      <td>194.560</td>\n",
       "      <td>199.440</td>\n",
       "      <td>...</td>\n",
       "      <td>211.764</td>\n",
       "      <td>255.586</td>\n",
       "      <td>213.298</td>\n",
       "    </tr>\n",
       "    <tr>\n",
       "      <th>2019-02-07</th>\n",
       "      <td>225.331</td>\n",
       "      <td>191.718</td>\n",
       "      <td>198.625</td>\n",
       "      <td>...</td>\n",
       "      <td>210.801</td>\n",
       "      <td>255.908</td>\n",
       "      <td>212.479</td>\n",
       "    </tr>\n",
       "    <tr>\n",
       "      <th>2019-02-08</th>\n",
       "      <td>225.987</td>\n",
       "      <td>189.711</td>\n",
       "      <td>197.226</td>\n",
       "      <td>...</td>\n",
       "      <td>211.888</td>\n",
       "      <td>255.198</td>\n",
       "      <td>218.626</td>\n",
       "    </tr>\n",
       "    <tr>\n",
       "      <th>2019-02-09</th>\n",
       "      <td>225.153</td>\n",
       "      <td>189.261</td>\n",
       "      <td>197.252</td>\n",
       "      <td>...</td>\n",
       "      <td>211.945</td>\n",
       "      <td>260.762</td>\n",
       "      <td>218.264</td>\n",
       "    </tr>\n",
       "  </tbody>\n",
       "</table>\n",
       "<p>109 rows × 10 columns</p>\n",
       "</div>"
      ],
      "text/plain": [
       "                  0        1        2   ...           7        8        9\n",
       "2018-10-24  214.106  218.850  207.125   ...     212.857  213.767  211.182\n",
       "2018-10-25  216.771  222.297  203.104   ...     214.643  213.454  209.706\n",
       "2018-10-26  215.066  223.664  207.156   ...     217.002  215.514  209.184\n",
       "2018-10-27  212.246  226.481  209.758   ...     221.587  215.902  212.527\n",
       "2018-10-28  216.578  232.171  213.951   ...     220.071  217.082  212.750\n",
       "...             ...      ...      ...   ...         ...      ...      ...\n",
       "2019-02-05  226.102  198.715  198.844   ...     211.946  259.818  211.103\n",
       "2019-02-06  225.122  194.560  199.440   ...     211.764  255.586  213.298\n",
       "2019-02-07  225.331  191.718  198.625   ...     210.801  255.908  212.479\n",
       "2019-02-08  225.987  189.711  197.226   ...     211.888  255.198  218.626\n",
       "2019-02-09  225.153  189.261  197.252   ...     211.945  260.762  218.264\n",
       "\n",
       "[109 rows x 10 columns]"
      ]
     },
     "execution_count": 28,
     "metadata": {},
     "output_type": "execute_result"
    }
   ],
   "source": [
    "S0 = closes_aapl.iloc[-1,0]  # Condición inicial del precio a simular\n",
    "sim_closes = S0*np.exp(sim_ret.cumsum())\n",
    "sim_closes"
   ]
  },
  {
   "cell_type": "markdown",
   "metadata": {},
   "source": [
    "- Graficar:"
   ]
  },
  {
   "cell_type": "code",
   "execution_count": 29,
   "metadata": {},
   "outputs": [],
   "source": [
    "#sim_closes.plot(figsize=(8,6));"
   ]
  },
  {
   "cell_type": "code",
   "execution_count": 30,
   "metadata": {
    "scrolled": false
   },
   "outputs": [
    {
     "data": {
      "image/png": "[encoded data removed]",
      "text/plain": [
       "<Figure size 576x432 with 1 Axes>"
      ]
     },
     "metadata": {},
     "output_type": "display_data"
    }
   ],
   "source": [
    "# Se muestran los precios simulados con los precios descargados\n",
    "pd.concat([closes_aapl,sim_closes]).plot(figsize=(8,6));"
   ]
  },
  {
   "cell_type": "code",
   "execution_count": 31,
   "metadata": {},
   "outputs": [
    {
     "data": {
      "text/plain": [
       "{'contractSymbol': 'AAPL200619C00195000',\n",
       " 'strike': 195.0,\n",
       " 'currency': 'USD',\n",
       " 'lastPrice': 39.73,\n",
       " 'change': -4.540001,\n",
       " 'percentChange': -10.255254,\n",
       " 'volume': 4,\n",
       " 'openInterest': 1380,\n",
       " 'bid': 40.0,\n",
       " 'ask': 44.5,\n",
       " 'contractSize': 'REGULAR',\n",
       " 'expiration': 1592524800,\n",
       " 'lastTradeDate': 1540842499,\n",
       " 'impliedVolatility': 0.3408116456604004,\n",
       " 'inTheMoney': True}"
      ]
     },
     "execution_count": 31,
     "metadata": {},
     "output_type": "execute_result"
    }
   ],
   "source": [
    "opcion_valuar['JSON']"
   ]
  },
  {
   "cell_type": "code",
   "execution_count": 32,
   "metadata": {},
   "outputs": [],
   "source": [
    "K=200  # strike price\n",
    "ndays = 109 \n",
    "nscen = 100000\n",
    "dates = pd.date_range('2018-10-29', periods = ndays)\n",
    "S0 = closes_aapl.iloc[-1,0]  # Condición inicial del precio a simular\n",
    "\n",
    "sim_ret = pd.DataFrame(sigma*np.random.randn(ndays,nscen)+r,index=dates)\n",
    "sim_closes = S0*np.exp(sim_ret.cumsum())\n",
    "#strike = pd.DataFrame({'Strike':K*np.ones(ndays)}, index=dates)\n",
    "#simul = pd.concat([closes_aapl.T,strike.T,sim_closes.T]).T\n",
    "#simul.plot(figsize=(8,6),legend=False);"
   ]
  },
  {
   "cell_type": "code",
   "execution_count": 33,
   "metadata": {},
   "outputs": [
    {
     "data": {
      "image/png": "[encoded data removed]",
      "text/plain": [
       "<Figure size 432x288 with 1 Axes>"
      ]
     },
     "metadata": {},
     "output_type": "display_data"
    }
   ],
   "source": [
    "strike = pd.DataFrame(K*np.ones([ndays,nscen]), index=dates)\n",
    "call = pd.DataFrame({'Prima':np.exp(-r*ndays) \\\n",
    "              *np.fmax(sim_closes-strike,np.zeros([ndays,nscen])).T.mean()}, index=dates)\n",
    "call.plot();"
   ]
  },
  {
   "cell_type": "markdown",
   "metadata": {},
   "source": [
    "La valuación de la opción es:"
   ]
  },
  {
   "cell_type": "code",
   "execution_count": 34,
   "metadata": {},
   "outputs": [
    {
     "data": {
      "text/plain": [
       "Prima    20.92\n",
       "Name: 2019-02-14 00:00:00, dtype: float64"
      ]
     },
     "execution_count": 34,
     "metadata": {},
     "output_type": "execute_result"
    }
   ],
   "source": [
    "call.iloc[-1]"
   ]
  },
  {
   "cell_type": "markdown",
   "metadata": {},
   "source": [
    "Intervalo de confianza del 99%"
   ]
  },
  {
   "cell_type": "code",
   "execution_count": 35,
   "metadata": {
    "scrolled": true
   },
   "outputs": [
    {
     "name": "stdout",
     "output_type": "stream",
     "text": [
      "(20.67782582534784, 21.16297325105156)\n",
      "(20.67782582534784, 21.16297325105156)\n"
     ]
    }
   ],
   "source": [
    "confianza = 0.99\n",
    "sigma_est = sim_closes.iloc[-1].sem()\n",
    "mean_est = call.iloc[-1].Prima\n",
    "i1 = st.t.interval(confianza,nscen-1, loc=mean_est, scale=sigma_est)\n",
    "i2 = st.norm.interval(confianza, loc=mean_est, scale=sigma_est)\n",
    "print(i1)\n",
    "print(i1)\n"
   ]
  },
  {
   "cell_type": "markdown",
   "metadata": {},
   "source": [
    "### Análisis de la distribución de los rendimientos"
   ]
  },
  {
   "cell_type": "code",
   "execution_count": 53,
   "metadata": {},
   "outputs": [
    {
     "data": {
      "image/png": "[encoded data removed]",
      "text/plain": [
       "<Figure size 432x288 with 1 Axes>"
      ]
     },
     "metadata": {},
     "output_type": "display_data"
    }
   ],
   "source": [
    "ren = calc_daily_ret(closes_aapl) # rendimientos \n",
    "y,x,des = plt.hist(ren['AAPL'],bins=50,density=True,label='Histograma rendimientos')\n",
    "\n",
    "mu_fit,sd_fit = st.norm.fit(ren) # Se ajustan los parámetros de una normal\n",
    "# Valores máximo y mínimo de los rendiemientos a generar\n",
    "ren_max = max(x);ren_min = min(x)\n",
    "# Vector de rendimientos generados\n",
    "ren_gen = np.arange(ren_min,ren_max,0.001)\n",
    "# Generación de la normal ajustado con los parámetros encontrados\n",
    "curve_fit = st.norm.pdf(ren_gen,loc=mu_fit,scale=sd_fit)\n",
    "plt.plot(ren_gen,curve_fit,label='Distribución ajustada')\n",
    "plt.legend()\n",
    "plt.show()\n"
   ]
  },
  {
   "cell_type": "code",
   "execution_count": 48,
   "metadata": {},
   "outputs": [
    {
     "data": {
      "image/png": "[encoded data removed]",
      "text/plain": [
       "<Figure size 432x288 with 1 Axes>"
      ]
     },
     "metadata": {},
     "output_type": "display_data"
    }
   ],
   "source": [
    "st.probplot(ren['AAPL'], dist='norm', plot=plt);"
   ]
  },
  {
   "cell_type": "markdown",
   "metadata": {},
   "source": [
    "## 3. Valuación usando simulación: uso del histograma de rendimientos\n",
    "\n",
    "Todo el análisis anterior se mantiene. Solo cambia la forma de generar los números aleatorios para la simulación montecarlo.\n",
    "\n",
    "Ahora, generemos un histograma de los rendimientos diarios para generar valores aleatorios de los rendimientos simulados."
   ]
  },
  {
   "cell_type": "markdown",
   "metadata": {},
   "source": [
    "- Primero, cantidad de días y número de escenarios de simulación"
   ]
  },
  {
   "cell_type": "code",
   "execution_count": 54,
   "metadata": {},
   "outputs": [],
   "source": [
    "ndays = 109 \n",
    "nscen = 10"
   ]
  },
  {
   "cell_type": "markdown",
   "metadata": {},
   "source": [
    "- Del histograma anterior, ya conocemos las probabilidades de ocurrencia, lo que se llamó como variable `y`"
   ]
  },
  {
   "cell_type": "code",
   "execution_count": 55,
   "metadata": {},
   "outputs": [],
   "source": [
    "prob = y/np.sum(y)\n",
    "values = x[1:]"
   ]
  },
  {
   "cell_type": "markdown",
   "metadata": {},
   "source": [
    "- Con esto, generamos los números aleatorios correspondientes a los rendimientos (tantos como días por número de escenarios)."
   ]
  },
  {
   "cell_type": "code",
   "execution_count": 56,
   "metadata": {},
   "outputs": [
    {
     "data": {
      "text/html": [
       "<div>\n",
       "<style scoped>\n",
       "    .dataframe tbody tr th:only-of-type {\n",
       "        vertical-align: middle;\n",
       "    }\n",
       "\n",
       "    .dataframe tbody tr th {\n",
       "        vertical-align: top;\n",
       "    }\n",
       "\n",
       "    .dataframe thead th {\n",
       "        text-align: right;\n",
       "    }\n",
       "</style>\n",
       "<table border=\"1\" class=\"dataframe\">\n",
       "  <thead>\n",
       "    <tr style=\"text-align: right;\">\n",
       "      <th></th>\n",
       "      <th>0</th>\n",
       "      <th>1</th>\n",
       "      <th>2</th>\n",
       "      <th>...</th>\n",
       "      <th>7</th>\n",
       "      <th>8</th>\n",
       "      <th>9</th>\n",
       "    </tr>\n",
       "  </thead>\n",
       "  <tbody>\n",
       "    <tr>\n",
       "      <th>2018-10-29</th>\n",
       "      <td>5.880e-03</td>\n",
       "      <td>8.013e-03</td>\n",
       "      <td>-2.650e-03</td>\n",
       "      <td>...</td>\n",
       "      <td>-1.971e-02</td>\n",
       "      <td>2.721e-02</td>\n",
       "      <td>-6.915e-03</td>\n",
       "    </tr>\n",
       "    <tr>\n",
       "      <th>2018-10-30</th>\n",
       "      <td>3.747e-03</td>\n",
       "      <td>2.081e-02</td>\n",
       "      <td>-2.650e-03</td>\n",
       "      <td>...</td>\n",
       "      <td>-4.783e-03</td>\n",
       "      <td>1.615e-03</td>\n",
       "      <td>-9.048e-03</td>\n",
       "    </tr>\n",
       "    <tr>\n",
       "      <th>2018-10-31</th>\n",
       "      <td>-9.048e-03</td>\n",
       "      <td>-1.971e-02</td>\n",
       "      <td>-2.650e-03</td>\n",
       "      <td>...</td>\n",
       "      <td>1.615e-03</td>\n",
       "      <td>-9.048e-03</td>\n",
       "      <td>-2.650e-03</td>\n",
       "    </tr>\n",
       "    <tr>\n",
       "      <th>2018-11-01</th>\n",
       "      <td>-5.176e-04</td>\n",
       "      <td>1.868e-02</td>\n",
       "      <td>-1.545e-02</td>\n",
       "      <td>...</td>\n",
       "      <td>-6.915e-03</td>\n",
       "      <td>3.747e-03</td>\n",
       "      <td>5.880e-03</td>\n",
       "    </tr>\n",
       "    <tr>\n",
       "      <th>2018-11-02</th>\n",
       "      <td>1.615e-03</td>\n",
       "      <td>1.868e-02</td>\n",
       "      <td>-5.176e-04</td>\n",
       "      <td>...</td>\n",
       "      <td>1.868e-02</td>\n",
       "      <td>-1.331e-02</td>\n",
       "      <td>3.747e-03</td>\n",
       "    </tr>\n",
       "    <tr>\n",
       "      <th>...</th>\n",
       "      <td>...</td>\n",
       "      <td>...</td>\n",
       "      <td>...</td>\n",
       "      <td>...</td>\n",
       "      <td>...</td>\n",
       "      <td>...</td>\n",
       "      <td>...</td>\n",
       "    </tr>\n",
       "    <tr>\n",
       "      <th>2019-02-10</th>\n",
       "      <td>5.880e-03</td>\n",
       "      <td>1.441e-02</td>\n",
       "      <td>5.880e-03</td>\n",
       "      <td>...</td>\n",
       "      <td>-2.398e-02</td>\n",
       "      <td>1.228e-02</td>\n",
       "      <td>5.880e-03</td>\n",
       "    </tr>\n",
       "    <tr>\n",
       "      <th>2019-02-11</th>\n",
       "      <td>-1.545e-02</td>\n",
       "      <td>1.868e-02</td>\n",
       "      <td>-5.176e-04</td>\n",
       "      <td>...</td>\n",
       "      <td>4.640e-02</td>\n",
       "      <td>1.615e-03</td>\n",
       "      <td>1.015e-02</td>\n",
       "    </tr>\n",
       "    <tr>\n",
       "      <th>2019-02-12</th>\n",
       "      <td>1.615e-03</td>\n",
       "      <td>-2.650e-03</td>\n",
       "      <td>-2.650e-03</td>\n",
       "      <td>...</td>\n",
       "      <td>-5.176e-04</td>\n",
       "      <td>-5.176e-04</td>\n",
       "      <td>-9.048e-03</td>\n",
       "    </tr>\n",
       "    <tr>\n",
       "      <th>2019-02-13</th>\n",
       "      <td>1.615e-03</td>\n",
       "      <td>-5.176e-04</td>\n",
       "      <td>-9.048e-03</td>\n",
       "      <td>...</td>\n",
       "      <td>5.880e-03</td>\n",
       "      <td>3.747e-03</td>\n",
       "      <td>-5.176e-04</td>\n",
       "    </tr>\n",
       "    <tr>\n",
       "      <th>2019-02-14</th>\n",
       "      <td>1.228e-02</td>\n",
       "      <td>-2.650e-03</td>\n",
       "      <td>3.747e-03</td>\n",
       "      <td>...</td>\n",
       "      <td>-4.104e-02</td>\n",
       "      <td>1.441e-02</td>\n",
       "      <td>1.615e-03</td>\n",
       "    </tr>\n",
       "  </tbody>\n",
       "</table>\n",
       "<p>109 rows × 10 columns</p>\n",
       "</div>"
      ],
      "text/plain": [
       "                    0          1          2    ...              7  \\\n",
       "2018-10-29  5.880e-03  8.013e-03 -2.650e-03    ...     -1.971e-02   \n",
       "2018-10-30  3.747e-03  2.081e-02 -2.650e-03    ...     -4.783e-03   \n",
       "2018-10-31 -9.048e-03 -1.971e-02 -2.650e-03    ...      1.615e-03   \n",
       "2018-11-01 -5.176e-04  1.868e-02 -1.545e-02    ...     -6.915e-03   \n",
       "2018-11-02  1.615e-03  1.868e-02 -5.176e-04    ...      1.868e-02   \n",
       "...               ...        ...        ...    ...            ...   \n",
       "2019-02-10  5.880e-03  1.441e-02  5.880e-03    ...     -2.398e-02   \n",
       "2019-02-11 -1.545e-02  1.868e-02 -5.176e-04    ...      4.640e-02   \n",
       "2019-02-12  1.615e-03 -2.650e-03 -2.650e-03    ...     -5.176e-04   \n",
       "2019-02-13  1.615e-03 -5.176e-04 -9.048e-03    ...      5.880e-03   \n",
       "2019-02-14  1.228e-02 -2.650e-03  3.747e-03    ...     -4.104e-02   \n",
       "\n",
       "                    8          9  \n",
       "2018-10-29  2.721e-02 -6.915e-03  \n",
       "2018-10-30  1.615e-03 -9.048e-03  \n",
       "2018-10-31 -9.048e-03 -2.650e-03  \n",
       "2018-11-01  3.747e-03  5.880e-03  \n",
       "2018-11-02 -1.331e-02  3.747e-03  \n",
       "...               ...        ...  \n",
       "2019-02-10  1.228e-02  5.880e-03  \n",
       "2019-02-11  1.615e-03  1.015e-02  \n",
       "2019-02-12 -5.176e-04 -9.048e-03  \n",
       "2019-02-13  3.747e-03 -5.176e-04  \n",
       "2019-02-14  1.441e-02  1.615e-03  \n",
       "\n",
       "[109 rows x 10 columns]"
      ]
     },
     "execution_count": 56,
     "metadata": {},
     "output_type": "execute_result"
    }
   ],
   "source": [
    "ret = np.random.choice(values, ndays*nscen, p=prob)\n",
    "dates = pd.date_range('2018-10-29',periods=ndays)\n",
    "sim_ret_hist = pd.DataFrame(ret.reshape((ndays,nscen)),index=dates)\n",
    "sim_ret_hist"
   ]
  },
  {
   "cell_type": "code",
   "execution_count": null,
   "metadata": {},
   "outputs": [],
   "source": []
  },
  {
   "cell_type": "code",
   "execution_count": 58,
   "metadata": {
    "scrolled": false
   },
   "outputs": [
    {
     "data": {
      "text/html": [
       "<div>\n",
       "<style scoped>\n",
       "    .dataframe tbody tr th:only-of-type {\n",
       "        vertical-align: middle;\n",
       "    }\n",
       "\n",
       "    .dataframe tbody tr th {\n",
       "        vertical-align: top;\n",
       "    }\n",
       "\n",
       "    .dataframe thead th {\n",
       "        text-align: right;\n",
       "    }\n",
       "</style>\n",
       "<table border=\"1\" class=\"dataframe\">\n",
       "  <thead>\n",
       "    <tr style=\"text-align: right;\">\n",
       "      <th></th>\n",
       "      <th>0</th>\n",
       "      <th>1</th>\n",
       "      <th>2</th>\n",
       "      <th>...</th>\n",
       "      <th>7</th>\n",
       "      <th>8</th>\n",
       "      <th>9</th>\n",
       "    </tr>\n",
       "  </thead>\n",
       "  <tbody>\n",
       "    <tr>\n",
       "      <th>2018-10-29</th>\n",
       "      <td>213.492</td>\n",
       "      <td>213.947</td>\n",
       "      <td>211.678</td>\n",
       "      <td>...</td>\n",
       "      <td>208.098</td>\n",
       "      <td>218.093</td>\n",
       "      <td>210.777</td>\n",
       "    </tr>\n",
       "    <tr>\n",
       "      <th>2018-10-30</th>\n",
       "      <td>214.293</td>\n",
       "      <td>218.446</td>\n",
       "      <td>211.118</td>\n",
       "      <td>...</td>\n",
       "      <td>207.105</td>\n",
       "      <td>218.446</td>\n",
       "      <td>208.879</td>\n",
       "    </tr>\n",
       "    <tr>\n",
       "      <th>2018-10-31</th>\n",
       "      <td>212.363</td>\n",
       "      <td>214.182</td>\n",
       "      <td>210.559</td>\n",
       "      <td>...</td>\n",
       "      <td>207.439</td>\n",
       "      <td>216.478</td>\n",
       "      <td>208.326</td>\n",
       "    </tr>\n",
       "    <tr>\n",
       "      <th>2018-11-01</th>\n",
       "      <td>212.253</td>\n",
       "      <td>218.220</td>\n",
       "      <td>207.332</td>\n",
       "      <td>...</td>\n",
       "      <td>206.010</td>\n",
       "      <td>217.291</td>\n",
       "      <td>209.555</td>\n",
       "    </tr>\n",
       "    <tr>\n",
       "      <th>2018-11-02</th>\n",
       "      <td>212.596</td>\n",
       "      <td>222.333</td>\n",
       "      <td>207.225</td>\n",
       "      <td>...</td>\n",
       "      <td>209.893</td>\n",
       "      <td>214.418</td>\n",
       "      <td>210.341</td>\n",
       "    </tr>\n",
       "    <tr>\n",
       "      <th>...</th>\n",
       "      <td>...</td>\n",
       "      <td>...</td>\n",
       "      <td>...</td>\n",
       "      <td>...</td>\n",
       "      <td>...</td>\n",
       "      <td>...</td>\n",
       "      <td>...</td>\n",
       "    </tr>\n",
       "    <tr>\n",
       "      <th>2019-02-10</th>\n",
       "      <td>261.301</td>\n",
       "      <td>257.979</td>\n",
       "      <td>245.631</td>\n",
       "      <td>...</td>\n",
       "      <td>266.933</td>\n",
       "      <td>279.755</td>\n",
       "      <td>263.540</td>\n",
       "    </tr>\n",
       "    <tr>\n",
       "      <th>2019-02-11</th>\n",
       "      <td>257.296</td>\n",
       "      <td>262.842</td>\n",
       "      <td>245.504</td>\n",
       "      <td>...</td>\n",
       "      <td>279.610</td>\n",
       "      <td>280.207</td>\n",
       "      <td>266.227</td>\n",
       "    </tr>\n",
       "    <tr>\n",
       "      <th>2019-02-12</th>\n",
       "      <td>257.712</td>\n",
       "      <td>262.147</td>\n",
       "      <td>244.854</td>\n",
       "      <td>...</td>\n",
       "      <td>279.466</td>\n",
       "      <td>280.062</td>\n",
       "      <td>263.829</td>\n",
       "    </tr>\n",
       "    <tr>\n",
       "      <th>2019-02-13</th>\n",
       "      <td>258.129</td>\n",
       "      <td>262.011</td>\n",
       "      <td>242.649</td>\n",
       "      <td>...</td>\n",
       "      <td>281.114</td>\n",
       "      <td>281.114</td>\n",
       "      <td>263.693</td>\n",
       "    </tr>\n",
       "    <tr>\n",
       "      <th>2019-02-14</th>\n",
       "      <td>261.317</td>\n",
       "      <td>261.317</td>\n",
       "      <td>243.560</td>\n",
       "      <td>...</td>\n",
       "      <td>269.812</td>\n",
       "      <td>285.194</td>\n",
       "      <td>264.119</td>\n",
       "    </tr>\n",
       "  </tbody>\n",
       "</table>\n",
       "<p>109 rows × 10 columns</p>\n",
       "</div>"
      ],
      "text/plain": [
       "                  0        1        2   ...           7        8        9\n",
       "2018-10-29  213.492  213.947  211.678   ...     208.098  218.093  210.777\n",
       "2018-10-30  214.293  218.446  211.118   ...     207.105  218.446  208.879\n",
       "2018-10-31  212.363  214.182  210.559   ...     207.439  216.478  208.326\n",
       "2018-11-01  212.253  218.220  207.332   ...     206.010  217.291  209.555\n",
       "2018-11-02  212.596  222.333  207.225   ...     209.893  214.418  210.341\n",
       "...             ...      ...      ...   ...         ...      ...      ...\n",
       "2019-02-10  261.301  257.979  245.631   ...     266.933  279.755  263.540\n",
       "2019-02-11  257.296  262.842  245.504   ...     279.610  280.207  266.227\n",
       "2019-02-12  257.712  262.147  244.854   ...     279.466  280.062  263.829\n",
       "2019-02-13  258.129  262.011  242.649   ...     281.114  281.114  263.693\n",
       "2019-02-14  261.317  261.317  243.560   ...     269.812  285.194  264.119\n",
       "\n",
       "[109 rows x 10 columns]"
      ]
     },
     "execution_count": 58,
     "metadata": {},
     "output_type": "execute_result"
    }
   ],
   "source": [
    "sim_closes_hist = (closes_aapl.iloc[-1,0])*np.exp(sim_ret_hist.cumsum())\n",
    "sim_closes_hist"
   ]
  },
  {
   "cell_type": "code",
   "execution_count": 59,
   "metadata": {},
   "outputs": [
    {
     "data": {
      "image/png": "[encoded data removed]",
      "text/plain": [
       "<Figure size 576x432 with 1 Axes>"
      ]
     },
     "metadata": {},
     "output_type": "display_data"
    }
   ],
   "source": [
    "sim_closes_hist.plot(figsize=(8,6),legend=False);"
   ]
  },
  {
   "cell_type": "code",
   "execution_count": 62,
   "metadata": {},
   "outputs": [
    {
     "data": {
      "text/plain": [
       "Text(0.5,1,'Simulación usando el histograma de los rendimientos')"
      ]
     },
     "execution_count": 62,
     "metadata": {},
     "output_type": "execute_result"
    },
    {
     "data": {
      "image/png": "[encoded data removed]",
      "text/plain": [
       "<Figure size 576x432 with 1 Axes>"
      ]
     },
     "metadata": {},
     "output_type": "display_data"
    }
   ],
   "source": [
    "pd.concat([closes_aapl,sim_closes_hist]).plot(figsize=(8,6),legend=False);\n",
    "plt.title('Simulación usando el histograma de los rendimientos')"
   ]
  },
  {
   "cell_type": "code",
   "execution_count": 64,
   "metadata": {},
   "outputs": [],
   "source": [
    "K=200\n",
    "ndays = 109\n",
    "nscen = 10000\n",
    "freq, values = np.histogram(ret_aapl+r-mu, bins=2000)\n",
    "prob = freq/np.sum(freq)\n",
    "ret=np.random.choice(values[1:],ndays*nscen,p=prob)\n",
    "dates=pd.date_range('2018-10-29',periods=ndays)\n",
    "sim_ret_hist = pd.DataFrame(ret.reshape((ndays,nscen)),index=dates)\n",
    "sim_closes_hist = (closes_aapl.iloc[-1,0])*np.exp(sim_ret_hist.cumsum())"
   ]
  },
  {
   "cell_type": "code",
   "execution_count": 65,
   "metadata": {},
   "outputs": [
    {
     "data": {
      "image/png": "[encoded data removed]",
      "text/plain": [
       "<Figure size 432x288 with 1 Axes>"
      ]
     },
     "metadata": {},
     "output_type": "display_data"
    }
   ],
   "source": [
    "strike = pd.DataFrame(K*np.ones(ndays*nscen).reshape((ndays,nscen)), index=dates)\n",
    "call_hist = pd.DataFrame({'Prima':np.exp(-r*ndays)*np.fmax(sim_closes_hist-strike,np.zeros(ndays*nscen).reshape((ndays,nscen))).T.mean()}, index=dates)\n",
    "call_hist.plot();"
   ]
  },
  {
   "cell_type": "code",
   "execution_count": 66,
   "metadata": {
    "scrolled": true
   },
   "outputs": [
    {
     "data": {
      "text/plain": [
       "Prima    21.272\n",
       "Name: 2019-02-14 00:00:00, dtype: float64"
      ]
     },
     "execution_count": 66,
     "metadata": {},
     "output_type": "execute_result"
    }
   ],
   "source": [
    "call_hist.iloc[-1]"
   ]
  },
  {
   "cell_type": "code",
   "execution_count": 70,
   "metadata": {},
   "outputs": [
    {
     "data": {
      "text/plain": [
       "{'contractSymbol': 'AAPL190215C00200000',\n",
       " 'strike': 200.0,\n",
       " 'currency': 'USD',\n",
       " 'lastPrice': 21.85,\n",
       " 'change': -2.1999989,\n",
       " 'percentChange': -9.147605,\n",
       " 'volume': 331,\n",
       " 'openInterest': 2195,\n",
       " 'bid': 21.95,\n",
       " 'ask': 23.45,\n",
       " 'contractSize': 'REGULAR',\n",
       " 'expiration': 1550188800,\n",
       " 'lastTradeDate': 1540842922,\n",
       " 'impliedVolatility': 0.3687807263183594,\n",
       " 'inTheMoney': True}"
      ]
     },
     "execution_count": 70,
     "metadata": {},
     "output_type": "execute_result"
    }
   ],
   "source": [
    "opcion_valuar['JSON']"
   ]
  },
  {
   "cell_type": "markdown",
   "metadata": {},
   "source": [
    "Intervalo de confianza del 95%"
   ]
  },
  {
   "cell_type": "code",
   "execution_count": 67,
   "metadata": {
    "scrolled": true
   },
   "outputs": [
    {
     "name": "stdout",
     "output_type": "stream",
     "text": [
      "(20.691462641645206, 21.853006932164316)\n",
      "(20.691462641645206, 21.853006932164316)\n"
     ]
    }
   ],
   "source": [
    "confianza = 0.95\n",
    "sigma_est = sim_closes_hist.iloc[-1].sem()\n",
    "mean_est = call_hist.iloc[-1].Prima\n",
    "i1 = st.t.interval(confianza,nscen-1, loc=mean_est, scale=sigma_est)\n",
    "i2 = st.norm.interval(confianza, loc=mean_est, scale=sigma_est)\n",
    "print(i1)\n",
    "print(i1)\n"
   ]
  },
  {
   "cell_type": "markdown",
   "metadata": {},
   "source": [
    "# <font color = 'red'> Tarea: </font>\n",
    "\n",
    "Replicar el procedimiento anterior para valoración de opciones 'call', pero en este caso para opciones tipo 'put'."
   ]
  },
  {
   "cell_type": "markdown",
   "metadata": {},
   "source": [
    "<script>\n",
    "  $(document).ready(function(){\n",
    "    $('div.prompt').hide();\n",
    "    $('div.back-to-top').hide();\n",
    "    $('nav#menubar').hide();\n",
    "    $('.breadcrumb').hide();\n",
    "    $('.hidden-print').hide();\n",
    "  });\n",
    "</script>\n",
    "\n",
    "<footer id=\"attribution\" style=\"float:right; color:#808080; background:#fff;\">\n",
    "Created with Jupyter by Esteban Jiménez Rodríguez and modify by Oscar Jaramillo Z.\n",
    "</footer>"
   ]
  }
 ],
 "metadata": {
  "kernelspec": {
   "display_name": "Python 3",
   "language": "python",
   "name": "python3"
  },
  "language_info": {
   "codemirror_mode": {
    "name": "ipython",
    "version": 3
   },
   "file_extension": ".py",
   "mimetype": "text/x-python",
   "name": "python",
   "nbconvert_exporter": "python",
   "pygments_lexer": "ipython3",
   "version": "3.6.5"
  }
 },
 "nbformat": 4,
 "nbformat_minor": 2
}
