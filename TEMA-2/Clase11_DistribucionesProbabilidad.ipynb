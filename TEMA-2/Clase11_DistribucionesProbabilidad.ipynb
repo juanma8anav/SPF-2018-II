{
 "cells": [
  {
   "cell_type": "markdown",
   "metadata": {},
   "source": [
    "# Distribuciones de probabilidad"
   ]
  },
  {
   "cell_type": "code",
   "execution_count": 1,
   "metadata": {
    "collapsed": true
   },
   "outputs": [],
   "source": [
    "# Importamos librerías a trabajar en todas las simulaciones\n",
    "import matplotlib.pyplot as plt\n",
    "import numpy as np\n",
    "from itertools import cycle  # Librería para hacer ciclos\n",
    "import scipy.stats as st     # Librería estadística\n",
    "from math import factorial as fac # Importo la operación factorial\n",
    "\n",
    "%matplotlib inline"
   ]
  },
  {
   "cell_type": "markdown",
   "metadata": {},
   "source": [
    "## 1. Distrución de probabilidad uniforme\n",
    "$X\\sim U(a,b)$ Parámetros  $a,b \\rightarrow $ intervalo\n",
    "$$\\textbf{Función de densidad de probabilidad}\\\\f(x)=\\begin{cases}\\frac{1}{b-a} & a\\leq x \\leq b\\\\0& \\text{otro caso}\\end{cases}$$ \n",
    "$$ \\textbf{Función de distribución de probabilidad}\\\\F(x)=\\begin{cases}0& x<a\\\\\\frac{x-a}{b-a} & a\\leq x \\leq b\\\\1& x\\geq b\\end{cases}$$\n",
    "![imagen.png](attachment:imagen.png)"
   ]
  },
  {
   "cell_type": "markdown",
   "metadata": {},
   "source": [
    "### Uso en python"
   ]
  },
  {
   "cell_type": "code",
   "execution_count": 12,
   "metadata": {},
   "outputs": [
    {
     "data": {
      "text/plain": [
       "1.5101151430612667"
      ]
     },
     "execution_count": 12,
     "metadata": {},
     "output_type": "execute_result"
    }
   ],
   "source": [
    "a,b=1,2 # Interval\n",
    "U = np.random.uniform(a,b)\n",
    "U"
   ]
  },
  {
   "cell_type": "markdown",
   "metadata": {},
   "source": [
    "## 2. Distribución normal\n",
    "$X\\sim N(\\mu,\\sigma^2)$ Parámetros: Media=$\\mu$ y varianza=$\\sigma^2$\n",
    "$$ \\textbf{Función de densidad de probabilidad}\\\\ f(x)= \\frac{1}{\\sigma\\sqrt{2\\pi}}e^{\\frac{-(x-\\mu)^2}{2\\sigma^2}}$$\n",
    "$$ \\textbf{Función de distribución de probabilidad}\\\\ F(x)= \\frac{1}{\\sigma\\sqrt(2\\pi)}\\int_{-\\infty}^{x}e^{\\frac{-(v-\\mu)^2}{2\\sigma^2}}dv$$\n",
    "![imagen.png](attachment:imagen.png)\n"
   ]
  },
  {
   "cell_type": "markdown",
   "metadata": {},
   "source": [
    "### Propiedades\n",
    "![imagen.png](attachment:imagen.png)"
   ]
  },
  {
   "cell_type": "markdown",
   "metadata": {},
   "source": [
    "### Estandarización de variables aleatorias normales\n",
    "\n",
    "Como consecuencia de que la función normal es simétrica en $\\mu$ es posible relacionar todas las variables aleatorias normales con la distribución normal estándar.\n",
    "\n",
    "Si $X\\sim N(\\mu ,\\sigma ^{2})$, entonces\n",
    "$$Z = \\frac{X - \\mu}{\\sigma}$$\n",
    "\n",
    "es una variable aleatoria normal estándar: $Z\\sim N(0,1)$.\n",
    "\n",
    "### El Teorema del Límite Central\n",
    "El Teorema del límite central establece que bajo ciertas condiciones (como pueden ser independientes e idénticamente distribuidas con varianza finita), la suma de un gran número de variables aleatorias se distribuye aproximadamente como una normal. **(Hablar de la importancia del uso)**\n",
    "\n",
    "### Incidencia\n",
    "Cuando en un fenómeno se sospecha la presencia de un gran número de pequeñas causas actuando de forma aditiva e independiente es razonable pensar que las observaciones serán \"normales\". **(Debido al TLC)** \n",
    "\n",
    "Hay causas que pueden actuar de forma multiplicativa (más que aditiva). En este caso, la suposición de normalidad no está justificada y es el logaritmo de la variable en cuestión el que estaría normalmente distribuido. **(log-normal)**.\n",
    "\n",
    "### Ejemplo de aplicación\n",
    "En variables financieras, el modelo de Black-Scholes, el cúal es empleado para estimar el valor actual de una opción europea para la compra (Call), o venta (Put), de acciones en una fecha futura, supone normalidad en algunas variables económicas. ver:https://es.wikipedia.org/wiki/Modelo_de_Black-Scholes  para información adicional.\n",
    "\n",
    "> Referencia: https://es.wikipedia.org/wiki/Distribuci%C3%B3n_normal"
   ]
  },
  {
   "cell_type": "markdown",
   "metadata": {},
   "source": [
    "### Uso en python"
   ]
  },
  {
   "cell_type": "code",
   "execution_count": 17,
   "metadata": {},
   "outputs": [
    {
     "data": {
      "text/plain": [
       "array([-0.19380435, -0.06132069,  0.08167347, -0.06161148, -0.03165598])"
      ]
     },
     "execution_count": 17,
     "metadata": {},
     "output_type": "execute_result"
    }
   ],
   "source": [
    "mu, sigma = 0, 0.1 # mean and standard deviation\n",
    "N = np.random.normal(mu, sigma,5)\n",
    "N"
   ]
  },
  {
   "cell_type": "markdown",
   "metadata": {},
   "source": [
    "## 3. Distribución exponencial\n",
    "$X\\sim Exp(\\beta)$ Parámetros: Media $\\beta>0$ o tasa = $\\lambda = 1/\\beta$\n",
    "\n",
    "$$\\textbf{Función de densidad de probabilidad}\\\\f(x) = \\frac{1}{\\beta} e^{-\\frac{x}{\\beta}}$$\n",
    "$$\\textbf{Función de distribución de probabilidad}\\\\F(x) = 1-e^{-\\frac{x}{\\beta}}$$\n",
    "![imagen.png](attachment:imagen.png)\n",
    "\n",
    "### Ejemplos\n",
    "Ejemplos para la distribución exponencial **es la distribución de la longitud de los intervalos de una variable continua que transcurren entre dos sucesos**, que se distribuyen según la distribución de Poisson.\n",
    "\n",
    "   - El tiempo transcurrido en un centro de llamadas hasta recibir la primera llamada del día se podría modelar como una exponencial.\n",
    "   - El intervalo de tiempo entre terremotos (de una determinada magnitud) sigue una distribución exponencial.\n",
    "   - Supongamos una máquina que produce hilo de alambre, la cantidad de metros de alambre hasta encontrar una falla en el alambre se podría modelar como una exponencial.\n",
    "   - En fiabilidad de sistemas, un dispositivo con tasa de fallo constante sigue una distribución exponencial.\n",
    "   \n",
    "### Relaciones\n",
    "La suma de k  variables aleatorias independientes de distribución exponencial con parámetro $\\lambda$ es una variable aleatoria de distribución de Erlang.\n",
    "\n",
    "> Referencia: https://en.wikipedia.org/wiki/Exponential_distribution"
   ]
  },
  {
   "cell_type": "markdown",
   "metadata": {},
   "source": [
    "### Uso en python"
   ]
  },
  {
   "cell_type": "code",
   "execution_count": 19,
   "metadata": {},
   "outputs": [
    {
     "data": {
      "text/plain": [
       "array([3.94145274])"
      ]
     },
     "execution_count": 19,
     "metadata": {},
     "output_type": "execute_result"
    }
   ],
   "source": [
    "beta = 4\n",
    "E = np.random.exponential(beta,1)\n",
    "E"
   ]
  },
  {
   "cell_type": "markdown",
   "metadata": {},
   "source": [
    "## 4. Distribución erlang\n",
    "Parámetros: Tamaño $k \\in \\mathbb{N}$, escala=$\\frac{1}{\\beta}$\n",
    "$$\\textbf{Función de densidad de probabilidad}\\\\f(x)=x^{k-1}\\frac{e^{-x/\\beta}}{\\beta^k\\Gamma(k)}\\equiv x^{k-1}\\frac{e^{-x/\\beta}}{\\beta^k(k-1)!}$$\n",
    "\n",
    "$$\\textbf{Función de distribución de probabilidad}\\\\F(x)=1-\\sum_{n=0}^{k-1}\\frac{1}{n!}e^{-\\frac{1}{\\beta}x}\\big(\\frac{x}{\\beta}\\big)^n$$\n",
    "![imagen.png](attachment:imagen.png)\n",
    "\n",
    "### Simplificaciones\n",
    "La distribución Erlang con tamaño $k=1$ se simplifica a una distribución exponencial. Esta es una distribución de la suma de $k$ variables exponenciales donde cada una tiene media $\\beta$ \n",
    "\n",
    "### Ocurrencia\n",
    "**Tiempos de espera**\n",
    "\n",
    "Los eventos que ocurren de forma independiente con una tasa promedio se modelan con un proceso de Poisson. Los tiempos de espera entre k ocurrencias del evento son distribuidos Erlang. (La cuestión relacionada con el número de eventos en una cantidad de tiempo dada descrita por una distribución de Poisson).\n",
    "\n",
    "Las fórmulas de Erlang se han utilizado en economía de negocios para describir los tiempos entre compras de un activo.\n",
    "\n",
    "> Referencia: https://en.wikipedia.org/wiki/Erlang_distribution"
   ]
  },
  {
   "cell_type": "markdown",
   "metadata": {},
   "source": [
    "### Uso en python"
   ]
  },
  {
   "cell_type": "code",
   "execution_count": 35,
   "metadata": {},
   "outputs": [
    {
     "data": {
      "image/png": "[encoded data removed]",
      "text/plain": [
       "<Figure size 864x288 with 2 Axes>"
      ]
     },
     "metadata": {},
     "output_type": "display_data"
    }
   ],
   "source": [
    "from scipy.stats import erlang\n",
    "N = 10000        # Número de muestras\n",
    "k,scale = 3,1/4 # Parámetros de la distribución \n",
    "\n",
    "E1 = erlang.rvs(k,scale=scale,size=N)\n",
    "E2 = np.random.gamma(k,scale,N)   # Erlang como caso particular de la distribución gamma\n",
    "\n",
    "plt.figure(1,figsize=[12,4])\n",
    "plt.subplot(121)\n",
    "plt.hist(E1,50,density=True,label='Usando Lib. scipy')\n",
    "plt.legend()\n",
    "plt.subplot(122)\n",
    "plt.hist(E2,50,density=True,label='Usando Lib. numpy')\n",
    "plt.legend()\n",
    "plt.show()"
   ]
  },
  {
   "cell_type": "markdown",
   "metadata": {},
   "source": [
    "## 5. Distribución binomial\n",
    "$X\\sim B(n,p)$ Parámetros: $n$ y $p$\n",
    "$$\\textbf{Función de densidad de probabilidad}\\\\p_i=P(X=i)={n \\choose i}p^i(1-p)^{n-i}= \\frac{n!}{i!(n-i)!}p^i(1-p)^{n-i},\\quad i=0,1,\\cdots,n$$\n",
    ">Recordar:$$p_{i+1}=\\frac{n-i}{i+1}\\frac{p}{1-p} p_i $$\n",
    "\n",
    "$$\\textbf{Función de distribución de probabilidad}\\\\F(x)=\\sum_{i=0}^{k-1}\\frac{n!}{i!(n-i)!}p^i(1-p)^{n-i}$$"
   ]
  },
  {
   "cell_type": "code",
   "execution_count": 77,
   "metadata": {},
   "outputs": [
    {
     "data": {
      "image/png": "[encoded data removed]",
      "text/plain": [
       "<Figure size 432x288 with 1 Axes>"
      ]
     },
     "metadata": {},
     "output_type": "display_data"
    },
    {
     "data": {
      "image/png": "[encoded data removed]",
      "text/plain": [
       "<Figure size 432x288 with 1 Axes>"
      ]
     },
     "metadata": {},
     "output_type": "display_data"
    }
   ],
   "source": [
    "def proba_binomial(n:'Cantidad de ensayos',N:'Cantidad de puntos a graficar',\n",
    "                   p:'Probabilidad de los eventos'):\n",
    "    pi = [(1-p)**n]\n",
    "    add = pi.append\n",
    "    for i in range(N):\n",
    "        add(((n-i)*p*pi[-1])/((i+1)*(1-p)))\n",
    "    return pi\n",
    "\n",
    "n = [50,100,150]\n",
    "p = 0.5\n",
    "P = list(map(lambda x,n: proba_binomial(n,100,p),range(len(n)),n))\n",
    "P = np.asmatrix(P)\n",
    "# Gráfica de densidad de probabilidad\n",
    "plt.figure(1)\n",
    "plt.plot(P.T,'o',markersize=3)\n",
    "plt.legend(('n=50','n=100','n=150'))\n",
    "plt.title('Densidad de probabilidad')\n",
    "plt.show()\n",
    "\n",
    "# Probabilidad acumulada\n",
    "F = np.cumsum(P,axis=1)\n",
    "plt.figure(2)\n",
    "plt.plot(F.T,'o',markersize=3)\n",
    "plt.legend(('n=50','n=100','n=150'))\n",
    "plt.title('Distribución acumulada')\n",
    "plt.show()"
   ]
  },
  {
   "cell_type": "markdown",
   "metadata": {},
   "source": [
    "### Características\n",
    "La distribución binomial es una distribución de probabilidad discreta que cuenta el número de éxitos en una secuencia de **n ensayos de Bernoulli independientes entre sí**, con una probabilidad fija p de ocurrencia del éxito entre los ensayos. A lo que se denomina «éxito», tiene una probabilidad de ocurrencia p y al otro, «fracaso», tiene una probabilidad q = 1 - p. En la distribución binomial el anterior experimento se repite n veces, de forma independiente, y se designa por $X$ a la variable que mide el número de éxitos que se han producido en los n experimentos. \n",
    "\n",
    "Cuando se dan estas circunstancias, se dice que la variable $X$ sigue una distribución de probabilidad binomial, y se denota $X\\sim B(n,p)$.\n",
    "\n",
    "### Ejemplo\n",
    "Supongamos que se lanza un dado (con 6 caras) 51 veces y queremos conocer la probabilidad de que el número 3 salga 20 veces. En este caso tenemos una $X \\sim B(51, 1/6)$ y la probabilidad sería $P(X=20)$:\n",
    "\n",
    "$$P(X=20)={51 \\choose 20}(1/6)^{20}(1-1/6)^{51-20} $$"
   ]
  },
  {
   "cell_type": "code",
   "execution_count": 78,
   "metadata": {},
   "outputs": [
    {
     "name": "stdout",
     "output_type": "stream",
     "text": [
      "P(X=20)= 0.06786199515844335\n"
     ]
    }
   ],
   "source": [
    "n = 100; p=1/6; X=20\n",
    "print('P(X=20)=',st.binom(n,p).pmf(X))"
   ]
  },
  {
   "cell_type": "markdown",
   "metadata": {},
   "source": [
    "### Relaciones con otras variables aleatorias\n",
    "\n",
    "Si n tiende a infinito y p es tal que el producto entre ambos parámetros tiende a $\\lambda$, entonces la distribución de la variable aleatoria binomial tiende a una distribución de Poisson de parámetro $\\lambda$.\n",
    "\n",
    "Por último, se cumple que cuando $p =0.5$ y n es muy grande (usualmente se exige que $n\\geq 30$) la distribución binomial puede aproximarse mediante la distribución normal, con parámetros $\\mu=np,\\sigma^2=np(1-p)$.\n",
    "\n",
    "> Referencia: https://en.wikipedia.org/wiki/Binomial_distribution"
   ]
  },
  {
   "cell_type": "code",
   "execution_count": 93,
   "metadata": {},
   "outputs": [
    {
     "data": {
      "image/png": "[encoded data removed]",
      "text/plain": [
       "<Figure size 720x360 with 2 Axes>"
      ]
     },
     "metadata": {},
     "output_type": "display_data"
    }
   ],
   "source": [
    "p = .5; n = 40\n",
    "mu = n*p; sigma = np.sqrt(n*p*(1-p))\n",
    "# Usando nuetra función creada\n",
    "Bi = proba_binomial(n,50,p)\n",
    "plt.figure(1,figsize=[10,5])\n",
    "plt.subplot(121)\n",
    "plt.plot(Bi,'o')\n",
    "plt.title('Distribución binomial n=40,p=0.5')\n",
    "# Usando la función de la librería scipy para graficar la normal\n",
    "x = np.arange(0,50)\n",
    "Bi_norm = st.norm.pdf(x,loc=mu,scale=sigma)\n",
    "plt.subplot(122)\n",
    "plt.plot(Bi_norm,'o')\n",
    "plt.title('Distribución~normal(np,np(1-p))')\n",
    "plt.show()"
   ]
  },
  {
   "cell_type": "markdown",
   "metadata": {},
   "source": [
    "## 6. Distribución Poisson\n",
    "Parámetros: media=$\\lambda>0 \\in \\mathbb{R}$, N°Ocurrencias = k\n",
    "\n",
    "   - k es el número de ocurrencias del evento o fenómeno (la función nos da la probabilidad de que el evento suceda precisamente k veces).\n",
    "   - λ es un parámetro positivo que representa el número de veces que se espera que ocurra el fenómeno durante un intervalo dado. Por ejemplo, si el suceso estudiado tiene lugar en promedio 4 veces por minuto y estamos interesados en la probabilidad de que ocurra k veces dentro de un intervalo de 10 minutos, usaremos un modelo de distribución de Poisson con λ = 10×4 = 40\n",
    "\n",
    "$$\\textbf{Función de densidad de probabilidad}\\\\p(k)=\\frac{\\lambda^k e^{-\\lambda}}{k!},\\quad k\\in \\mathbb{N}$$\n",
    "\n",
    "### Aplicación\n",
    "El número de sucesos en un intervalo de tiempo dado es una variable aleatoria de distribución de Poisson donde $\\lambda$ es la media de números de sucesos en este intervalo.\n",
    "\n",
    "### Relación con distribución Erlang o Gamma\n",
    "El tiempo hasta que ocurre el suceso número k en un proceso de Poisson de intensidad $\\lambda$ es una variable aleatoria con distribución gamma o (lo mismo) con distribución de Erlang con $ \\beta =1/\\lambda $\n",
    "\n",
    "### Aproximación normal\n",
    "Como consecuencia del teorema central del límite, para valores grandes de $\\lambda$ , una variable aleatoria de Poisson X puede aproximarse por otra normal, con parámetros $\\mu=\\sigma^2=\\lambda$. Por otro lado, si el cociente \n",
    "$$Y=\\frac{X-\\lambda}{\\sqrt{\\lambda}}$$\n",
    "converge a una distribución normal de media 0 y varianza 1.\n",
    "\n",
    "### Ejemplo\n",
    "Si el 2% de los libros encuadernados en cierto taller tiene encuadernación defectuosa, para obtener la probabilidad de que 5 de 400 libros encuadernados en este taller tengan encuadernaciones defectuosas usamos la distribución de Poisson. En este caso concreto, k es 5 y, λ, el valor esperado de libros defectuosos es el 2% de 400, es decir, 8. Por lo tanto, la probabilidad buscada es\n",
    "$$P(5;8)={\\frac {8^{5}e^{-8}}{5!}}=0,092$$\n",
    "\n",
    "> Referencia: https://es.wikipedia.org/wiki/Distribuci%C3%B3n_de_Poisson"
   ]
  },
  {
   "cell_type": "code",
   "execution_count": 94,
   "metadata": {},
   "outputs": [
    {
     "name": "stdout",
     "output_type": "stream",
     "text": [
      "P(5;8)= 0.09160366159257921\n"
     ]
    }
   ],
   "source": [
    "k=5; Lamda = 8\n",
    "print('P(5;8)=',st.poisson(Lamda).pmf(k))"
   ]
  },
  {
   "cell_type": "code",
   "execution_count": 134,
   "metadata": {},
   "outputs": [
    {
     "data": {
      "text/plain": [
       "401"
      ]
     },
     "execution_count": 134,
     "metadata": {},
     "output_type": "execute_result"
    }
   ],
   "source": [
    "sps.gamma(np.array([5,6])+1)\n",
    "# fac(np.array([5,6]))\n"
   ]
  },
  {
   "cell_type": "code",
   "execution_count": 159,
   "metadata": {},
   "outputs": [
    {
     "data": {
      "image/png": "[encoded data removed]",
      "text/plain": [
       "<Figure size 864x288 with 2 Axes>"
      ]
     },
     "metadata": {},
     "output_type": "display_data"
    }
   ],
   "source": [
    "import scipy.special as sps \n",
    "\n",
    "p = lambda k,l:(l**k*np.exp(-l))/sps.gamma(k+1)\n",
    "k = np.arange(0,50)\n",
    "l = [1,10,20,30]\n",
    "P = np.asmatrix(list(map(lambda x:p(k,x*np.ones(len(k))),l))).T\n",
    "\n",
    "plt.figure(1,figsize=[12,4])\n",
    "plt.subplot(121)\n",
    "plt.plot(P,'o',markersize=3)\n",
    "plt.legend(('$\\lambda$=1','$\\lambda$=10','$\\lambda$=20','$\\lambda$=30'))\n",
    "\n",
    "# Probabilidad acumulada \n",
    "P_ac = np.cumsum(P,axis=0)\n",
    "\n",
    "plt.subplot(122)\n",
    "plt.plot(P_ac,'o',markersize=3)\n",
    "[plt.hlines(P_ac[:,i],range(len(P_ac)),range(1,len(P_ac)+1)) for i in range(len(l))]\n",
    "plt.legend(('$\\lambda$=1','$\\lambda$=10','$\\lambda$=20','$\\lambda$=30'))\n",
    "plt.show()"
   ]
  },
  {
   "cell_type": "markdown",
   "metadata": {},
   "source": [
    "![imagen.png](attachment:imagen.png)"
   ]
  },
  {
   "cell_type": "markdown",
   "metadata": {},
   "source": [
    "## 7. Distribuciónn triangular\n",
    "Parámetros: \n",
    "   - a : $a\\in (-\\infty ,\\infty)$\n",
    "   - b : $b > a$ \n",
    "   - c : $a\\leq c\\leq b$\n",
    "   - Soporte: $a\\leq x\\leq b$ \n",
    "\n",
    "$$\\textbf{Función de densidad de probabilidad}\\\\f(x|a,b,c)={\\begin{cases}{\\frac {2(x-a)}{(b-a)(c-a)}}&{\\text{para }}a\\leq x<c,\\\\[4pt]{\\frac {2}{b-a}}&{\\text{para }}x=c,\\\\[4pt]{\\frac {2(b-x)}{(b-a)(b-c)}}&{\\text{para }}c<x\\leq b,\\\\[4pt]0&{\\text{para otros casos}}\\end{cases}}$$\n",
    "\n",
    "\n",
    "$$\\textbf{Función de distribución de probabilidad}\\\\F(x|a,b,c)={\\begin{cases}{0}&{\\text{para }}x\\leq a,\\\\[4pt]{\\frac {(x-a)^2}{(b-a)(c-a)}}&{\\text{para }}a< x\\leq c,\\\\[4pt]{1-\\frac{(b-x)^2}{(b-a)(b-c)}}&{\\text{para }}c<x< b,\\\\[4pt]1&{\\text{para }}b\\leq x\\end{cases}}$$\n",
    "\n",
    "![imagen.png](attachment:imagen.png)\n",
    "\n",
    "### Uso de la distribución triangular\n",
    "La distribución triangular es habitualmente empleada como una descripción subjetiva de una población para la que sólo se cuenta con una cantidad limitada de datos muestrales y, especialmente en casos en que la relación entre variables es conocida pero los **datos son escasos** (posiblemente porque es alto el costo de recolectarlos). Está basada en un conocimiento del mínimo y el máximo como el del valor modal. Por estos motivos, la Distribución Triangular ha sido denominada como la de \"falta de precisión\" o de información.\n",
    "\n",
    "> Referencia: https://en.wikipedia.org/wiki/Triangular_distribution"
   ]
  },
  {
   "cell_type": "markdown",
   "metadata": {},
   "source": [
    "# <font color ='red'> Tarea\n",
    "Generar valores aleatorios para la siguiente distribución de probabilidad\n",
    "    $$f(x)=\\begin{cases}\\frac{2}{(c-a)(b-a)}(x-a), & a\\leq x \\leq b\\\\ \\frac{-2}{(c-a)(c-b)}(x-c),& b\\leq x \\leq c \\end{cases}$$ con a=1; b=2; c=5\n",
    "1. Usando el método de la transformada inversa.\n",
    "2. Usando el método de aceptación y rechazo.\n",
    "3. En la librería `import scipy.stats as st` hay una función que genera variables aleatorias triangulares `st.triang.pdf(x, c, loc, scale)` donde \"c,loc,scale\" son los parámetros de esta distribución (similares a los que  nuestra función se llaman a,b,c, PERO NO IGUALES). Explorar el help de python para encontrar la equivalencia entre los parámetros \"c,loc,scale\" y los parámetros de nuestra función con parámetros \"a,b,c\". La solución esperada es como se muestra a continuación:\n",
    "![imagen.png](attachment:imagen.png)\n",
    "\n",
    "4. Generar 1000 variables aleatorias usando la función creada en el punto 2 y usando la función `st.triang.rvs` y graficar el histograma en dos gráficas diferentes de cada uno de los conjuntos de variables aleatorios creado. Se espera algo como esto:\n"
   ]
  },
  {
   "cell_type": "markdown",
   "metadata": {},
   "source": [
    "![imagen.png](attachment:imagen.png)"
   ]
  },
  {
   "cell_type": "markdown",
   "metadata": {},
   "source": [
    "## Entrega\n",
    "Se habilitará un enlace en moodle para subir un cuaderno de python con la solución. La fecha límite de entrega es para el lunes 8 de octubre a las 5 pm.\n"
   ]
  },
  {
   "cell_type": "markdown",
   "metadata": {},
   "source": [
    "<script>\n",
    "  $(document).ready(function(){\n",
    "    $('div.prompt').hide();\n",
    "    $('div.back-to-top').hide();\n",
    "    $('nav#menubar').hide();\n",
    "    $('.breadcrumb').hide();\n",
    "    $('.hidden-print').hide();\n",
    "  });\n",
    "</script>\n",
    "\n",
    "<footer id=\"attribution\" style=\"float:right; color:#808080; background:#fff;\">\n",
    "Created with Jupyter by Oscar David Jaramillo Zuluaga\n",
    "</footer>"
   ]
  }
 ],
 "metadata": {
  "kernelspec": {
   "display_name": "Python 3",
   "language": "python",
   "name": "python3"
  },
  "language_info": {
   "codemirror_mode": {
    "name": "ipython",
    "version": 3
   },
   "file_extension": ".py",
   "mimetype": "text/x-python",
   "name": "python",
   "nbconvert_exporter": "python",
   "pygments_lexer": "ipython3",
   "version": "3.7.0"
  }
 },
 "nbformat": 4,
 "nbformat_minor": 2
}
