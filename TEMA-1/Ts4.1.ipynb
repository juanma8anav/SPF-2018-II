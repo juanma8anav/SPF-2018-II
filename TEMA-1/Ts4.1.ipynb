{
 "cells": [
  {
   "cell_type": "code",
   "execution_count": 1,
   "metadata": {
    "collapsed": false
   },
   "outputs": [
    {
     "name": "stdout",
     "output_type": "stream",
     "text": [
      "('Orden y pedido:', [[34587, 163.8], [98762, 284.0], [77226, 108.85000000000001], [88112, 84.97]])\n"
     ]
    }
   ],
   "source": [
    "#variables\n",
    "c =[34587, 98762, 77226, 88112]\n",
    "d = [\"LP, M. Lutz\", \"PP, M. Lutz\", \"HFP, P. Berry\", \"EP3, B. Klein\"]\n",
    "e =[4,5,3,3,]\n",
    "f =[40.95, 56.8, 32.95, 24.99]\n",
    "#lista\n",
    "lista = list(map(lambda a: a+10 if a<100 else a,(list(map(lambda a,b: a*b, e,f)))))\n",
    "\n",
    "lista2 = list(map(lambda a,b: [a,b], c, lista))\n",
    "print('Orden, pedido:',lista2)\n",
    "\n",
    "#originalmente se iba a trabajar usando un excel, importandolo, lamentablemente el excel no se pudo leer, por lo que se tuvo \n",
    "#introducir las variables de manera directa. Si se ve bien el rpograma, en realidad se hizo de más, ya que solo se necesita la\n",
    "#cantidad y el precio para sacar el resultado final, pero de igual manera se dejarán. Primero se crea la variable lista con una\n",
    "#condición (if) y como dice la instrucción, de ser menor a 100 unidades el monto total, se le agregarán 10 unidades. A la vez se\n",
    "#utilizó lambda para poder plantear un arguento y luego modificarlo (en este caso sumarle cosas y/o luego juntarlos). Finalmente,\n",
    "#una vez definidas las varible necesarias, se imprimen junto a un mensaje para entedenr e contexto en el que se arrojan los resultados.\n",
    "\n"
   ]
  },
  {
   "cell_type": "code",
   "execution_count": null,
   "metadata": {
    "collapsed": true
   },
   "outputs": [],
   "source": []
  }
 ],
 "metadata": {
  "kernelspec": {
   "display_name": "Python [Root]",
   "language": "python",
   "name": "Python [Root]"
  },
  "language_info": {
   "codemirror_mode": {
    "name": "ipython",
    "version": 2
   },
   "file_extension": ".py",
   "mimetype": "text/x-python",
   "name": "python",
   "nbconvert_exporter": "python",
   "pygments_lexer": "ipython2",
   "version": "2.7.12"
  }
 },
 "nbformat": 4,
 "nbformat_minor": 0
}
