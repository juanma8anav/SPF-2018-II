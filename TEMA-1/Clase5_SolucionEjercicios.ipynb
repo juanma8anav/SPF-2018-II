{
 "cells": [
  {
   "cell_type": "markdown",
   "metadata": {},
   "source": [
    "# Ejercicios puestos en clase"
   ]
  },
  {
   "cell_type": "code",
   "execution_count": 1,
   "metadata": {
    "collapsed": true
   },
   "outputs": [],
   "source": [
    "# Paquetes a utilizar\n",
    "from functools import reduce\n",
    "import numpy as np"
   ]
  },
  {
   "cell_type": "markdown",
   "metadata": {},
   "source": [
    "1. Imagine una rutina contable utilizada en una librería. Funciona en una lista con sublistas, que se ven así:\n",
    "![imagen.png](attachment:imagen.png)\n",
    "Escriba un programa en Python, que devuelve una lista con tuplas de tamaño 2. Cada tupla consiste en el número de pedido y el costo total del pedido. El producto debe aumentarse en 10€ si el valor de la orden es inferior a 100,00 €. \n",
    "Escribe un programa Python usando unicamente las funciones **lambda y map**."
   ]
  },
  {
   "cell_type": "code",
   "execution_count": 10,
   "metadata": {
    "collapsed": false
   },
   "outputs": [
    {
     "data": {
      "text/plain": [
       "[('34587', 163.8),\n",
       " ('98762', 284.0),\n",
       " ('77226', 108.85000000000001),\n",
       " ('88112', 84.97)]"
      ]
     },
     "execution_count": 10,
     "metadata": {},
     "output_type": "execute_result"
    }
   ],
   "source": [
    "########### Solución\n",
    "orders = [ [\"34587\", \"Learning Python, Mark Lutz\", 4, 40.95], \n",
    "           [\"98762\", \"Programming Python, Mark Lutz\", 5, 56.80], \n",
    "           [\"77226\", \"Head First Python, Paul Barry\", 3,32.95],\n",
    "           [\"88112\", \"Einführung in Python3, Bernd Klein\", 3, 24.99]]\n",
    "import numpy as np\n",
    "p=lambda x,y:x*y\n",
    "def increase(value):\n",
    "    if(value<100):\n",
    "        value+=10\n",
    "    return value\n",
    "x=list(map(increase,[p(orders[i][2],orders[i][3]) for i in np.arange(len(orders))]))\n",
    "x\n",
    "\n",
    "#lista=list(map(increase,x)) \n",
    "result=list(map(lambda x,y: (x[0],y),orders,x))\n",
    "result"
   ]
  },
  {
   "cell_type": "markdown",
   "metadata": {},
   "source": [
    "### Forma alternativa"
   ]
  },
  {
   "cell_type": "code",
   "execution_count": null,
   "metadata": {
    "collapsed": true
   },
   "outputs": [],
   "source": [
    "min_order = 100\n",
    "invoice_totals = list(map(lambda x: x if x[1] >= min_order else (x[0], x[1] + 10), \n",
    "                 map(lambda x: (x[0],x[2] * x[3]), orders)))\n",
    "print(invoice_totals)"
   ]
  },
  {
   "cell_type": "markdown",
   "metadata": {},
   "source": [
    "2. La misma librería, pero esta vez trabajamos en una lista diferente. Las sublistas de nuestras listas se ven así: \n",
    "[número de orden, (número de artículo, cantidad, precio por unidad), ... (número de artículo, cantidad, precio por unidad)] \n",
    "\n",
    "`orders = [[1, (\"5464\", 4, 9.99), (\"8274\",18,12.99), (\"9744\", 9, 44.95)], \n",
    "\t       [2, (\"5464\", 9, 9.99), (\"9744\", 9, 44.95)],\n",
    "\t       [3, (\"5464\", 9, 9.99), (\"88112\", 11, 24.99)],\n",
    "           [4, (\"8732\", 7, 11.99), (\"7733\",11,18.99), (\"88112\", 5, 39.95)] ]`\n",
    "\n",
    "Escriba un programa que devuelva una lista de dos tuplas que tengan la información de (número de pedido, cantidad total de pedido). Utilice la función `Reduce`."
   ]
  },
  {
   "cell_type": "code",
   "execution_count": 2,
   "metadata": {
    "collapsed": false
   },
   "outputs": [
    {
     "name": "stdout",
     "output_type": "stream",
     "text": [
      "[[1, 688.3299999999999], [2, 504.46000000000004], [3, 374.79999999999995], [4, 502.57]]\n"
     ]
    }
   ],
   "source": [
    "########### Solución\n",
    "orders = [ [1, (\"5464\", 4, 9.99), (\"8274\",18,12.99), (\"9744\", 9, 44.95)], \n",
    "           [2, (\"5464\", 9, 9.99), (\"9744\", 9, 44.95)],\n",
    "           [3, (\"5464\", 9, 9.99), (\"88112\", 11, 24.99)],\n",
    "           [4, (\"8732\", 7, 11.99), (\"7733\",11,18.99), (\"88112\", 5, 39.95)] ]\n",
    "\n",
    "min_order = 100\n",
    "invoice_totals = list(map(lambda x: [x[0]] + list(map(lambda y: y[1]*y[2] \n",
    "                    if y[1]*y[2]>=min_order else y[1]*y[2] +10 , x[1:])), orders))\n",
    "\n",
    "invoice_totals = list(map(lambda x: [x[0]] + \\\n",
    "                 [reduce(lambda a,b: a + b, x[1:])], invoice_totals))\n",
    "\n",
    "print (invoice_totals)\n"
   ]
  },
  {
   "cell_type": "markdown",
   "metadata": {},
   "source": [
    "3. Use filter to eliminate all words that are shorter than 4 letters from a list of words\n",
    "`list='the notion of a lambda function goes all the way back to the origin of computer science'`"
   ]
  },
  {
   "cell_type": "code",
   "execution_count": 23,
   "metadata": {
    "collapsed": false
   },
   "outputs": [
    {
     "name": "stdout",
     "output_type": "stream",
     "text": [
      "['notion', 'lambda', 'function', 'goes', 'back', 'origin', 'computer', 'science']\n"
     ]
    }
   ],
   "source": [
    "########### Solución\n",
    "texto='the notion of a lambda function goes all the way back to the \\\n",
    "        origin of computer science'\n",
    "lista= filter(lambda x:len(x)>=4,texto.split())\n",
    "print(list(lista))"
   ]
  },
  {
   "cell_type": "markdown",
   "metadata": {},
   "source": [
    "4. Use filter to determine the percentage of Fahrenheit temperatures in a list are within the range 32 to 80"
   ]
  },
  {
   "cell_type": "code",
   "execution_count": 14,
   "metadata": {
    "collapsed": false
   },
   "outputs": [
    {
     "name": "stdout",
     "output_type": "stream",
     "text": [
      "[ 35.97387961  99.13294268  92.6178302   99.69549478  63.21119535\n",
      "  73.90387697  95.50028838  99.21476553  36.98251238 101.45813729\n",
      " 100.5917418   89.38159435  89.52156589  83.8084752   28.37990868\n",
      "  68.75395211  45.86132067  36.58307493  56.32208365  33.96219302\n",
      "  45.29071318  74.86289938  66.51091383  88.19316186  94.26635864\n",
      "  46.83131624 109.60744472 109.68427993  44.55796499  92.84146259]\n",
      "El porcentaje de temperaturas entre 32 y 80 es:46.67 porciento\n"
     ]
    }
   ],
   "source": [
    "########### Solución \n",
    "np.random.seed(55555)\n",
    "temperatures = np.random.uniform(25,110,30)\n",
    "print(temperatures)\n",
    "\n",
    "lista= filter(lambda x:x>=32 and x<=80,temperatures)\n",
    "print('El porcentaje de temperaturas entre 32 y 80 es:%.2f porciento' %((len(list(lista))/len(temperatures))*100))"
   ]
  },
  {
   "cell_type": "markdown",
   "metadata": {},
   "source": [
    "5. Use reduce to find the lower left corner (minimum x and minimum y value) for a list of point locations"
   ]
  },
  {
   "cell_type": "code",
   "execution_count": 15,
   "metadata": {
    "collapsed": false
   },
   "outputs": [
    {
     "name": "stdout",
     "output_type": "stream",
     "text": [
      "[[17 97]\n",
      " [22 33]\n",
      " [37 46]\n",
      " [57 28]\n",
      " [11 25]\n",
      " [14  2]\n",
      " [74 16]\n",
      " [12 37]\n",
      " [35 21]\n",
      " [66 65]\n",
      " [86 58]\n",
      " [67 81]\n",
      " [ 0 48]\n",
      " [28 66]\n",
      " [76 22]\n",
      " [46 47]\n",
      " [64  7]\n",
      " [88 94]\n",
      " [65 13]\n",
      " [75 89]\n",
      " [23 17]\n",
      " [36 63]\n",
      " [62 36]\n",
      " [64 17]\n",
      " [18 19]\n",
      " [88 41]\n",
      " [21 49]\n",
      " [98 36]\n",
      " [81 73]\n",
      " [62 90]]\n",
      "El mínimo valor de x es: 98\n"
     ]
    }
   ],
   "source": [
    "########### Solución 5\n",
    "np.random.seed(55555)\n",
    "point_xy = np.random.randint(0,100,[30,2])\n",
    "print(point_xy)\n",
    "\n",
    "lista_x = reduce(lambda a,b:a if a>b else b, list(map(lambda x:(x[0]),point_xy)))\n",
    "print('El mínimo valor de x es:',lista_x)"
   ]
  },
  {
   "cell_type": "markdown",
   "metadata": {},
   "source": [
    "6. Find all of the numbers from 1-1000 that are divisible by 7"
   ]
  },
  {
   "cell_type": "code",
   "execution_count": 18,
   "metadata": {
    "collapsed": false
   },
   "outputs": [
    {
     "name": "stdout",
     "output_type": "stream",
     "text": [
      "Los números divisibles por 7 son:\n",
      " [7, 14, 21, 28, 35, 42, 49, 56, 63, 70, 77, 84, 91, 98, 105, 112, 119, 126, 133, 140, 147, 154, 161, 168, 175, 182, 189, 196, 203, 210, 217, 224, 231, 238, 245, 252, 259, 266, 273, 280, 287, 294, 301, 308, 315, 322, 329, 336, 343, 350, 357, 364, 371, 378, 385, 392, 399, 406, 413, 420, 427, 434, 441, 448, 455, 462, 469, 476, 483, 490, 497, 504, 511, 518, 525, 532, 539, 546, 553, 560, 567, 574, 581, 588, 595, 602, 609, 616, 623, 630, 637, 644, 651, 658, 665, 672, 679, 686, 693, 700, 707, 714, 721, 728, 735, 742, 749, 756, 763, 770, 777, 784, 791, 798, 805, 812, 819, 826, 833, 840, 847, 854, 861, 868, 875, 882, 889, 896, 903, 910, 917, 924, 931, 938, 945, 952, 959, 966, 973, 980, 987, 994]\n"
     ]
    }
   ],
   "source": [
    "# como se llegaría al mismo resultado usando compresión de listas\n",
    "# results = [num for num in range(1000) if num % 7 == 0]\n",
    "\n",
    "# Solución utilizando la función filter\n",
    "number = np.arange(1,1001)\n",
    "div_7 = filter(lambda n:n%7==0,number)\n",
    "print('Los números divisibles por 7 son:\\n',list(div_7))"
   ]
  },
  {
   "cell_type": "markdown",
   "metadata": {},
   "source": [
    "7. Find all of the numbers from 1-1000 that have a 3 in them"
   ]
  },
  {
   "cell_type": "code",
   "execution_count": 23,
   "metadata": {
    "collapsed": false
   },
   "outputs": [
    {
     "name": "stdout",
     "output_type": "stream",
     "text": [
      "[3, 13, 23, 30, 31, 32, 33, 34, 35, 36, 37, 38, 39, 43, 53, 63, 73, 83, 93, 103, 113, 123, 130, 131, 132, 133, 134, 135, 136, 137, 138, 139, 143, 153, 163, 173, 183, 193, 203, 213, 223, 230, 231, 232, 233, 234, 235, 236, 237, 238, 239, 243, 253, 263, 273, 283, 293, 300, 301, 302, 303, 304, 305, 306, 307, 308, 309, 310, 311, 312, 313, 314, 315, 316, 317, 318, 319, 320, 321, 322, 323, 324, 325, 326, 327, 328, 329, 330, 331, 332, 333, 334, 335, 336, 337, 338, 339, 340, 341, 342, 343, 344, 345, 346, 347, 348, 349, 350, 351, 352, 353, 354, 355, 356, 357, 358, 359, 360, 361, 362, 363, 364, 365, 366, 367, 368, 369, 370, 371, 372, 373, 374, 375, 376, 377, 378, 379, 380, 381, 382, 383, 384, 385, 386, 387, 388, 389, 390, 391, 392, 393, 394, 395, 396, 397, 398, 399, 403, 413, 423, 430, 431, 432, 433, 434, 435, 436, 437, 438, 439, 443, 453, 463, 473, 483, 493, 503, 513, 523, 530, 531, 532, 533, 534, 535, 536, 537, 538, 539, 543, 553, 563, 573, 583, 593, 603, 613, 623, 630, 631, 632, 633, 634, 635, 636, 637, 638, 639, 643, 653, 663, 673, 683, 693, 703, 713, 723, 730, 731, 732, 733, 734, 735, 736, 737, 738, 739, 743, 753, 763, 773, 783, 793, 803, 813, 823, 830, 831, 832, 833, 834, 835, 836, 837, 838, 839, 843, 853, 863, 873, 883, 893, 903, 913, 923, 930, 931, 932, 933, 934, 935, 936, 937, 938, 939, 943, 953, 963, 973, 983, 993]\n"
     ]
    }
   ],
   "source": [
    "# como se llegaría al mismo resultado usando compresión de listas\n",
    "# results = [num for num in range(1000) if '3' in list(str(num))]\n",
    "\n",
    "# Solución utilizando la función filter\n",
    "number = np.arange(1,1001)\n",
    "fil_num = filter(lambda n:'3' in str(n),number)\n",
    "print(list(fil_num))"
   ]
  }
 ],
 "metadata": {
  "kernelspec": {
   "display_name": "Python [Anaconda2]",
   "language": "python",
   "name": "Python [Anaconda2]"
  },
  "language_info": {
   "codemirror_mode": {
    "name": "ipython",
    "version": 2
   },
   "file_extension": ".py",
   "mimetype": "text/x-python",
   "name": "python",
   "nbconvert_exporter": "python",
   "pygments_lexer": "ipython2",
   "version": "2.7.12"
  }
 },
 "nbformat": 4,
 "nbformat_minor": 2
}
