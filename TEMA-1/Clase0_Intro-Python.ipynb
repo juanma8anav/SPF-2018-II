{
 "cells": [
  {
   "cell_type": "markdown",
   "metadata": {},
   "source": [
    "\n",
    "<img style=\"float: right; margin: 0px 0px 15px 15px;\" src=\"http://quantlabs.net/blog/wp-content/uploads/2015/11/pythonlogo.jpg\" width=\"200px\" height=\"100px\" />\n",
    "\n",
    "# Introducción a python \n",
    "- Sintaxis básicas de [Pyhton](https://www.tutorialspoint.com/python/python_basic_syntax.htm.)\n",
    "- Tipos de variables de Python\n"
   ]
  },
  {
   "cell_type": "markdown",
   "metadata": {},
   "source": [
    "## Palabras reservadas por python (no ultilizar estas palabras para nombrar alguna variable)\n",
    "![imagen.png](attachment:imagen.png)"
   ]
  },
  {
   "cell_type": "markdown",
   "metadata": {},
   "source": [
    "## Lineas y sangría\n",
    "Python no crea bloques de código abriendo y cerrando llaves ({}) o paréntesis () o corchetes [], para indicar que cierta sintaxis como puede ser una función (`function`), un ciclo (`for, while, if,` etc) ha empezado y ha terminado. Para indicarle a python que un bloque de código comienzan y termina se tienen en cuenta la sangría desde que se escribe algunas de las \"plabras reservadas\", como por ejemplo\n"
   ]
  },
  {
   "cell_type": "code",
   "execution_count": 1,
   "metadata": {
    "collapsed": false
   },
   "outputs": [
    {
     "name": "stdout",
     "output_type": "stream",
     "text": [
      "Ingrese el valor de la variable condiciÃ³n -> 4\n",
      "El usuario ingresó un valor de condición diferente a 1 y 2\n"
     ]
    }
   ],
   "source": [
    "condicion = int(input(\"Ingrese el valor de la variable condición -> \"))\n",
    "if condicion == 1:\n",
    "    print(\"El usuario ingresó que condicion es igual a %d\" % (condicion) )\n",
    "elif condicion == 2:\n",
    "    print(\"El usuario ingresó que condicion es igual a 2\" )\n",
    "else:\n",
    "    print(\"El usuario ingresó un valor de condición diferente a 1 y 2\")"
   ]
  },
  {
   "cell_type": "markdown",
   "metadata": {},
   "source": [
    "## Comillas en python"
   ]
  },
  {
   "cell_type": "code",
   "execution_count": 6,
   "metadata": {
    "collapsed": false
   },
   "outputs": [
    {
     "name": "stdout",
     "output_type": "stream",
     "text": [
      "palabra\n",
      "La frase completa\n",
      " Este es un párrafo de varias \n",
      "lineas hechas como ejemplo para el curso de simulación de procesos financieros\n"
     ]
    }
   ],
   "source": [
    "Una_palabra = 'palabra'                  # este es el comentario de esta línea\n",
    "Una_frase = \"La frase completa\"\n",
    "Un_párrafo = \"\"\" Este es un párrafo de varias \n",
    "lineas hechas como ejemplo para el curso de simulación de procesos financieros\"\"\"\n",
    "print(Una_palabra)\n",
    "print(Una_frase)\n",
    "print(Un_párrafo)"
   ]
  },
  {
   "cell_type": "markdown",
   "metadata": {},
   "source": [
    "## Variables de python\n",
    "Los tipos de variables con los que trabaja python son:\n",
    "- Números\n",
    "     - Enteros (int)\n",
    "     - Enteros largos (long)- se pueden representar números en `octal` y `hexadecimal`\n",
    "     - Decimales (flotantes - float)\n",
    "     - Complejos \n",
    "- Texto (string)"
   ]
  },
  {
   "cell_type": "code",
   "execution_count": 6,
   "metadata": {
    "collapsed": false
   },
   "outputs": [
    {
     "name": "stdout",
     "output_type": "stream",
     "text": [
      "5 , 5.5 , Curso Simulación , 7 , 1e-05 , carlos , (4+5j)\n"
     ]
    }
   ],
   "source": [
    "entero = 5\n",
    "flotante = 5.5\n",
    "text = \"Curso Simulación\"\n",
    "a,b,c,d = 7, 1e-5, \"carlos\", 4+5j\n",
    "print(entero,',',flotante,',',text,',',a,',',b,',',c,',',d)"
   ]
  },
  {
   "cell_type": "markdown",
   "metadata": {},
   "source": [
    "### Tipos estándar de datos en python\n",
    "Python tiene cinco tipos estándar de datos, para almacenar datos en la memoria:\n",
    "- <font color = red> Números </font>\n",
    "- Texto \n",
    "- Listas\n",
    "- Tuplas\n",
    "- Diccionarios"
   ]
  },
  {
   "cell_type": "markdown",
   "metadata": {},
   "source": [
    "- ### Texto\n",
    "\n",
    "    Las variables que tienen almacenados texto se puede acceder a alguna posición de la variable en particular, haciendo uso de ([] y [:]) para indicar los indices que empiezan desde 0 para el comienzo de la palabra y trabajando en sentido contrario -1 para el último término. Observemos un ejemplo: \n",
    "    \n",
    "$$\\textbf{Distribuciones de listas, tuplas y textos}$$\n",
    "![imagen.png](attachment:imagen.png)"
   ]
  },
  {
   "cell_type": "code",
   "execution_count": 2,
   "metadata": {
    "collapsed": false
   },
   "outputs": [
    {
     "name": "stdout",
     "output_type": "stream",
     "text": [
      "Hola grupo estamos probando Hola grupo estamos probando \n"
     ]
    }
   ],
   "source": [
    "d =\"Hola grupo estamos probando \"\n",
    "# print(d)\n",
    "# print(d[4:8])\n",
    "# print(d[8:-2])\n",
    "# print(d[15:])\n",
    "# print(d+ \" -Adición de palabras\")\n",
    "print(d*2)"
   ]
  },
  {
   "cell_type": "markdown",
   "metadata": {},
   "source": [
    "- ### Listas\n",
    "\n",
    "    Las listas son herramientas que almacenan tipos de datos separados por comas (\",\") y encerrados dentro de un corchete ([]). Los items dentro de una lista pueden ser de diferente tipo. De igual forma que los textos también se puede acceder a una posición en particular de las listas usando ([],[:]), duplicar la lista usando ('*') y el operador ('+') para la concatenación de listas"
   ]
  },
  {
   "cell_type": "code",
   "execution_count": 19,
   "metadata": {
    "collapsed": false
   },
   "outputs": [
    {
     "name": "stdout",
     "output_type": "stream",
     "text": [
      "[1, 'una frase', 40, 5.5, (4+4j), [1, 2, 3], 'concatenacion', 6, 7]\n",
      "[1, 'una frase', 40, 5.5, (4+4j), [1, 2, 3], 1, 'una frase', 40, 5.5, (4+4j), [1, 2, 3]]\n"
     ]
    }
   ],
   "source": [
    "lista1 = ['Palabra', \"una frase\", 40, 5.5,4+4j,[1,2,3]]\n",
    "# print(lista1)\n",
    "lista1[0]=1                 # se puede modificar el contenido de una lista\n",
    "# print(lista1[0])\n",
    "# print(lista1[3:])\n",
    "# print(lista1[4:-1])\n",
    "# print(lista1[-1][0])\n",
    "print(lista1 + [\"concatenacion\",6,7])\n",
    "print(lista1*2)"
   ]
  },
  {
   "cell_type": "markdown",
   "metadata": {},
   "source": [
    "> Operaciones más habituales con listas en Python\n",
    "\n",
    "> Las operaciones más habituales que se realizan en Python son las siguientes:\n",
    ">   - `lista[i]`: Devuelve el elemento que está en la posición i de la lista.\n",
    ">   - `lista.pop(i)`: Devuelve el elemento en la posición i de una lista y luego lo borra.\n",
    ">   - `lista.append(elemento)`: Añade elemento al final de la lista.\n",
    ">   - `lista.insert(i, elemento)`: Inserta elemento en la posición i.\n",
    ">   - `lista.extend(lista2)`: Fusiona lista con lista2.\n",
    ">   - `lista.remove(elemento)`: Elimina la primera vez que aparece elemento.\n"
   ]
  },
  {
   "cell_type": "markdown",
   "metadata": {},
   "source": [
    "> <font color=blue> **Ejercicio: Probar el funcionamiento de cada una de estas funciones creando tu propia lista y modificándola **"
   ]
  },
  {
   "cell_type": "markdown",
   "metadata": {},
   "source": [
    "- ### Tuplas\n",
    "\n",
    "    Las tuplas son otras secuencia de datos simulares a las listas. Una tupla consiste de número de valores separados por comas (',') y deben de ser escritas dentro de paréntesis ('()'). A diferencia de las listas, las tuplas no pueden ser actualizadas (modificadas). Las tuplas entonces se pueden considerar como un objeto ** únicamente de lectura**. Las mismas funciones que cumplen las listas estan disponibles para las tuplas (`*,+,[]`)."
   ]
  },
  {
   "cell_type": "code",
   "execution_count": 24,
   "metadata": {
    "collapsed": false
   },
   "outputs": [
    {
     "name": "stdout",
     "output_type": "stream",
     "text": [
      "hola grupo\n",
      "(3, 5.5, 64, [1, 2])\n",
      "('hola grupo', 'finanzas', 3, 5.5, 64, [1, 2], 'hola grupo', 'finanzas', 3, 5.5, 64, [1, 2])\n",
      "('hola grupo', 'finanzas', 3, 5.5, 64, [1, 2], 1e-05, 'carlos')\n"
     ]
    }
   ],
   "source": [
    "tupla = (\"hola grupo\", 'finanzas', 3,5.5,0x40,[1,2])\n",
    "# print(tupla)\n",
    "print(tupla[0])\n",
    "print(tupla[2:])\n",
    "print(tupla*2)\n",
    "print(tupla+(1e-5,'carlos'))"
   ]
  },
  {
   "cell_type": "code",
   "execution_count": 25,
   "metadata": {
    "collapsed": false,
    "scrolled": true
   },
   "outputs": [
    {
     "ename": "TypeError",
     "evalue": "'tuple' object does not support item assignment",
     "output_type": "error",
     "traceback": [
      "\u001b[1;31m---------------------------------------------------------------------------\u001b[0m",
      "\u001b[1;31mTypeError\u001b[0m                                 Traceback (most recent call last)",
      "\u001b[1;32m<ipython-input-25-383c5931f8a1>\u001b[0m in \u001b[0;36m<module>\u001b[1;34m()\u001b[0m\n\u001b[0;32m      1\u001b[0m \u001b[1;31m## Sintaxis inválida -> 1\u001b[0m\u001b[1;33m\u001b[0m\u001b[1;33m\u001b[0m\u001b[0m\n\u001b[1;32m----> 2\u001b[1;33m \u001b[0mtupla\u001b[0m\u001b[1;33m[\u001b[0m\u001b[1;36m0\u001b[0m\u001b[1;33m]\u001b[0m\u001b[1;33m=\u001b[0m \u001b[1;36m1\u001b[0m\u001b[1;33m\u001b[0m\u001b[0m\n\u001b[0m\u001b[0;32m      3\u001b[0m \u001b[0mprint\u001b[0m\u001b[1;33m(\u001b[0m\u001b[0mtupla\u001b[0m\u001b[1;33m)\u001b[0m\u001b[1;33m\u001b[0m\u001b[0m\n",
      "\u001b[1;31mTypeError\u001b[0m: 'tuple' object does not support item assignment"
     ]
    }
   ],
   "source": [
    "## Sintaxis inválida -> 1\n",
    "tupla[0]= 1\n",
    "print(tupla)"
   ]
  },
  {
   "cell_type": "code",
   "execution_count": null,
   "metadata": {
    "collapsed": true,
    "scrolled": true
   },
   "outputs": [],
   "source": [
    "## Sintaxis inválida -> 2\n",
    "print(tupla+[1,2])\n",
    "# print(tupla+1)"
   ]
  },
  {
   "cell_type": "markdown",
   "metadata": {},
   "source": [
    "- ## Diccionarios\n",
    "    Como sucede con un diccionario convencional, un diccionario en Python es una palabra que tiene asociado algo. Al contrario de lo que sucedía en las listas, los diccionarios no tienen orden.\n",
    "\n",
    "    Se crean poniendo sus elementos entre llaves {“a”:”Alicante”, “b”:”Barcelona”,>>>}. Se denominan keys a las “palabras” y values a las “definiciones”.  Lógicamente, no puede haber dos keys iguales, aunque sí dos values iguales."
   ]
  },
  {
   "cell_type": "code",
   "execution_count": 34,
   "metadata": {
    "collapsed": false
   },
   "outputs": [
    {
     "name": "stdout",
     "output_type": "stream",
     "text": [
      "Fernando Alonso\n"
     ]
    }
   ],
   "source": [
    "diccionario={'Piloto 1':\"Fernando Alonso\", 'Piloto 2':'Kimi Raikkonen', 'Piloto 3':'Felipe Massa'}\n",
    "# print(diccionario)\n",
    "# print(diccionario['Piloto 1'])\n",
    "# print(diccionario['Piloto 2'])\n",
    "print(diccionario.get('Piloto 1'))\n"
   ]
  },
  {
   "cell_type": "markdown",
   "metadata": {},
   "source": [
    "> ### Operaciones más habituales con diccionarios en Python\n",
    "> Es similar a las listas, con el matiz de que dado que los diccionarios no tienen orden, no tienen funciones en las que se tenga en cuenta la posición.\n",
    ">    - `diccionario.get(‘key’)`: Devuelve el valor que corresponde con la key introducida.\n",
    ">    - `diccionario.pop(‘key’)`: Devuelve el valor que corresponde con la key introducida, y luego borra la key y el valor.\n",
    ">    - `“key” in diccionario`: Devuelve verdadero (True) o falso (False) si la key (no los valores) existe en el diccionario.\n",
    ">    - `“definicion” in diccionario.values()`: Devuelve verdadero (True) o falso (False) si definición existe en el diccionario (no como key).\n",
    ">    - `diccionario.keys()`: Devuelve todas las palabras `keys` del diccionario. \n",
    ">    - `diccionario.values()`: Devuelve todos los `values` de todas las palabras `keys` del diccionario.\n",
    "\n",
    ">Poniendo todo esto en un ejemplo:"
   ]
  },
  {
   "cell_type": "markdown",
   "metadata": {},
   "source": [
    "> <font color=blue> **Ejercicio: Probar el funcionamiento de cada una de estas funciones creando tu propio diccionario y modificándolo **"
   ]
  },
  {
   "cell_type": "markdown",
   "metadata": {},
   "source": [
    "- ## Conjuntos\n",
    "\n",
    "Un conjunto es una colección desordenada de elementos distintos.\n",
    "\n",
    "Bucles: la iteración sobre un conjunto tiene la misma sintaxis que iterar sobre una lista; sin embargo, como los conjuntos no están ordenados, no puede hacer suposiciones sobre el orden en que visita los elementos del conjunto:"
   ]
  },
  {
   "cell_type": "code",
   "execution_count": 55,
   "metadata": {
    "collapsed": false
   },
   "outputs": [
    {
     "name": "stdout",
     "output_type": "stream",
     "text": [
      "{0, 1, 2, 3, 4, 5}\n"
     ]
    }
   ],
   "source": [
    "from math import sqrt\n",
    "nums = {int(sqrt(x)) for x in range(30)}\n",
    "print(nums) "
   ]
  },
  {
   "cell_type": "markdown",
   "metadata": {},
   "source": [
    "## Operadores básicos\n",
    "\n",
    "- ### ** Tipos de operadores**\n",
    "Python soporta los siguientes tipos de operadores:\n",
    "    - Operadores aritméticos\n",
    "    - Operadores de comparación (relaciones)\n",
    "    - Operadores de asignación\n",
    "    - Operadores lógicos\n",
    "    - Operadores bit a bit\n",
    "    - Operadores de miembros (membership)\n",
    "    - Operadores de indentidad"
   ]
  },
  {
   "cell_type": "markdown",
   "metadata": {},
   "source": [
    "- ### Operadores aritméticos: Suponga a=10 y b=20\n",
    "![imagen.png](attachment:imagen.png)"
   ]
  },
  {
   "cell_type": "code",
   "execution_count": 36,
   "metadata": {
    "collapsed": false
   },
   "outputs": [
    {
     "name": "stdout",
     "output_type": "stream",
     "text": [
      "1\n"
     ]
    }
   ],
   "source": [
    "print(9%2)"
   ]
  },
  {
   "cell_type": "markdown",
   "metadata": {},
   "source": [
    "- ### Operadores de comparación (relaciones): Suponga a=10 y b=20\n",
    "![imagen.png](attachment:imagen.png)"
   ]
  },
  {
   "cell_type": "code",
   "execution_count": 40,
   "metadata": {
    "collapsed": false
   },
   "outputs": [
    {
     "name": "stdout",
     "output_type": "stream",
     "text": [
      "False\n"
     ]
    }
   ],
   "source": [
    "a=True\n",
    "b=False\n",
    "print(9<8)"
   ]
  },
  {
   "cell_type": "markdown",
   "metadata": {},
   "source": [
    "- ### Operadores de asignación \n",
    "![imagen.png](attachment:imagen.png)"
   ]
  },
  {
   "cell_type": "code",
   "execution_count": 46,
   "metadata": {
    "collapsed": false
   },
   "outputs": [
    {
     "name": "stdout",
     "output_type": "stream",
     "text": [
      "1\n"
     ]
    }
   ],
   "source": [
    "v=1\n",
    "v**=10\n",
    "print(v)"
   ]
  },
  {
   "cell_type": "markdown",
   "metadata": {},
   "source": [
    "- ### Operadores de pertenencia en python\n",
    "![imagen.png](attachment:imagen.png)"
   ]
  },
  {
   "cell_type": "code",
   "execution_count": 48,
   "metadata": {
    "collapsed": false
   },
   "outputs": [
    {
     "name": "stdout",
     "output_type": "stream",
     "text": [
      "True\n",
      "True\n"
     ]
    }
   ],
   "source": [
    "h = (1,'a',[1,2])\n",
    "y = [1,2]\n",
    "print(y in h)\n",
    "print(not h in y)"
   ]
  },
  {
   "cell_type": "markdown",
   "metadata": {},
   "source": [
    "- ### Operadores lógicos: Asuma que a=10 y b=20\n",
    "![imagen.png](attachment:imagen.png)"
   ]
  },
  {
   "cell_type": "code",
   "execution_count": 20,
   "metadata": {
    "collapsed": false
   },
   "outputs": [
    {
     "name": "stdout",
     "output_type": "stream",
     "text": [
      "False False True\n"
     ]
    }
   ],
   "source": [
    "c = not(True and True)\n",
    "a = False and True\n",
    "e = True or False\n",
    "print(c,a,e)"
   ]
  },
  {
   "cell_type": "markdown",
   "metadata": {},
   "source": [
    "- ### Operadores de indentidad de python\n",
    "![imagen.png](attachment:imagen.png)"
   ]
  },
  {
   "cell_type": "code",
   "execution_count": 52,
   "metadata": {
    "collapsed": false
   },
   "outputs": [
    {
     "name": "stdout",
     "output_type": "stream",
     "text": [
      "True\n"
     ]
    }
   ],
   "source": [
    "b = 4\n",
    "d = [4,5,6,7]\n",
    "g = 4\n",
    "# print(b is d)\n",
    "# print(b in d)\n",
    "# print(b is g)\n",
    "print(id(b) == id(g))"
   ]
  },
  {
   "cell_type": "markdown",
   "metadata": {},
   "source": [
    "- ## Precedencia de operadores en python\n",
    "![imagen.png](attachment:imagen.png)\n"
   ]
  },
  {
   "cell_type": "markdown",
   "metadata": {},
   "source": [
    "<img style=\"float: right; margin: 0px 0px 15px 15px;\" src=\"http://csrg.inf.utfsm.cl/~rbonvall/progra-utfsm-2010-1/_images/if-else.png\" width=\"200px\" height=\"100px\" />\n",
    "## Ciclos condicionales\n",
    "En todo programa que se precie, llega el momento en el que se llega a una bifuración y que en función de una determinada condición, hay que realizar una serie de cosas u otra.\n",
    "\n",
    "Esto se hace con el comando `if` (condición principal), con los opcionales `elif` (condiciones adicionales, se pueden poner tantas como se quiera) y `else` (si no se ha cumplido ninguna de las anteriores, sólo se puede poner una vez y al final).\n",
    "> **Las condiciones que se suelen usar con más frecuencia son**:\n",
    "> - `a == b `$\\longrightarrow$ Indica si a es igual a b\n",
    "> - `a < b`\n",
    "> - `a > b`\n",
    "> - `not` $\\longrightarrow$ NO: niega la condición que le sigue.\n",
    "> - `and` $\\longrightarrow$ Y: junta dos condiciones que tienen que cumplirse las dos\n",
    "> - `or`  $\\longrightarrow$ O: junta dos condiciones y tienen que cumplirse alguna de las dos.\n"
   ]
  },
  {
   "cell_type": "code",
   "execution_count": 58,
   "metadata": {
    "collapsed": false
   },
   "outputs": [
    {
     "name": "stdout",
     "output_type": "stream",
     "text": [
      "La condición con 'and' ya es falsa\n"
     ]
    }
   ],
   "source": [
    "a = [1,2,3,4,5,6,55]\n",
    "b = ['a','b','c','d']\n",
    "c = \"alberto cuestas\"\n",
    "d = 5\n",
    "# Ilustración de precedencia \n",
    "# print((5**2 * 2 + 5) / 5);print(5**2 * 2 + 5 / 5);print(d**2+10/10);\n",
    "\n",
    "# Estructura de If en python con muchas condiciones \n",
    "# if a[0]==d:\n",
    "#     print(\"La primera posición de la lista es \",d)\n",
    "# elif a[1]==d:\n",
    "#     print(\"La segunda posición de la lista es \",d)\n",
    "# elif a[2]==d:\n",
    "#     print(\"La tercera posición de la lista es \",d) \n",
    "# elif a[3]==d:\n",
    "#     print(\"La cuarta posición de la lista es \",d)\n",
    "# elif a[4]==d:\n",
    "#     print(\"La quinta posición de la lista es \",d)\n",
    "    \n",
    "# Condiciones múltiples\n",
    "# if ((d**2%5==0) and (d in a)) or ((c[0] in b) and (c[8] in b)):\n",
    "#     print(\"La condiciones 1 o 2 son verdaderas\")\n",
    "    \n",
    "# Uso del else\n",
    "if ((d**2%5==0) and (d in a)) and ((c[0] in b) and (c[7] in b)):\n",
    "    print(\"La dos condiciones son verdaderas\")\n",
    "else:\n",
    "    print(\"La condición con 'and' ya es falsa\")\n"
   ]
  },
  {
   "cell_type": "markdown",
   "metadata": {},
   "source": [
    "<img style=\"float: right; margin: 0px 0px 15px 15px;\" src=\"https://image.jimcdn.com/app/cms/image/transf/none/path/s37cc796afdd27ec2/image/i174a5e4a83b64a45/version/1368834058/image.jpg\" width=\"200px\" height=\"100px\" />\n",
    "## Bucles en python\n",
    "Todos los comandos y programaciones que realicemos en python se ejecutarán de manera secuencial, es decir primero se ejecuta la primera línea, luego la segunda y asi sucesivamente. En ocasiones necesitamos que cierta parte de nuestro código se ejecute un determindado número de veces, de esta necesidad resultan en python lo siguientes tipos de bucles:\n",
    "- Bucles `For`\n",
    "- Bucles `while`\n",
    "- Bucles anidados es decir '`for y while`', '`for y for`', '`while y while`'\n",
    "\n",
    "Un diagrama de flujo de estos dos tipos de bucles se muestra en la imagen de la derecha."
   ]
  },
  {
   "cell_type": "markdown",
   "metadata": {},
   "source": [
    "- ### Ciclo `while`\n",
    ">**Sintaxis**\n",
    ">$$\\textbf{while} \\ expresion: \\\\ \\quad instrucciones()$$"
   ]
  },
  {
   "cell_type": "code",
   "execution_count": 59,
   "metadata": {
    "collapsed": false
   },
   "outputs": [
    {
     "name": "stdout",
     "output_type": "stream",
     "text": [
      "La variable contar es = 0\n",
      "La variable contar es = 1\n",
      "La variable contar es = 2\n",
      "La variable contar es = 3\n",
      "La variable contar es = 4\n",
      "La variable es mayor que 5\n",
      "Se terminó el bucle Hasta luego!\n"
     ]
    }
   ],
   "source": [
    "contar = 0\n",
    "while (contar <5):\n",
    "    print(\"La variable contar es =\",contar)\n",
    "    contar+=1\n",
    "else:\n",
    "    print(\"La variable es mayor que 5\")\n",
    "print(\"Se terminó el bucle Hasta luego!\")"
   ]
  },
  {
   "cell_type": "markdown",
   "metadata": {},
   "source": [
    "- ### Lazos infinitos"
   ]
  },
  {
   "cell_type": "code",
   "execution_count": 60,
   "metadata": {
    "collapsed": false,
    "scrolled": true
   },
   "outputs": [
    {
     "name": "stdout",
     "output_type": "stream",
     "text": [
      "Ingrese un número :8\n",
      "El número ingresado es:  8\n",
      "Ingrese un número :8\n",
      "El número ingresado es:  8\n",
      "Ingrese un número :9\n",
      "El número ingresado es:  9\n",
      "Ingrese un número :10\n",
      "El número ingresado es:  10\n",
      "Ingrese un número :15\n",
      "El número ingresado es:  15\n",
      "Ingrese un número :458\n",
      "El número ingresado es:  458\n",
      "Ingrese un número :0\n",
      "El número ingresado es:  0\n",
      "Hasta luego!\n"
     ]
    }
   ],
   "source": [
    "var = 1\n",
    "while var == 1 :  # contruye un lazo infinito (siempre verdadero)\n",
    "    num = input(\"Ingrese un número :\")\n",
    "    print(\"El número ingresado es: \", num)\n",
    "    if num == '0':\n",
    "        break     # Detiene el ciclo infinito si el usuario ingresa el caracter '0'\n",
    "print(\"Hasta luego!\")"
   ]
  },
  {
   "cell_type": "markdown",
   "metadata": {},
   "source": [
    "- ### Ciclo `for`\n",
    "Python le brinda la posibilidad a este bucle de iterar sobre los items de una secuencia, que puede ser una lista o una palabra (string).\n",
    ">**Sintaxis**\n",
    ">$$\\textbf{for} \\ variable\\_iteradora \\ \\textbf{in} \\ secuencia: \\\\ \\quad instrucciones()$$"
   ]
  },
  {
   "cell_type": "code",
   "execution_count": 65,
   "metadata": {
    "collapsed": false
   },
   "outputs": [
    {
     "name": "stdout",
     "output_type": "stream",
     "text": [
      "la lista almacenó los siguientes datos:  [0, 2, 4]\n"
     ]
    }
   ],
   "source": [
    "# for sobre una secuencia que es una palabra\n",
    "# for i in \"abcdef\":\n",
    "#     print(\"La variable iteradora toma el valor de: \",i)\n",
    "\n",
    "# for sobre una secuencia que es una lista\n",
    "# for i in [1,2,3,4,5]:\n",
    "#     print(\"De la lista la i toma el valor de: \",i) \n",
    "\n",
    "# uso del objeto iterable \"range()\"\n",
    "lista = []\n",
    "for i in range(0,5,2): # itera desde 0 hasta 4\n",
    "    lista.append(i) \n",
    "print(\"la lista almacenó los siguientes datos: \",lista)\n",
    "    \n",
    "# # for de forma compacta\n",
    "# lista2 = [i**2 for i in range(0,5)]\n",
    "# print(lista2)"
   ]
  },
  {
   "cell_type": "code",
   "execution_count": 66,
   "metadata": {
    "collapsed": false
   },
   "outputs": [
    {
     "name": "stdout",
     "output_type": "stream",
     "text": [
      "2  is prime\n",
      "3  is prime\n",
      "5  is prime\n",
      "7  is prime\n",
      "11  is prime\n",
      "13  is prime\n",
      "17  is prime\n",
      "19  is prime\n",
      "23  is prime\n",
      "29  is prime\n",
      "31  is prime\n",
      "37  is prime\n",
      "41  is prime\n",
      "43  is prime\n",
      "47  is prime\n",
      "Good bye!\n"
     ]
    }
   ],
   "source": [
    "i = 2\n",
    "while(i < 50):\n",
    "   j = 2\n",
    "   while(j <= (i/j)):\n",
    "      if not(i%j): break\n",
    "      j = j + 1\n",
    "   if (j > i/j) : print( i, \" is prime\")\n",
    "   i = i + 1\n",
    "\n",
    "print(\"Good bye!\")"
   ]
  },
  {
   "cell_type": "markdown",
   "metadata": {},
   "source": [
    "- ### Estamentos de control del bucle\n",
    "Las instrucciones de control de bucle cambian la ejecución de su secuencia normal. Cuando la ejecución deja un ámbito, se destruyen todos los objetos automáticos que se crearon en ese ámbito.\n",
    "Python soporta los siguientes palabras de control \n",
    "    - `break`: Termina el bucle\n",
    "    - `continue`: Hace que el ciclo omita el resto de código faltante e inmediatamente vuelve a probar su condición antes de reiterar. \n",
    "    - `pass`:La declaración de pass es una operación nula; nada sucede cuando se ejecuta."
   ]
  },
  {
   "cell_type": "code",
   "execution_count": 70,
   "metadata": {
    "collapsed": false
   },
   "outputs": [
    {
     "name": "stdout",
     "output_type": "stream",
     "text": [
      "Current variable value : 9\n",
      "Current variable value : 8\n",
      "Current variable value : 7\n",
      "Current variable value : 6\n",
      "Current variable value : 4\n",
      "Current variable value : 3\n",
      "Current variable value : 2\n",
      "Current variable value : 1\n",
      "Current variable value : 0\n",
      "Hasta luego\n"
     ]
    }
   ],
   "source": [
    "# # Ejemplo 1\n",
    "# for letter in 'Python':     \n",
    "#    if letter == 'h':\n",
    "#       continue\n",
    "#    print('Letra actual :', letter)\n",
    "\n",
    "# # Ejemplo 2\n",
    "var = 10                    \n",
    "while var > 0:              \n",
    "   var -= 1\n",
    "   if var == 5:\n",
    "      continue\n",
    "   print('Current variable value :', var)\n",
    "print(\"Hasta luego\")\n",
    "\n",
    "# # Ejemplo 3\n",
    "# for letter in 'Python': \n",
    "#    if letter == 'h':\n",
    "#       pass\n",
    "#       print(\"Este es el bloque 'pass'\")\n",
    "#    print(\"Letra actual:\", letter)\n"
   ]
  },
  {
   "cell_type": "code",
   "execution_count": 72,
   "metadata": {
    "collapsed": false
   },
   "outputs": [
    {
     "name": "stdout",
     "output_type": "stream",
     "text": [
      "{0: 0, 2: 4, 4: 16}\n"
     ]
    }
   ],
   "source": [
    "# Comprensión de diccionarios y bucles\n",
    "nums = [0, 1, 2, 3, 4]\n",
    "even_num_to_square = {x: x ** 2 for x in nums if x % 2 == 0}\n",
    "print(even_num_to_square)"
   ]
  },
  {
   "cell_type": "code",
   "execution_count": 56,
   "metadata": {
    "collapsed": false
   },
   "outputs": [
    {
     "name": "stdout",
     "output_type": "stream",
     "text": [
      "{0, 1, 2, 3, 4, 5}\n"
     ]
    }
   ],
   "source": [
    "# Uso de los conjuntos\n",
    "from math import sqrt\n",
    "print({int(sqrt(i)) for i in range(30)})"
   ]
  },
  {
   "cell_type": "markdown",
   "metadata": {},
   "source": [
    "## Funciones\n",
    "\n",
    "Las funciones en python son definidas usando la palabra `def`. Por ejemplo:"
   ]
  },
  {
   "cell_type": "code",
   "execution_count": 62,
   "metadata": {
    "collapsed": false
   },
   "outputs": [
    {
     "name": "stdout",
     "output_type": "stream",
     "text": [
      "Negativa\n",
      "cero\n",
      "Positiva\n",
      "[1]\n"
     ]
    }
   ],
   "source": [
    "# Función signo\n",
    "def sign(x):\n",
    "    if x > 0:\n",
    "        return 'Positiva'\n",
    "    elif x < 0:\n",
    "        return 'Negativa'\n",
    "    else:\n",
    "        return 'cero'\n",
    "\n",
    "for x in [-1, 0, 1]:\n",
    "    print(sign(x))\n",
    "print([x for x in [-1, 0, 1] if sign(x)=='Positiva'])"
   ]
  },
  {
   "cell_type": "markdown",
   "metadata": {},
   "source": [
    "- ### Argumentos opcionales de las funciones "
   ]
  },
  {
   "cell_type": "code",
   "execution_count": 64,
   "metadata": {
    "collapsed": false
   },
   "outputs": [
    {
     "name": "stdout",
     "output_type": "stream",
     "text": [
      "Hola, Bob\n",
      "HOLAA!!, FRED!\n"
     ]
    }
   ],
   "source": [
    "def hello(name, fuerte=False):\n",
    "    if fuerte:\n",
    "        print('HOLAA!!, %s!' % name.upper())\n",
    "    else:\n",
    "        print('Hola, %s' % name)\n",
    "\n",
    "hello('Bob') # Imprime \"Hola, Bob\"\n",
    "hello('Fred', fuerte=True) "
   ]
  },
  {
   "cell_type": "markdown",
   "metadata": {},
   "source": [
    "## Importación de paquetes\n",
    "\n",
    "<img style=\"float: right; margin: 0px 0px 15px 15px;\" src=\"https://cdn-images-1.medium.com/max/400/1*mc5YIn7jvo5uwuqBOUDw7Q.jpeg\" width=\"200px\" height=\"100px\" />\n",
    "\n",
    "El código de Python en un módulo obtiene acceso al código en otro módulo mediante el proceso de importación. La declaración de importación es la forma más común de invocar la maquinaria de importación, pero no es la única.\n",
    "\n",
    "La instrucción de importación combina dos operaciones; **busca** el módulo nombrado, luego **vincula** los resultados de esa búsqueda a **un nombre** en el ámbito local. La operación de búsqueda de la declaración de importación se define como una llamada a la función `__import __()`, con los argumentos apropiados. El valor de retorno de `__import __()` se usa para realizar la operación de vinculación de nombre de la instrucción de importación.\n",
    "\n",
    ">**Ejemplo - Usar import (sintaxis)**\n",
    "\n",
    "> Se puede usar import de esta forma para importar un paquete o módulo:\n",
    "    >- `import package[.subpackage.[.module]]`"
   ]
  },
  {
   "cell_type": "code",
   "execution_count": 5,
   "metadata": {
    "collapsed": false
   },
   "outputs": [
    {
     "name": "stdout",
     "output_type": "stream",
     "text": [
      "1 1 2 3 5 8 1 1 2 3 5 8 "
     ]
    }
   ],
   "source": [
    "# Importación del módulo \"fibonacci\" - forma 1\n",
    "import fibonacci\n",
    "fibonacci.fib(10)    # impresión de los primeros 10 números de fibonacci\n",
    "\n",
    "# Importación del módulo \"fibonacci\" - forma 2\n",
    "from fibonacci import fib\n",
    "fib(10)"
   ]
  },
  {
   "cell_type": "code",
   "execution_count": 65,
   "metadata": {
    "collapsed": false
   },
   "outputs": [
    {
     "name": "stdout",
     "output_type": "stream",
     "text": [
      "[ 1  2  3  4  5  6  7  8  9 10]\n"
     ]
    }
   ],
   "source": [
    "import numpy as np\n",
    "print(np.r_[1:11])"
   ]
  }
 ],
 "metadata": {
  "kernelspec": {
   "display_name": "Python [Root]",
   "language": "python",
   "name": "Python [Root]"
  },
  "language_info": {
   "codemirror_mode": {
    "name": "ipython",
    "version": 2
   },
   "file_extension": ".py",
   "mimetype": "text/x-python",
   "name": "python",
   "nbconvert_exporter": "python",
   "pygments_lexer": "ipython2",
   "version": "2.7.12"
  }
 },
 "nbformat": 4,
 "nbformat_minor": 2
}
