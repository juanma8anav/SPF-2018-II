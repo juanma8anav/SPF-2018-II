{
 "cells": [
  {
   "cell_type": "code",
   "execution_count": 1,
   "metadata": {
    "collapsed": true
   },
   "outputs": [],
   "source": [
    "import numpy as np\n",
    "from functools import reduce\n",
    "import random\n",
    "from decimal import *\n",
    "getcontext().prec = 6"
   ]
  },
  {
   "cell_type": "code",
   "execution_count": 2,
   "metadata": {
    "collapsed": false
   },
   "outputs": [
    {
     "ename": "IndentationError",
     "evalue": "unexpected indent (<ipython-input-2-f6cccead34d9>, line 2)",
     "output_type": "error",
     "traceback": [
      "\u001b[1;36m  File \u001b[1;32m\"<ipython-input-2-f6cccead34d9>\"\u001b[1;36m, line \u001b[1;32m2\u001b[0m\n\u001b[1;33m    x = (lambda (a, b, c : a + b + c))\u001b[0m\n\u001b[1;37m    ^\u001b[0m\n\u001b[1;31mIndentationError\u001b[0m\u001b[1;31m:\u001b[0m unexpected indent\n"
     ]
    }
   ],
   "source": [
    "#%%LAMBDA\n",
    " x = (lambda (a, b, c : a + b + c))\n",
    "#print(x(5, 6, 2))\n",
    "\n",
    "#%%MAP\n",
    "items = [1, 2, 3, 4, 5]\n",
    "squared = []\n",
    "for i in items:\n",
    "    squared.append(i**2)\n",
    "    \n",
    "items = [1, 2, 3, 4, 5]\n",
    "squared = list(map(lambda x: x**2, items))\n",
    "\n",
    "#%%REDUCE\n",
    "product = 1\n",
    "list = [1, 2, 3, 4]\n",
    "for num in list:\n",
    "    product = product * num\n",
    "    \n",
    "from functools import reduce\n",
    "product = reduce((lambda x, y: x * y), [1, 2, 3, 4])\n",
    "#lo que esta funci'on hizo fue multplicar entre si los numeros de la lista\n",
    "# importing functools for reduce() \n",
    "import functools \n",
    "  \n",
    "# initializing list \n",
    "lis = [ 1 , 3, 5, 6, 2, ] \n",
    "  \n",
    "# using reduce to compute sum of list \n",
    "print (\"The sum of the list elements is : \",end=\"\") \n",
    "print (functools.reduce(lambda a,b : a+b,lis)) \n",
    "  \n",
    "# using reduce to compute maximum element from list \n",
    "print (\"The maximum element of the list is : \",end=\"\") \n",
    "print (functools.reduce(lambda a,b : a if a > b else b,lis)) \n"
   ]
  },
  {
   "cell_type": "code",
   "execution_count": 18,
   "metadata": {
    "collapsed": false
   },
   "outputs": [],
   "source": [
    "#%%Problema 1\n",
    "#Python simulate  coin flip\n",
    "\n",
    "import random\n",
    "\n",
    "def heads_tails(number_of_flips):\n",
    "    tail_count = 0\n",
    "    head_count = 0\n",
    "    for i in range (number_of_flips):\n",
    "        rand = random.randint(1,2)\n",
    "        if rand ==1:\n",
    "            tail_count += 1\n",
    "            print(tail_count, 'tails')\n",
    "        else:\n",
    "            head_count -=1 \n",
    "            print(head_count, 'heads')\n",
    "#    print('tails', tail_count)\n",
    "#    print('heads', head_count)\n",
    "dif = list(map(lambda head_count, tail_count: if )\n",
    "\n",
    "r = 1000\n",
    "for i in range(r):\n",
    "    if abs(head_count + tail_count) !=3:\n",
    "#        dsv_std =\n",
    "#        prom = \n",
    "#        \n",
    "        \n",
    "        \n",
    "    \n",
    "        \n",
    "#while dif !=3\n"
   ]
  },
  {
   "cell_type": "code",
   "execution_count": 16,
   "metadata": {
    "collapsed": false
   },
   "outputs": [
    {
     "name": "stdout",
     "output_type": "stream",
     "text": [
      "[0, 0, 2, 2, 0]\n"
     ]
    }
   ],
   "source": [
    "#%% problema 2\n",
    "Mvendidas = [2,3,4,5,6,]\n",
    "Ndias = [4,7,8,5,1]\n",
    "tot = [25, 25, 25, 25, 25]\n",
    "func = list(map(lambda x,y,z: (x*y)/z, Mvendidas,Ndias,tot))\n",
    "\n",
    "func2 = list(map(lambda  x :x+x, func))\n",
    "print(func2)\n"
   ]
  },
  {
   "cell_type": "code",
   "execution_count": 23,
   "metadata": {
    "collapsed": false
   },
   "outputs": [
    {
     "ename": "SyntaxError",
     "evalue": "invalid syntax (<ipython-input-23-dc8e84b0f656>, line 27)",
     "output_type": "error",
     "traceback": [
      "\u001b[1;36m  File \u001b[1;32m\"<ipython-input-23-dc8e84b0f656>\"\u001b[1;36m, line \u001b[1;32m27\u001b[0m\n\u001b[1;33m    lambda t1,  g: if t1 ==7 or t1 ==11: g +=1\u001b[0m\n\u001b[1;37m                    ^\u001b[0m\n\u001b[1;31mSyntaxError\u001b[0m\u001b[1;31m:\u001b[0m invalid syntax\n"
     ]
    }
   ],
   "source": [
    "'''El juego de dados requiere que el jugador arroje dos dados una o m´as veces hasta que se llegue a una\n",
    "decisi´on sobre si ´el (o ella) gana o pierde. El gana si la primera tirada resulta en una suma de 7 u 11 ´\n",
    "o, alternativamente, si la primera suma es 4, 5, 6, 8, 9 o 10 y la misma suma reaparece antes de que\n",
    "aparezca una suma de 7. Por el contrario, pierde si la primera tirada resulta en una suma de 2, 3 o 12 o,\n",
    "alternativamente, si la primera suma es 4, 5, 6, 8, 9 o 10 y aparece una suma de 7 antes de la primera\n",
    "suma reaparece.\n",
    "a) calcule la probabilidad de ganar corriendo 10,000 simulaciones.\n",
    "b) Imagina que cada juego ganas o pierdes $50. Si inicias con $500. ¿Cu´al es tu valor esperado de dinero\n",
    "despu´es de 10 juegos? ¿y el m´as probable? ¿Cu´al es la probabilidad de ganar dinero?.'''\n",
    "\n",
    "\n",
    "#%% Problema 4\n",
    "S = 10000\n",
    "d1 = random.randint(1,6)\n",
    "d2 = random.randint(1,6)\n",
    "d3 = random.randint(1,6)\n",
    "d4 = random.randint(1,6)\n",
    "t1 = d1 + d2\n",
    "t2 = d3 + d4\n",
    "xt1 = np.zeros(10000).append(t1)\n",
    "tf1 =\n",
    "tf2\n",
    "i = 0\n",
    "\n",
    "for i in range(S):\n",
    "    while \n",
    "\n",
    "y =list(map(lambda t1, t2:if True if t1 = 7 or t1 =11, tf, ))\n",
    "\n",
    "\n",
    "if t1 == 7 or t1 == 11:\n",
    "    x.append(1)\n",
    "    elif t2 ==\n",
    "\n",
    "\n",
    "for S in range(x):\n",
    "    \n",
    "     list(map(lambda t1, t2: t1+t2, matriz1, matriz2 ))\n",
    " \n",
    "\n",
    "\n",
    "\n",
    "\n",
    "w1 = lambda t1, t2, g: if t1 ==7 or t1 ==11: g +=1 \n",
    "w2\n",
    "L1\n",
    "L2\n",
    "    \n",
    "\n",
    "# Crearemos un apostador simple. Las caracterísitcas son: se empieza con un capital inicial,\n",
    "# siempre se apuesta lo mismo, y se va a apostar un número determinado de veces.\n",
    "def apostador(cap_inicial, apuesta, n_apuestas):\n",
    "    capital = cap_inicial\n",
    "    ccapital = [capital]\n",
    "    for i in range(n_apuestas):\n",
    "        if tirar_dado():\n",
    "            capital += apuesta\n",
    "            ccapital.append(capital)\n",
    "        else:\n",
    "            capital -= apuesta\n",
    "            ccapital.append(capital)\n",
    "    return ccapital,capital\n",
    "\n",
    "\n",
    "if t1 == 7 or 11:\n",
    "    c =1\n",
    "elif t1 == t2 == 4 and t1 == t2 == 5 an t1 == t2 == 4, t1 == t2 == 4, t1 == t2 == 4, t1 == t2 == 4,  != 7:\n",
    "    c = 1 \n",
    "elif t1 == 2 or 3 or 12:\n",
    "     c = -1\n",
    "\n",
    "tasa = random.randint(0.08, 0.12)\n",
    "i = 1\n",
    "money = np.zeros(10000)\n",
    "rend = (1 + tasa )^6\n",
    "\n",
    "lambda rend, money: for i in money "
   ]
  },
  {
   "cell_type": "code",
   "execution_count": null,
   "metadata": {
    "collapsed": true
   },
   "outputs": [],
   "source": []
  }
 ],
 "metadata": {
  "kernelspec": {
   "display_name": "Python [Root]",
   "language": "python",
   "name": "Python [Root]"
  },
  "language_info": {
   "codemirror_mode": {
    "name": "ipython",
    "version": 2
   },
   "file_extension": ".py",
   "mimetype": "text/x-python",
   "name": "python",
   "nbconvert_exporter": "python",
   "pygments_lexer": "ipython2",
   "version": "2.7.12"
  }
 },
 "nbformat": 4,
 "nbformat_minor": 0
}
